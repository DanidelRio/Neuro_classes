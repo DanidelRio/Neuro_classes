{
 "cells": [
  {
   "cell_type": "code",
   "execution_count": 1,
   "id": "c36916ad",
   "metadata": {},
   "outputs": [],
   "source": [
    "import math\n",
    "import numpy as np\n",
    "import matplotlib.pyplot as plt\n",
    "\n",
    "# import scipy.io"
   ]
  },
  {
   "cell_type": "markdown",
   "id": "022d59eb",
   "metadata": {},
   "source": [
    "# Part 3: Point Process Model Validation"
   ]
  },
  {
   "cell_type": "code",
   "execution_count": 2,
   "id": "1981b898",
   "metadata": {},
   "outputs": [],
   "source": [
    "[STimes, SCount] = np.load('hw2problem2A.npy', allow_pickle=True)"
   ]
  },
  {
   "cell_type": "code",
   "execution_count": null,
   "id": "1708c4f5",
   "metadata": {},
   "outputs": [],
   "source": [
    "# probability * values for evey direction\n",
    "# Log of this\n",
    "# "
   ]
  },
  {
   "cell_type": "markdown",
   "id": "fdbebf27",
   "metadata": {},
   "source": [
    "Using the data provided evaluate which set of parameters best describes the data. (Hint: You should calculate the likelihood of each model. In other words, calculate the probability of, e.g., data from 1000 trials of the simulated data given one model or the other?)"
   ]
  },
  {
   "cell_type": "markdown",
   "id": "b7645f33",
   "metadata": {},
   "source": [
    "Log likelihood of the gaussian probability:\n",
    "\n",
    "$$\\sum log(\\frac{1}{\\sqrt{2\\pi \\sigma^2}}\\cdot \\exp (-\\frac{1}{2} (x_n - \\mu)^2)/\\sigma^2)$$"
   ]
  },
  {
   "cell_type": "code",
   "execution_count": 60,
   "id": "60fde669",
   "metadata": {},
   "outputs": [],
   "source": [
    "def log_likelihood(x, sigma=9.5, mu=10.2): #Gaussian distribution\n",
    "    \n",
    "    whole_sum = 0\n",
    "    denominator = 1/(np.sqrt(2*np.pi*sigma**2))\n",
    "    \n",
    "    for i in range(len(x)):\n",
    "        exp_arg = -0.5*(x[i]-mu)**2/sigma**2\n",
    "        whole_sum += np.log(denominator*np.exp(exp_arg))\n",
    "    \n",
    "    return whole_sum\n",
    "\n",
    "\n",
    "def Poisson(x_d, lambda_d=9.8): # Likelihood equation for Poisson distribution\n",
    "    \n",
    "    whole_sum = 0\n",
    "    \n",
    "    for i in range(len(x_d)):\n",
    "        \n",
    "        log_term = x_d[i]*np.log(lambda_d)\n",
    "        factorial = np.log(np.double(np.math.factorial(x_d[i])))\n",
    "        whole_sum += -lambda_d + log_term - factorial\n",
    "        \n",
    "    return whole_sum"
   ]
  },
  {
   "cell_type": "code",
   "execution_count": 63,
   "id": "3e1e5d14",
   "metadata": {},
   "outputs": [
    {
     "name": "stdout",
     "output_type": "stream",
     "text": [
      "Gaussian probability:  -3226.7710520327637\n",
      "Poisson probability:  -2576.7662241483417\n",
      "The model that best fits the data is the Poisson likelihood.\n"
     ]
    }
   ],
   "source": [
    "gaussian_likehood = log_likelihood(SCount[:1000])\n",
    "poisson_likehood = Poisson(SCount[:1000])\n",
    "\n",
    "print(\"Gaussian probability: \",gaussian_likehood)\n",
    "print(\"Poisson probability: \",poisson_likehood)\n",
    "\n",
    "# We know that the model that best fits the data is the maximum\n",
    "if gaussian_likehood > poisson_likehood:\n",
    "    print(\"The model that best fits the data is the Gaussian likelihood.\")\n",
    "    \n",
    "elif gaussian_likehood < poisson_likehood:\n",
    "    print(\"The model that best fits the data is the Poisson likelihood.\")\n",
    "    \n",
    "else:\n",
    "    print(\"Something strange is happening.\")"
   ]
  },
  {
   "cell_type": "markdown",
   "id": "b794c870",
   "metadata": {},
   "source": [
    "### Part b"
   ]
  },
  {
   "cell_type": "code",
   "execution_count": 64,
   "id": "affe8fb8",
   "metadata": {},
   "outputs": [],
   "source": [
    "# train_test_split function for selaecting random indices of the data.\n",
    "# Consider the mean and stdev of the training data instead of the values given in part a\n",
    "# Then, calculate the same you did for part a, but with the test data."
   ]
  },
  {
   "cell_type": "code",
   "execution_count": null,
   "id": "699f431c",
   "metadata": {},
   "outputs": [],
   "source": []
  },
  {
   "cell_type": "markdown",
   "id": "5a52d160",
   "metadata": {},
   "source": [
    "### Part c\n",
    "\n",
    "Consider the spike frequency in 1s time window. Is it constant? Does it change?"
   ]
  },
  {
   "cell_type": "code",
   "execution_count": null,
   "id": "56ee62d6",
   "metadata": {},
   "outputs": [],
   "source": []
  },
  {
   "cell_type": "code",
   "execution_count": null,
   "id": "8d942c97",
   "metadata": {},
   "outputs": [],
   "source": []
  },
  {
   "cell_type": "code",
   "execution_count": 3,
   "id": "6037b2e9",
   "metadata": {},
   "outputs": [],
   "source": [
    "def gaussian(x, sigma=9.5, mu=10.2):\n",
    "    argument = -(x-mu)**2/(2*sigma**2)\n",
    "    return np.exp(argument)/(sigma*np.sqrt(2*np.pi))\n",
    "\n",
    "def poisson(n, lambd=9.8):\n",
    "    return lambd**n*np.exp(-lambd)/math.factorial(n)"
   ]
  },
  {
   "cell_type": "code",
   "execution_count": 4,
   "id": "f182002c",
   "metadata": {},
   "outputs": [],
   "source": [
    "t = [i for i in range(40)]\n",
    "\n",
    "gauss = [gaussian(t[i]) for i in range(len(t))]\n",
    "poiss = [poisson(t[i]) for i in range(len(t))]"
   ]
  },
  {
   "cell_type": "code",
   "execution_count": 5,
   "id": "95fda69f",
   "metadata": {},
   "outputs": [
    {
     "data": {
      "image/png": "[encoded data removed]",
      "text/plain": [
       "<Figure size 432x288 with 1 Axes>"
      ]
     },
     "metadata": {
      "needs_background": "light"
     },
     "output_type": "display_data"
    }
   ],
   "source": [
    "plt.plot(t, gauss, label=\"Gaussian\", marker=\"o\")\n",
    "plt.plot(t, poiss, label=\"Poisson\", marker=\"o\")\n",
    "plt.legend()\n",
    "plt.show()"
   ]
  },
  {
   "cell_type": "code",
   "execution_count": null,
   "id": "5be49443",
   "metadata": {},
   "outputs": [],
   "source": []
  },
  {
   "cell_type": "code",
   "execution_count": null,
   "id": "aaaa7907",
   "metadata": {},
   "outputs": [],
   "source": []
  },
  {
   "cell_type": "code",
   "execution_count": null,
   "id": "af85427d",
   "metadata": {},
   "outputs": [],
   "source": []
  },
  {
   "cell_type": "markdown",
   "id": "cdde1be9",
   "metadata": {},
   "source": [
    "# Exercise 4: Describing real data\n",
    "\n",
    "Spike times (in microseconds) for 10 neurons are given in spiketimes, a 10 element numpy array, where each element is a numpy vector of spiketimes. The time-varying stimulus is described in the stimulus numpy array, where the first column is timestamps (which follow regular 5 ms steps) and the second column is the direction of motion (in degrees) of a moving bar. Stimulus directions are randomized, each direction is maintained for 4 s, and directions are repeated 8 times. You can load the data into python using numpy.load():"
   ]
  },
  {
   "cell_type": "code",
   "execution_count": 8,
   "id": "e25279aa",
   "metadata": {},
   "outputs": [],
   "source": [
    "[stimulus, spiketimes] = np.load('hw2problem3.npy', allow_pickle=True)"
   ]
  },
  {
   "cell_type": "code",
   "execution_count": 17,
   "id": "4b5028ca",
   "metadata": {},
   "outputs": [
    {
     "name": "stdout",
     "output_type": "stream",
     "text": [
      "(115200, 2)\n",
      "115200\n"
     ]
    }
   ],
   "source": [
    "np.shape(SpikeTimes)\n",
    "print(np.shape(stimulus))\n",
    "print(len(stimulus))"
   ]
  },
  {
   "cell_type": "code",
   "execution_count": 52,
   "id": "0b517cb0",
   "metadata": {},
   "outputs": [
    {
     "name": "stdout",
     "output_type": "stream",
     "text": [
      "[120, 120, 120, 120, 120, 120, 120, 120, 120, 120, 120, 120, 120, 120, 120, 120, 120, 120, 120, 120, 120, 120, 120, 120, 120, 120, 120, 120, 120, 120, 120, 120, 120, 120, 120, 120, 120, 120, 120, 120, 120, 120, 120, 120, 120, 120, 120, 120, 120, 120, 120, 120, 120, 120, 120, 120, 120, 120, 120, 120, 120, 120, 120, 120, 120, 120, 120, 120, 120, 120, 120, 120, 120, 120, 120, 120, 120, 120, 120, 120, 120, 120, 120, 120, 120, 120, 120, 120, 120, 120, 120, 120, 120, 120, 120, 120, 120, 120, 120, 120, 120, 120, 120, 120, 120, 120, 120, 120, 120, 120, 120, 120, 120, 120, 120, 120, 120, 120, 120, 120, 120, 120, 120, 120, 120, 120, 120, 120, 120, 120, 120, 120, 120, 120, 120, 120, 120, 120, 120, 120, 120, 120, 120, 120, 120, 120, 120, 120, 120, 120, 120, 120, 120, 120, 120, 120, 120, 120, 120, 120, 120, 120, 120, 120, 120, 120, 120, 120, 120, 120, 120, 120, 120, 120, 120, 120, 120, 120, 120, 120, 120, 120, 120, 120, 120, 120, 120, 120, 120, 120, 120, 120, 120, 120, 120, 120, 120, 120, 120, 120, 120, 120, 120, 120, 120, 120, 120, 120, 120, 120, 120, 120, 120, 120, 120, 120, 120, 120, 120, 120, 120, 120, 120, 120, 120, 120, 120, 120, 120, 120, 120, 120, 120, 120, 120, 120, 120, 120, 120, 120, 120, 120, 120, 120, 120, 120, 120, 120, 120, 120, 120, 120, 120, 120, 120, 120, 120, 120, 120, 120, 120, 120, 120, 120, 120, 120, 120, 120, 120, 120, 120, 120, 120, 120, 120, 120, 120, 120, 120, 120, 120, 120, 120, 120, 120, 120, 120, 120, 120, 120, 120, 120, 120, 120, 120, 120, 120, 120, 120, 120, 120, 120, 120, 120, 120, 120, 120, 120, 120, 120, 120, 120, 120, 120, 120, 120, 120, 120, 120, 120, 120, 120, 120, 120, 120, 120, 120, 120, 120, 120, 120, 120, 120, 120, 120, 120, 120, 120, 120, 120, 120, 120, 120, 120, 120, 120, 120, 120, 120, 120, 120, 120, 120, 120, 120, 120, 120, 120, 120, 120, 120, 120, 120, 120, 120, 120, 120, 120, 120, 120, 120, 120, 120, 120, 120, 120, 120, 120, 120, 120, 120, 120, 120, 120, 120, 120, 120, 120, 120, 120, 120, 120, 120, 120, 120, 120, 120, 120, 120, 120, 120, 120, 120, 120, 120, 120, 120, 120, 120, 120, 120, 120, 120, 120, 120, 120, 120, 120, 120, 120, 120, 120, 120, 120, 120, 120, 120, 120, 120, 120, 120, 120, 120, 120, 120, 120, 120, 120, 120, 120, 120, 120, 120, 120, 120, 120, 120, 120, 120, 120, 120, 120, 120, 120, 120, 120, 120, 120, 120, 120, 120, 120, 120, 120, 120, 120, 120, 120, 120, 120, 120, 120, 120, 120, 120, 120, 120, 120, 120, 120, 120, 120, 120, 120, 120, 120, 120, 120, 120, 120, 120, 120, 120, 120, 120, 120, 120, 120, 120, 120, 120, 120, 120, 120, 120, 120, 120, 120, 120, 120, 120, 120, 120, 120, 120, 120, 120, 120, 120, 120, 120, 120, 120, 120, 120, 120, 120, 120, 120, 120, 120, 120, 120, 120, 120, 120, 120, 120, 120, 120, 120, 120, 120, 120, 120, 120, 120, 120, 120, 120, 120, 120, 120, 120, 120, 120, 120, 120, 120, 120, 120, 120, 120, 120, 120, 120, 120, 120, 120, 120, 120, 120, 120, 120, 120, 120, 120, 120, 120, 120, 120, 120, 120, 120, 120, 120, 120, 120, 120, 120, 120, 120, 120, 120, 120, 120, 120, 120, 120, 120, 120, 120, 120, 120, 120, 120, 120, 120, 120, 120, 120, 120, 120, 120, 120, 120, 120, 120, 120, 120, 120, 120, 120, 120, 120, 120, 120, 120, 120, 120, 120, 120, 120, 120, 120, 120, 120, 120, 120, 120, 120, 120, 120, 120, 120, 120, 120, 120, 120, 120, 120, 120, 120, 120, 120, 120, 120, 120, 120, 120, 120, 120, 120, 120, 120, 120, 120, 120, 120, 120, 120, 120, 120, 120, 120, 120, 120, 120, 120, 120, 120, 120, 120, 120, 120, 120, 120, 120, 120, 120, 120, 120, 120, 120, 120, 120, 120, 120, 120, 120, 120, 120, 120, 120, 120, 120, 120, 120, 120, 120, 120, 120, 120, 120, 120, 120, 120, 120, 120, 120, 120, 120, 120, 120, 120, 120, 120, 120, 120, 120, 120, 120, 120, 120, 120, 120, 120, 120, 120, 120, 120, 120, 120, 120, 120, 120, 120, 120, 120, 120, 120, 120, 120, 120, 120, 120, 120, 120, 120, 120, 120, 120, 120, 120, 120, 120, 120, 120, 120, 120, 120, 120, 120, 120, 120, 120, 120, 120, 120, 120, 120, 120, 120, 120, 120, 120, 120, 120, 120, 120, 120, 120, 120, 120, 120, 120, 120, 120, 120, 0]\n"
     ]
    }
   ],
   "source": [
    "directions = [stimulus[i][1] for i in range(len(stimulus))]\n",
    "print(directions[1601:2401]) # Each 800 values, there is a change in direction"
   ]
  },
  {
   "cell_type": "code",
   "execution_count": 23,
   "id": "f8ee4b5c",
   "metadata": {},
   "outputs": [
    {
     "data": {
      "text/plain": [
       "[0,\n",
       " 20,\n",
       " 40,\n",
       " 60,\n",
       " 80,\n",
       " 100,\n",
       " 120,\n",
       " 140,\n",
       " 160,\n",
       " 180,\n",
       " 200,\n",
       " 220,\n",
       " 240,\n",
       " 260,\n",
       " 280,\n",
       " 300,\n",
       " 320,\n",
       " 340,\n",
       " 360]"
      ]
     },
     "execution_count": 23,
     "metadata": {},
     "output_type": "execute_result"
    }
   ],
   "source": [
    "possible_directions = [i*20 for i in range(19)]\n",
    "possible_directions"
   ]
  },
  {
   "cell_type": "code",
   "execution_count": null,
   "id": "78de9be7",
   "metadata": {},
   "outputs": [],
   "source": [
    "# stimulus direction vs average spikes per second."
   ]
  },
  {
   "cell_type": "code",
   "execution_count": 73,
   "id": "dfc79532",
   "metadata": {},
   "outputs": [
    {
     "data": {
      "text/plain": [
       "144.0"
      ]
     },
     "execution_count": 73,
     "metadata": {},
     "output_type": "execute_result"
    }
   ],
   "source": [
    "len(stimulus)/800"
   ]
  },
  {
   "cell_type": "code",
   "execution_count": 77,
   "id": "3f97bdcc",
   "metadata": {},
   "outputs": [],
   "source": [
    "average_spikes_and_direction = []\n",
    "spikes = 0\n",
    "i = 0\n",
    "\n",
    "while i < round(len(stimulus)/800-1):\n",
    "    for direction in possible_directions:\n",
    "        if stimulus[i*800][1] == direction: # Sums the first 800 values and obtains the average spike counts in those 4 s.\n",
    "            average_spikes_and_direction.append([np.sum(stimulus[i:800+i][1])/4, direction])\n",
    "            i += 1\n",
    "        \n",
    "# print(average_spikes_and_direction)            "
   ]
  },
  {
   "cell_type": "code",
   "execution_count": 76,
   "id": "c1ea15b1",
   "metadata": {},
   "outputs": [],
   "source": [
    "# Each direction is repeated 8 times\n",
    "\n",
    "average_spikes = np.zeros(len(possible_directions))\n",
    "\n",
    "for i in range(len(average_spikes)):\n",
    "    for direction_i in range(len(possible_directions)):\n",
    "        if average_spikes_and_direction[i][1] == possible_directions[direction_i]: # Add the value of averaged spikes\n",
    "            average_spikes[direction_i] += average_spikes_and_direction[i][1]\n",
    "\n",
    "average_spikes = average_spikes/8 # Obtainig the average because every direction is repeated 8 times\n",
    "    "
   ]
  },
  {
   "cell_type": "code",
   "execution_count": 78,
   "id": "879cb103",
   "metadata": {
    "scrolled": true
   },
   "outputs": [
    {
     "data": {
      "image/png": "[encoded data removed]",
      "text/plain": [
       "<Figure size 432x288 with 1 Axes>"
      ]
     },
     "metadata": {
      "needs_background": "light"
     },
     "output_type": "display_data"
    }
   ],
   "source": [
    "plt.plot(possible_directions, average_spikes)\n",
    "plt.show()"
   ]
  },
  {
   "cell_type": "code",
   "execution_count": 103,
   "id": "c04e1aa8",
   "metadata": {},
   "outputs": [
    {
     "data": {
      "text/plain": [
       "[0,\n",
       " 20,\n",
       " 40,\n",
       " 60,\n",
       " 80,\n",
       " 100,\n",
       " 120,\n",
       " 140,\n",
       " 160,\n",
       " 180,\n",
       " 200,\n",
       " 220,\n",
       " 240,\n",
       " 260,\n",
       " 280,\n",
       " 300,\n",
       " 320,\n",
       " 340,\n",
       " 360]"
      ]
     },
     "execution_count": 103,
     "metadata": {},
     "output_type": "execute_result"
    }
   ],
   "source": [
    "possible_directions"
   ]
  },
  {
   "cell_type": "code",
   "execution_count": 117,
   "id": "1a78657c",
   "metadata": {},
   "outputs": [
    {
     "data": {
      "text/plain": [
       "2632478"
      ]
     },
     "execution_count": 117,
     "metadata": {},
     "output_type": "execute_result"
    }
   ],
   "source": [
    "stimulus[0][0]"
   ]
  },
  {
   "cell_type": "code",
   "execution_count": 122,
   "id": "b291b5d0",
   "metadata": {},
   "outputs": [
    {
     "name": "stdout",
     "output_type": "stream",
     "text": [
      "[[18, 0], [7, 1], [29, 2], [2, 3], [22, 4], [47, 5], [51, 6], [1, 7], [34, 8]]\n"
     ]
    }
   ],
   "source": [
    "spikes_and_direction = []\n",
    "\n",
    "for neuron_i in range(len(spiketimes)): # For each neuron\n",
    "    contador = 0\n",
    "    \n",
    "    for i in range(100):\n",
    "        if  stimulus[0][0] < spiketimes[neuron_i][i]  and   spiketimes[neuron_i][i] <= stimulus[800][0]:\n",
    "            contador+= 1\n",
    "            \n",
    "        elif spiketimes[neuron_i][i] > stimulus[800][0]:\n",
    "            spikes_and_direction.append([contador, neuron_i])\n",
    "#             append\n",
    "#             print(contador)\n",
    "            break\n",
    "print(spikes_and_direction)"
   ]
  },
  {
   "cell_type": "code",
   "execution_count": 115,
   "id": "fba8ceac",
   "metadata": {},
   "outputs": [
    {
     "ename": "IndexError",
     "evalue": "index 115343 is out of bounds for axis 0 with size 115200",
     "output_type": "error",
     "traceback": [
      "\u001b[0;31m---------------------------------------------------------------------------\u001b[0m",
      "\u001b[0;31mIndexError\u001b[0m                                Traceback (most recent call last)",
      "\u001b[0;32m<ipython-input-115-0d8dc0a9c986>\u001b[0m in \u001b[0;36m<module>\u001b[0;34m\u001b[0m\n\u001b[1;32m     13\u001b[0m             \u001b[0;31m# When we complete one iteration of direction, the events are shifted by 800. Sure???\u001b[0m\u001b[0;34m\u001b[0m\u001b[0;34m\u001b[0m\u001b[0;34m\u001b[0m\u001b[0m\n\u001b[1;32m     14\u001b[0m \u001b[0;34m\u001b[0m\u001b[0m\n\u001b[0;32m---> 15\u001b[0;31m             \u001b[0;32mif\u001b[0m \u001b[0mspiketimes\u001b[0m\u001b[0;34m[\u001b[0m\u001b[0mneuron_i\u001b[0m\u001b[0;34m]\u001b[0m\u001b[0;34m[\u001b[0m\u001b[0mevents_i\u001b[0m\u001b[0;34m]\u001b[0m\u001b[0;34m>\u001b[0m\u001b[0mstimulus\u001b[0m\u001b[0;34m[\u001b[0m\u001b[0mdir_i\u001b[0m\u001b[0;34m+\u001b[0m\u001b[0;36m800\u001b[0m\u001b[0;34m*\u001b[0m\u001b[0;34m(\u001b[0m\u001b[0mdir_i\u001b[0m\u001b[0;34m+\u001b[0m\u001b[0;36m1\u001b[0m\u001b[0;34m)\u001b[0m\u001b[0;34m]\u001b[0m\u001b[0;34m[\u001b[0m\u001b[0;36m0\u001b[0m\u001b[0;34m]\u001b[0m\u001b[0;34m:\u001b[0m \u001b[0;31m# Condition for breaking the cycle\u001b[0m\u001b[0;34m\u001b[0m\u001b[0;34m\u001b[0m\u001b[0m\n\u001b[0m\u001b[1;32m     16\u001b[0m                 \u001b[0mspikes_and_direction\u001b[0m\u001b[0;34m.\u001b[0m\u001b[0mappend\u001b[0m\u001b[0;34m(\u001b[0m\u001b[0;34m[\u001b[0m\u001b[0mspikes\u001b[0m\u001b[0;34m,\u001b[0m \u001b[0mstimulus\u001b[0m\u001b[0;34m[\u001b[0m\u001b[0mdir_i\u001b[0m\u001b[0;34m]\u001b[0m\u001b[0;34m[\u001b[0m\u001b[0;36m1\u001b[0m\u001b[0;34m]\u001b[0m\u001b[0;34m,\u001b[0m \u001b[0mneuron_i\u001b[0m\u001b[0;34m]\u001b[0m\u001b[0;34m)\u001b[0m\u001b[0;34m\u001b[0m\u001b[0;34m\u001b[0m\u001b[0m\n\u001b[1;32m     17\u001b[0m                 \u001b[0;31m#number of spikes in 4s and direction\u001b[0m\u001b[0;34m\u001b[0m\u001b[0;34m\u001b[0m\u001b[0;34m\u001b[0m\u001b[0m\n",
      "\u001b[0;31mIndexError\u001b[0m: index 115343 is out of bounds for axis 0 with size 115200"
     ]
    }
   ],
   "source": [
    "spiketimes # Aqui hay un vector con los tiempos en los que disparo cada neurona de las 10.\n",
    "# Entonces lo que queremos son ventanas de tiempo,\n",
    "# Si estamos en la primer ventana a 240 grados, contar cuantas veces disparo la neurona 1, 2, 3 , etc\n",
    "\n",
    "spikes_and_direction = []\n",
    "\n",
    "for dir_i in range(len(possible_directions*8)): # Each direction is repeated 8 times\n",
    "    \n",
    "    for neuron_i in range(len(spiketimes)): # For each neuron\n",
    "        spikes = 0\n",
    "        \n",
    "        for events_i in range(len(spiketimes[neuron_i])):\n",
    "            # When we complete one iteration of direction, the events are shifted by 800. Sure???\n",
    "            \n",
    "            if spiketimes[neuron_i][events_i]>stimulus[dir_i+800*(dir_i+1)][0]: # Condition for breaking the cycle\n",
    "                spikes_and_direction.append([spikes, stimulus[dir_i][1], neuron_i])\n",
    "                #number of spikes in 4s and direction\n",
    "                break # Finishes the cycle for this neuron and continues with next neuron\n",
    "            \n",
    "            # notice the following is a fixed window length until we change direction.\n",
    "            elif stimulus[dir_i+800*dir_i][0]<spiketimes[neuron_i][events_i] and spiketimes[neuron_i][events_i]<stimulus[dir_i+800*(dir_i+1)][0]:\n",
    "                spikes += 1 # Add one in the spikecounts for this neuron\n",
    "            \n",
    "\n",
    "print(spikes_and_direction)  "
   ]
  },
  {
   "cell_type": "markdown",
   "id": "6fa98b69",
   "metadata": {},
   "source": [
    "# Note how we are simply repeating the same spikecounts for each neuron. There is a problem"
   ]
  },
  {
   "cell_type": "code",
   "execution_count": 113,
   "id": "b7c59849",
   "metadata": {},
   "outputs": [],
   "source": [
    "# Each direction is repeated 8 times\n",
    "\n",
    "average_spikes = np.zeros(len(possible_directions))\n",
    "\n",
    "for i in range(len(average_spikes)):\n",
    "    for direction_i in range(len(possible_directions)):\n",
    "        if spikes_and_direction[i][1] == possible_directions[direction_i]: # Add the value of averaged spikes\n",
    "            average_spikes[direction_i] += spikes_and_direction[i][1]\n",
    "\n",
    "average_spikes = average_spikes/32 # Obtaining the average because every direction is repeated 8 times for 4 seconds\n",
    "# We are interested in the average per second.\n",
    "    "
   ]
  },
  {
   "cell_type": "code",
   "execution_count": 114,
   "id": "bf318327",
   "metadata": {},
   "outputs": [
    {
     "data": {
      "image/png": "[encoded data removed]",
      "text/plain": [
       "<Figure size 432x288 with 1 Axes>"
      ]
     },
     "metadata": {
      "needs_background": "light"
     },
     "output_type": "display_data"
    }
   ],
   "source": [
    "plt.plot(possible_directions, average_spikes)\n",
    "plt.show()"
   ]
  },
  {
   "cell_type": "code",
   "execution_count": null,
   "id": "86eea08e",
   "metadata": {},
   "outputs": [],
   "source": [
    "np.mean(SpikeCount) # This is the mean firing rate"
   ]
  },
  {
   "cell_type": "code",
   "execution_count": null,
   "id": "4287e97a",
   "metadata": {},
   "outputs": [],
   "source": []
  },
  {
   "cell_type": "code",
   "execution_count": null,
   "id": "b3199411",
   "metadata": {},
   "outputs": [],
   "source": [
    "SCount"
   ]
  },
  {
   "cell_type": "code",
   "execution_count": null,
   "id": "e4f0bc48",
   "metadata": {},
   "outputs": [],
   "source": [
    "SpikeTimes4 = mat4[\"spiketimes\"][0]\n",
    "stimulus = mat4[\"stimulus\"]"
   ]
  },
  {
   "cell_type": "code",
   "execution_count": null,
   "id": "6f5bff6b",
   "metadata": {},
   "outputs": [],
   "source": [
    "length = len(stimulus)\n",
    "timestamp = np.zeros(length)\n",
    "direction_of_motion = np.zeros(length)\n",
    "\n",
    "for i in range(len(stimulus)):\n",
    "    timestamp[i], direction_of_motion[i] = stimulus[i]"
   ]
  },
  {
   "cell_type": "code",
   "execution_count": null,
   "id": "5fd97654",
   "metadata": {},
   "outputs": [],
   "source": [
    "# Object refresher, https://www.geeksforgeeks.org/python-object/\n",
    "class Electrode:\n",
    "  def __init__(self, spiketimes):\n",
    "    self.spiketimes = spiketimes\n",
    "    self.length = len(spiketimes)"
   ]
  },
  {
   "cell_type": "code",
   "execution_count": null,
   "id": "be5667ea",
   "metadata": {},
   "outputs": [],
   "source": [
    "# For reshaping arrays, https://www.w3schools.com/python/numpy/numpy_array_reshape.asp\n",
    "electrode1 = Electrode(SpikeTimes4[0, 0].reshape(np.size(SpikeTimes4[0, 0])))\n",
    "electrode2 = Electrode(SpikeTimes4[0, 1].reshape(np.size(SpikeTimes4[0, 1])))\n",
    "electrode3 = Electrode(SpikeTimes4[0, 2].reshape(np.size(SpikeTimes4[0, 2])))\n",
    "electrode4 = Electrode(SpikeTimes4[0, 3].reshape(np.size(SpikeTimes4[0, 3])))\n",
    "electrode5 = Electrode(SpikeTimes4[0, 4].reshape(np.size(SpikeTimes4[0, 4])))\n",
    "electrode6 = Electrode(SpikeTimes4[0, 5].reshape(np.size(SpikeTimes4[0, 5])))\n",
    "electrode7 = Electrode(SpikeTimes4[0, 6].reshape(np.size(SpikeTimes4[0, 6])))\n",
    "electrode8 = Electrode(SpikeTimes4[0, 7].reshape(np.size(SpikeTimes4[0, 7])))\n",
    "electrode9 = Electrode(SpikeTimes4[0, 8].reshape(np.size(SpikeTimes4[0, 8])))\n",
    "electrode10 = Electrode(SpikeTimes4[0, 9].reshape(np.size(SpikeTimes4[0, 9])))\n",
    "\n",
    "electrode10.length"
   ]
  },
  {
   "cell_type": "code",
   "execution_count": null,
   "id": "f17214c2",
   "metadata": {},
   "outputs": [],
   "source": []
  },
  {
   "cell_type": "code",
   "execution_count": null,
   "id": "6efab042",
   "metadata": {},
   "outputs": [],
   "source": [
    "\n",
    "arr = SpikeTimes4[0, 0]\n",
    "electrode1 = arr.reshape(np.size(arr)) # For reshaping arrays, https://www.w3schools.com/python/numpy/numpy_array_reshape.asp\n",
    "\n",
    "arr = SpikeTimes4[0, 0]\n",
    "electrode1 = arr.reshape(np.size(arr)) # For reshaping arrays, https://www.w3schools.com/python/numpy/numpy_array_reshape.asp"
   ]
  },
  {
   "cell_type": "code",
   "execution_count": null,
   "id": "89690af7",
   "metadata": {
    "scrolled": true
   },
   "outputs": [],
   "source": [
    "plt.plot(electrode1, [1 for i in range(np.size(SpikeTimes4[0, 0]))], marker=\"o\")\n",
    "plt.show()"
   ]
  },
  {
   "cell_type": "code",
   "execution_count": null,
   "id": "92fc0324",
   "metadata": {},
   "outputs": [],
   "source": []
  }
 ],
 "metadata": {
  "kernelspec": {
   "display_name": "Python 3",
   "language": "python",
   "name": "python3"
  },
  "language_info": {
   "codemirror_mode": {
    "name": "ipython",
    "version": 3
   },
   "file_extension": ".py",
   "mimetype": "text/x-python",
   "name": "python",
   "nbconvert_exporter": "python",
   "pygments_lexer": "ipython3",
   "version": "3.8.8"
  }
 },
 "nbformat": 4,
 "nbformat_minor": 5
}
