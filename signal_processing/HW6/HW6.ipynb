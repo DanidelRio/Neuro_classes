{
 "cells": [
  {
   "cell_type": "markdown",
   "id": "07d74222",
   "metadata": {},
   "source": [
    "# Neural signal processing\n",
    "#### Daniela del Río\n",
    "\n",
    "\n",
    "## Exercise 1, review of generative models (30 pts)\n",
    "Write down simple pseudocode for the generation of simulated data for the following problems.\n",
    "\n",
    "Example. Classification of data into K classes using labeled training data where the data are conditionally Gaussian.\n",
    "\n",
    " 1. Generate a random number, k from 1, ..., K as the class identity. (Use the class prior probabilities to weight the choices.)\n",
    "\n",
    " 2. Sample a random Gaussian from a Gaussian distribution with mean mu_k and covariance Sigma_k.\n",
    "\n",
    "a. Clustering data into K clusters using a mixture of Gaussians model. (Hint: This might not be different from the example!)\n",
    "\n",
    "\n",
    "\n",
    "b. Dimensionality reduction from D\n",
    "-dimensional data to M\n",
    "\n",
    "-dimensional data, using probabilistic PCA.\n",
    "\n",
    "c. A linear dynamical system with Gaussian initial state, innovations, and observation noise (i.e., the generative model for a Kalman filter).\n",
    "\n",
    "\n",
    "\n",
    "## Exercise 2, convexity conditions for Poisson firing rate functions (30 pts)\n",
    "Consider a set of k=1…N rat hippocampal neurons in which the number of spikes observed follows a Poisson distribution, nk∼Poisson(e−g(x)), where g(x) is some function of the rat’s position x.\n",
    "\n",
    "(i.) Given an observation of spike counts, n=[n1,n2,…]T , what is the log likelihood function of the rats position x? What are the first and second derivatives of the log likelihood with respect to x?\n",
    "\n",
    "(ii.) What conditions on g(x) would ensure that e−g(x)\n",
    "is both convex and log-concave (i.e., log(e−g(x)) is concave)? These constraints come from “Maximum likelihood estimation of cascade point-process neural encoding models”."
   ]
  },
  {
   "cell_type": "code",
   "execution_count": null,
   "id": "5dcd6740",
   "metadata": {},
   "outputs": [],
   "source": []
  },
  {
   "cell_type": "code",
   "execution_count": 19,
   "id": "bce0a10a",
   "metadata": {},
   "outputs": [],
   "source": [
    "import numpy as np\n",
    "\n",
    "# import os.path\n",
    "# import scipy.io\n",
    "# import pandas as pd\n",
    "# import re\n",
    "# import glob\n",
    "import matplotlib.pyplot as plt\n",
    "# from sklearn.decomposition import PCA\n",
    "# from mpl_toolkits.mplot3d import Axes3D"
   ]
  },
  {
   "cell_type": "markdown",
   "id": "35810b2c",
   "metadata": {},
   "source": [
    "## Exercise 3, single step of dynamical system estimation (30 pts)\n",
    "\n",
    "a. Plot the log likelihood of the rat’s position, x, over the range [0,100] (ignore the term(s) in the likelihood function that is common to all positions). What is the maximum likelihood position of the rat?"
   ]
  },
  {
   "cell_type": "code",
   "execution_count": 4,
   "id": "072e0224",
   "metadata": {},
   "outputs": [],
   "source": [
    "MaxRates = np.load('hw6problem3/MaxRates.npy', allow_pickle=True) # spikes per second, r_max\n",
    "FieldCenters = np.load('hw6problem3/FieldCenters.npy', allow_pickle=True) # mu\n",
    "FieldWidths = np.load('hw6problem3/FieldWidths.npy', allow_pickle=True) # sigma\n",
    "NeuralObservations = np.load('hw6problem3/NeuralObservations.npy', allow_pickle=True) #Spike counts for 250 ms of neural activity"
   ]
  },
  {
   "cell_type": "code",
   "execution_count": 10,
   "id": "be695350",
   "metadata": {},
   "outputs": [
    {
     "data": {
      "text/plain": [
       "10"
      ]
     },
     "execution_count": 10,
     "metadata": {},
     "output_type": "execute_result"
    }
   ],
   "source": [
    "len(NeuralObservations)"
   ]
  },
  {
   "cell_type": "code",
   "execution_count": 16,
   "id": "e32c8e2e",
   "metadata": {},
   "outputs": [],
   "source": [
    "# Variable renaming\n",
    "r_max = MaxRates\n",
    "mu = FieldCenters\n",
    "sigma = FieldWidths\n",
    "n = NeuralObservations"
   ]
  },
  {
   "cell_type": "code",
   "execution_count": 13,
   "id": "6152cf6b",
   "metadata": {},
   "outputs": [],
   "source": [
    "def poisson(x, r_max, mu, sigma, dt=250): #dt is in ms\n",
    "    return r_max*np.exp(-(x-mu**2)/(2*sigma**2))*dt"
   ]
  },
  {
   "cell_type": "code",
   "execution_count": 30,
   "id": "075a0b21",
   "metadata": {},
   "outputs": [],
   "source": [
    "xs = [i for i in range(10000)]\n",
    "ys = np.zeros(len(xs))\n",
    "\n",
    "for j in range(len(xs)):\n",
    "#     for i in range(10):\n",
    "    i = 0\n",
    "    ys[j] = poisson(xs[j], r_max[i], mu[i], sigma[i])\n",
    "    "
   ]
  },
  {
   "cell_type": "code",
   "execution_count": 31,
   "id": "da23b503",
   "metadata": {},
   "outputs": [
    {
     "data": {
      "text/plain": [
       "2"
      ]
     },
     "execution_count": 31,
     "metadata": {},
     "output_type": "execute_result"
    }
   ],
   "source": [
    "n[0]"
   ]
  },
  {
   "cell_type": "code",
   "execution_count": 37,
   "id": "f3596b5d",
   "metadata": {},
   "outputs": [
    {
     "name": "stdout",
     "output_type": "stream",
     "text": [
      "El valor que buscas es:  6470\n"
     ]
    }
   ],
   "source": [
    "for i in range(10000):\n",
    "    if ys[i]>=n[0] and ys[i+1]<=n[0]:\n",
    "        print(\"El valor que buscas es: \",i)"
   ]
  },
  {
   "cell_type": "code",
   "execution_count": 39,
   "id": "c7263535",
   "metadata": {},
   "outputs": [
    {
     "data": {
      "text/plain": [
       "6470"
      ]
     },
     "execution_count": 39,
     "metadata": {},
     "output_type": "execute_result"
    }
   ],
   "source": [
    "ys[6470]\n",
    "xs[6470]"
   ]
  },
  {
   "cell_type": "code",
   "execution_count": 32,
   "id": "4abd9f9f",
   "metadata": {},
   "outputs": [
    {
     "data": {
      "image/png": "[encoded data removed]",
      "text/plain": [
       "<Figure size 432x288 with 1 Axes>"
      ]
     },
     "metadata": {
      "needs_background": "light"
     },
     "output_type": "display_data"
    }
   ],
   "source": [
    "plt.plot(xs, ys, c=\"blue\")\n",
    "# plt.plot([xs[0], xs[99]], [n[i], n[i]], color=\"red\")\n",
    "plt.show()"
   ]
  },
  {
   "cell_type": "code",
   "execution_count": null,
   "id": "b1c7295a",
   "metadata": {},
   "outputs": [],
   "source": []
  },
  {
   "cell_type": "code",
   "execution_count": null,
   "id": "db204a42",
   "metadata": {},
   "outputs": [],
   "source": []
  },
  {
   "cell_type": "markdown",
   "id": "745e73b1",
   "metadata": {},
   "source": [
    "b. Now assume that you have prior information about the rat’s position characterized by a normal distribution, with mean 30 and standard deviation 5. On the same graph as for (a), plot the log likelihood of the rat’s position using just your prior distribution and using both the prior distribution and the observations of neural activity. What is the maximum a posteriori position of the rat?\n"
   ]
  },
  {
   "cell_type": "code",
   "execution_count": null,
   "id": "501e8230",
   "metadata": {},
   "outputs": [],
   "source": []
  },
  {
   "cell_type": "code",
   "execution_count": null,
   "id": "c30ea2e7",
   "metadata": {},
   "outputs": [],
   "source": []
  },
  {
   "cell_type": "code",
   "execution_count": null,
   "id": "f20b6a28",
   "metadata": {},
   "outputs": [],
   "source": []
  },
  {
   "cell_type": "code",
   "execution_count": null,
   "id": "d0252754",
   "metadata": {},
   "outputs": [],
   "source": []
  },
  {
   "cell_type": "code",
   "execution_count": null,
   "id": "beac67ae",
   "metadata": {},
   "outputs": [],
   "source": []
  }
 ],
 "metadata": {
  "kernelspec": {
   "display_name": "Python 3 (ipykernel)",
   "language": "python",
   "name": "python3"
  },
  "language_info": {
   "codemirror_mode": {
    "name": "ipython",
    "version": 3
   },
   "file_extension": ".py",
   "mimetype": "text/x-python",
   "name": "python",
   "nbconvert_exporter": "python",
   "pygments_lexer": "ipython3",
   "version": "3.8.8"
  }
 },
 "nbformat": 4,
 "nbformat_minor": 5
}
