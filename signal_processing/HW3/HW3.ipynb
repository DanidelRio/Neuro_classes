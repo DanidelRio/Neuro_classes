{
 "cells": [
  {
   "cell_type": "code",
   "execution_count": 1,
   "id": "5a05db40",
   "metadata": {},
   "outputs": [],
   "source": [
    "import random\n",
    "import math\n",
    "import numpy as np\n",
    "import matplotlib.pyplot as plt\n",
    "# import scipy.io"
   ]
  },
  {
   "cell_type": "code",
   "execution_count": 2,
   "id": "2a088877",
   "metadata": {},
   "outputs": [],
   "source": [
    "spikeTimes = np.load('spikeTimes.npy', allow_pickle=True)\n",
    "timeGoCue = np.load('timeGoCue.npy', allow_pickle=True)\n",
    "timeTargetAcquire = np.load('timeTargetAcquire.npy', allow_pickle=True)\n",
    "timeTouchHeld = np.load('timeTouchHeld.npy', allow_pickle=True)\n",
    "cfr = np.load('cfr.npy', allow_pickle=True)"
   ]
  },
  {
   "cell_type": "code",
   "execution_count": 3,
   "id": "c10cef80",
   "metadata": {},
   "outputs": [
    {
     "name": "stdout",
     "output_type": "stream",
     "text": [
      "480\n",
      "1485\n",
      "2005\n"
     ]
    }
   ],
   "source": [
    "print(timeTouchHeld[0])\n",
    "print(timeGoCue[0])\n",
    "print(timeTargetAcquire[0])"
   ]
  },
  {
   "cell_type": "code",
   "execution_count": 4,
   "id": "bda0fc27",
   "metadata": {
    "scrolled": true
   },
   "outputs": [
    {
     "data": {
      "text/plain": [
       "array([[ 3,  8,  1, ...,  7,  8, 13],\n",
       "       [ 1,  6,  0, ...,  4,  9, 12],\n",
       "       [ 1,  3,  2, ...,  9, 11, 17],\n",
       "       ...,\n",
       "       [ 0,  7,  0, ...,  7,  3,  5],\n",
       "       [ 0,  4,  0, ...,  8,  4, 11],\n",
       "       [ 2,  9,  0, ..., 12,  3,  8]])"
      ]
     },
     "execution_count": 4,
     "metadata": {},
     "output_type": "execute_result"
    }
   ],
   "source": [
    "# Example code for finding the number of spikes in the plan window\n",
    "\n",
    "planSpikes = []\n",
    "\n",
    "for trialIdx, trialSpikes in enumerate(spikeTimes): #what does st mean?\n",
    "    planSpikes.append([np.sum((st > timeTouchHeld[trialIdx]) & (st < timeGoCue[trialIdx])) for st in trialSpikes])\n",
    "\n",
    "planSpikes = np.array(planSpikes) # will be 1127 x 190 (number of trials by number of neurons)\n",
    "planSpikes"
   ]
  },
  {
   "cell_type": "code",
   "execution_count": 5,
   "id": "1c48ff79",
   "metadata": {},
   "outputs": [
    {
     "data": {
      "text/plain": [
       "array([[ 0,  8,  3, ...,  7,  5, 19],\n",
       "       [ 0,  5,  1, ...,  1, 20, 14],\n",
       "       [ 0,  8,  1, ...,  2, 10, 21],\n",
       "       ...,\n",
       "       [ 0,  5,  0, ...,  3, 13, 19],\n",
       "       [ 0,  7,  0, ...,  1, 13,  3],\n",
       "       [ 0,  5,  2, ...,  3,  7, 10]])"
      ]
     },
     "execution_count": 5,
     "metadata": {},
     "output_type": "execute_result"
    }
   ],
   "source": [
    "# Modified example code for finding the number of spikes in the movement window\n",
    "\n",
    "movementSpikes = []\n",
    "\n",
    "for trialIdx, trialSpikes in enumerate(spikeTimes): #what does st mean?\n",
    "     movementSpikes.append([np.sum((st > timeGoCue[trialIdx]) & (st < timeTargetAcquire[trialIdx])) for st in trialSpikes])\n",
    "\n",
    "movementSpikes = np.array(movementSpikes) # will be 1127 x 190 (number of trials by number of neurons)\n",
    "movementSpikes"
   ]
  },
  {
   "cell_type": "markdown",
   "id": "935d139e",
   "metadata": {},
   "source": [
    "### Obtaining the rates (lambdas) for each neuron in each trial in the plan and movement window"
   ]
  },
  {
   "cell_type": "code",
   "execution_count": 6,
   "id": "f7d4d738",
   "metadata": {},
   "outputs": [
    {
     "data": {
      "text/plain": [
       "array([[0.        , 0.01495327, 0.00560748, ..., 0.01308411, 0.00934579,\n",
       "        0.03551402],\n",
       "       [0.        , 0.00840336, 0.00168067, ..., 0.00168067, 0.03361345,\n",
       "        0.02352941],\n",
       "       [0.        , 0.01702128, 0.00212766, ..., 0.00425532, 0.0212766 ,\n",
       "        0.04468085],\n",
       "       ...,\n",
       "       [0.        , 0.00606061, 0.        , ..., 0.00363636, 0.01575758,\n",
       "        0.0230303 ],\n",
       "       [0.        , 0.01473684, 0.        , ..., 0.00210526, 0.02736842,\n",
       "        0.00631579],\n",
       "       [0.        , 0.01010101, 0.0040404 , ..., 0.00606061, 0.01414141,\n",
       "        0.02020202]])"
      ]
     },
     "execution_count": 6,
     "metadata": {},
     "output_type": "execute_result"
    }
   ],
   "source": [
    "trials = 1127   # 1127 trials\n",
    "neurons = 190  # 190 neurons\n",
    "\n",
    "lambda_planSpikes = np.zeros((1127,190))\n",
    "lambda_movementSpikes = np.zeros((1127,190))\n",
    "\n",
    "for trial_i in range(trials):\n",
    "    for neuron_i in range(neurons):\n",
    "        lambda_planSpikes[trial_i][neuron_i] = planSpikes[trial_i][neuron_i]/(timeGoCue[trial_i]-timeTouchHeld[trial_i])\n",
    "        lambda_movementSpikes[trial_i][neuron_i] = movementSpikes[trial_i][neuron_i]/(timeTargetAcquire[trialIdx]-timeGoCue[trial_i])\n",
    "        \n",
    "# lambda_planSpikes        \n",
    "lambda_movementSpikes"
   ]
  },
  {
   "cell_type": "code",
   "execution_count": 7,
   "id": "fcce3fe1",
   "metadata": {},
   "outputs": [],
   "source": [
    "# We are not interested in all the lambdas, just the ones with the correct indices, depending on the direction(?)"
   ]
  },
  {
   "cell_type": "code",
   "execution_count": 8,
   "id": "73c32fc2",
   "metadata": {},
   "outputs": [],
   "source": [
    "# Training data\n",
    "# The cfr has the objective of each trial.\n",
    "# Randomly choose 50 data sets for each direction, that is 400 sets in total.\n",
    "\n",
    "# Indices of each objective\n",
    "vec_1 = [i for i in range(len(cfr)) if cfr[i] == 1]\n",
    "vec_2 = [i for i in range(len(cfr)) if cfr[i] == 2]\n",
    "vec_3 = [i for i in range(len(cfr)) if cfr[i] == 3]\n",
    "vec_4 = [i for i in range(len(cfr)) if cfr[i] == 4]\n",
    "vec_5 = [i for i in range(len(cfr)) if cfr[i] == 5]\n",
    "vec_6 = [i for i in range(len(cfr)) if cfr[i] == 6]\n",
    "vec_7 = [i for i in range(len(cfr)) if cfr[i] == 7]\n",
    "vec_8 = [i for i in range(len(cfr)) if cfr[i] == 8]\n",
    "\n",
    "# Training indices for each objective\n",
    "training_1 = random.sample(vec_1, 50)\n",
    "training_2 = random.sample(vec_2, 50)\n",
    "training_3 = random.sample(vec_3, 50)\n",
    "training_4 = random.sample(vec_4, 50)\n",
    "training_5 = random.sample(vec_5, 50)\n",
    "training_6 = random.sample(vec_6, 50)\n",
    "training_7 = random.sample(vec_7, 50)\n",
    "training_8 = random.sample(vec_8, 50)"
   ]
  },
  {
   "cell_type": "code",
   "execution_count": 43,
   "id": "1fa06783",
   "metadata": {
    "scrolled": true
   },
   "outputs": [
    {
     "name": "stdout",
     "output_type": "stream",
     "text": [
      "[   3    4   10   13   14   15   23   24   26   28   36   38   39   42\n",
      "   47   50   51   52   53   57   58   59   60   62   65   69   70   73\n",
      "   76   80   82   83   85   86   87   88   90   92   95   96  104  105\n",
      "  108  110  116  119  122  123  124  129  131  134  135  136  137  145\n",
      "  147  156  158  163  164  167  169  189  190  194  195  197  198  203\n",
      "  204  208  213  214  218  226  232  235  236  244  245  252  253  255\n",
      "  257  270  277  280  281  284  288  289  293  298  300  301  302  303\n",
      "  305  306  308  312  314  320  321  322  325  327  336  337  340  342\n",
      "  345  347  349  351  352  354  357  358  359  364  370  372  374  376\n",
      "  377  382  391  401  402  406  412  419  420  426  427  429  431  435\n",
      "  441  445  447  451  455  456  458  462  467  470  479  483  484  486\n",
      "  487  493  498  501  502  503  506  508  513  515  517  518  523  526\n",
      "  527  528  530  533  535  537  538  540  544  548  550  551  552  553\n",
      "  554  559  560  562  564  566  567  568  569  571  574  575  576  577\n",
      "  582  584  587  588  592  598  599  600  601  606  608  609  612  613\n",
      "  618  619  622  624  625  626  633  636  642  644  647  649  650  656\n",
      "  657  658  664  670  673  675  677  680  687  691  692  694  701  702\n",
      "  711  714  720  721  725  726  727  731  743  745  748  749  752  753\n",
      "  755  758  760  761  763  766  767  770  771  774  776  778  791  793\n",
      "  797  800  803  805  808  810  811  813  817  827  831  832  835  836\n",
      "  838  851  854  855  857  858  859  862  863  871  872  874  875  876\n",
      "  878  881  882  883  884  898  903  905  906  907  909  910  911  912\n",
      "  915  918  925  926  928  929  930  933  935  939  940  941  944  945\n",
      "  948  949  951  954  958  962  963  967  973  974  977  980  982  983\n",
      "  984  986  987  988  992  993  994  996  999 1000 1001 1002 1003 1006\n",
      " 1007 1008 1010 1019 1022 1024 1028 1029 1031 1033 1035 1036 1037 1039\n",
      " 1041 1042 1043 1045 1046 1047 1057 1061 1064 1065 1066 1067 1069 1071\n",
      " 1076 1078 1086 1090 1093 1094 1095 1098 1100 1103 1106 1109 1110 1111\n",
      " 1113 1116 1117 1119 1120 1121 1123 1126]\n",
      "[0, 1, 2, 5, 6, 7, 8, 9, 11, 12, 16, 17, 18, 19, 20, 21, 22, 25, 27, 29, 30, 31, 32, 33, 34, 35, 37, 40, 41, 43, 44, 45, 46, 48, 49, 54, 55, 56, 61, 63, 64, 66, 67, 68, 71, 72, 74, 75, 77, 78, 79, 81, 84, 89, 91, 93, 94, 97, 98, 99, 100, 101, 102, 103, 106, 107, 109, 111, 112, 113, 114, 115, 117, 118, 120, 121, 125, 126, 127, 128, 130, 132, 133, 138, 139, 140, 141, 142, 143, 144, 146, 148, 149, 150, 151, 152, 153, 154, 155, 157, 159, 160, 161, 162, 165, 166, 168, 170, 171, 172, 173, 174, 175, 176, 177, 178, 179, 180, 181, 182, 183, 184, 185, 186, 187, 188, 191, 192, 193, 196, 199, 200, 201, 202, 205, 206, 207, 209, 210, 211, 212, 215, 216, 217, 219, 220, 221, 222, 223, 224, 225, 227, 228, 229, 230, 231, 233, 234, 237, 238, 239, 240, 241, 242, 243, 246, 247, 248, 249, 250, 251, 254, 256, 258, 259, 260, 261, 262, 263, 264, 265, 266, 267, 268, 269, 271, 272, 273, 274, 275, 276, 278, 279, 282, 283, 285, 286, 287, 290, 291, 292, 294, 295, 296, 297, 299, 304, 307, 309, 310, 311, 313, 315, 316, 317, 318, 319, 323, 324, 326, 328, 329, 330, 331, 332, 333, 334, 335, 338, 339, 341, 343, 344, 346, 348, 350, 353, 355, 356, 360, 361, 362, 363, 365, 366, 367, 368, 369, 371, 373, 375, 378, 379, 380, 381, 383, 384, 385, 386, 387, 388, 389, 390, 392, 393, 394, 395, 396, 397, 398, 399, 400, 403, 404, 405, 407, 408, 409, 410, 411, 413, 414, 415, 416, 417, 418, 421, 422, 423, 424, 425, 428, 430, 432, 433, 434, 436, 437, 438, 439, 440, 442, 443, 444, 446, 448, 449, 450, 452, 453, 454, 457, 459, 460, 461, 463, 464, 465, 466, 468, 469, 471, 472, 473, 474, 475, 476, 477, 478, 480, 481, 482, 485, 488, 489, 490, 491, 492, 494, 495, 496, 497, 499, 500, 504, 505, 507, 509, 510, 511, 512, 514, 516, 519, 520, 521, 522, 524, 525, 529, 531, 532, 534, 536, 539, 541, 542, 543, 545, 546, 547, 549, 555, 556, 557, 558, 561, 563, 565, 570, 572, 573, 578, 579, 580, 581, 583, 585, 586, 589, 590, 591, 593, 594, 595, 596, 597, 602, 603, 604, 605, 607, 610, 611, 614, 615, 616, 617, 620, 621, 623, 627, 628, 629, 630, 631, 632, 634, 635, 637, 638, 639, 640, 641, 643, 645, 646, 648, 651, 652, 653, 654, 655, 659, 660, 661, 662, 663, 665, 666, 667, 668, 669, 671, 672, 674, 676, 678, 679, 681, 682, 683, 684, 685, 686, 688, 689, 690, 693, 695, 696, 697, 698, 699, 700, 703, 704, 705, 706, 707, 708, 709, 710, 712, 713, 715, 716, 717, 718, 719, 722, 723, 724, 728, 729, 730, 732, 733, 734, 735, 736, 737, 738, 739, 740, 741, 742, 744, 746, 747, 750, 751, 754, 756, 757, 759, 762, 764, 765, 768, 769, 772, 773, 775, 777, 779, 780, 781, 782, 783, 784, 785, 786, 787, 788, 789, 790, 792, 794, 795, 796, 798, 799, 801, 802, 804, 806, 807, 809, 812, 814, 815, 816, 818, 819, 820, 821, 822, 823, 824, 825, 826, 828, 829, 830, 833, 834, 837, 839, 840, 841, 842, 843, 844, 845, 846, 847, 848, 849, 850, 852, 853, 856, 860, 861, 864, 865, 866, 867, 868, 869, 870, 873, 877, 879, 880, 885, 886, 887, 888, 889, 890, 891, 892, 893, 894, 895, 896, 897, 899, 900, 901, 902, 904, 908, 913, 914, 916, 917, 919, 920, 921, 922, 923, 924, 927, 931, 932, 934, 936, 937, 938, 942, 943, 946, 947, 950, 952, 953, 955, 956, 957, 959, 960, 961, 964, 965, 966, 968, 969, 970, 971, 972, 975, 976, 978, 979, 981, 985, 989, 990, 991, 995, 997, 998, 1004, 1005, 1009, 1011, 1012, 1013, 1014, 1015, 1016, 1017, 1018, 1020, 1021, 1023, 1025, 1026, 1027, 1030, 1032, 1034, 1038, 1040, 1044, 1048, 1049, 1050, 1051, 1052, 1053, 1054, 1055, 1056, 1058, 1059, 1060, 1062, 1063, 1068, 1070, 1072, 1073, 1074, 1075, 1077, 1079, 1080, 1081, 1082, 1083, 1084, 1085, 1087, 1088, 1089, 1091, 1092, 1096, 1097, 1099, 1101, 1102, 1104, 1105, 1107, 1108, 1112, 1114, 1115, 1118, 1122, 1124, 1125]\n"
     ]
    }
   ],
   "source": [
    "training_indices = np.column_stack((training_1, training_2, training_3, training_4,\n",
    "                                    training_5, training_6, training_7, training_8))\n",
    "training_indices = training_indices.reshape(400)\n",
    "training_indices = np.sort(training_indices)\n",
    "training_indices\n",
    "\n",
    "testing_indices = []\n",
    "\n",
    "for i in range(trials):\n",
    "    if i not in training_indices:\n",
    "        testing_indices.append(i)\n",
    "\n",
    "print(training_indices)\n",
    "print(testing_indices)"
   ]
  },
  {
   "cell_type": "code",
   "execution_count": 9,
   "id": "796d5327",
   "metadata": {
    "scrolled": true
   },
   "outputs": [
    {
     "name": "stdout",
     "output_type": "stream",
     "text": [
      "[[0.00000000e+000 1.87744945e-322 5.51377261e-321 ... 3.55509868e-006\n",
      "  1.25133274e-004 7.37003723e-003]\n",
      " [0.00000000e+000 1.58101007e-322 5.93866906e-321 ... 3.13294455e-006\n",
      "  1.36256466e-004 9.41715265e-003]\n",
      " [0.00000000e+000 1.72922976e-322 5.25191782e-321 ... 3.98489671e-006\n",
      "  2.39673157e-004 7.33722118e-003]\n",
      " ...\n",
      " [0.00000000e+000 2.56914136e-322 2.58890398e-321 ... 2.85760601e-006\n",
      "  2.66571777e-004 8.48275180e-003]\n",
      " [0.00000000e+000 2.47032823e-322 2.86064009e-321 ... 3.07780304e-006\n",
      "  1.44501334e-004 9.39237587e-003]\n",
      " [0.00000000e+000 2.17388884e-322 1.85768683e-321 ... 3.34855524e-006\n",
      "  1.74178116e-004 8.43069421e-003]]\n"
     ]
    }
   ],
   "source": [
    "lambda_d = np.zeros((8, 190))\n",
    "\n",
    "for neuron_i in range(190):\n",
    "    for i in training_1: #Cycle for training data in 1st direction\n",
    "        lambda_d[0][neuron_i] += lambda_planSpikes[i][neuron_i] # Lambda for neuron i\n",
    "    \n",
    "    for i in training_2: #Cycle for training data in 2nd direction\n",
    "        lambda_d[1][neuron_i] += lambda_planSpikes[i][neuron_i] # Lambda for neuron i\n",
    "\n",
    "    for i in training_3: #Cycle for training data in 3rd direction\n",
    "        lambda_d[2][neuron_i] += lambda_planSpikes[i][neuron_i] # Lambda for neuron i\n",
    "\n",
    "    for i in training_4: #Cycle for training data in 4th direction\n",
    "        lambda_d[3][neuron_i] += lambda_planSpikes[i][neuron_i] # Lambda for neuron i\n",
    "\n",
    "    for i in training_5: #Cycle for training data in 5th direction\n",
    "        lambda_d[4][neuron_i] += lambda_planSpikes[i][neuron_i] # Lambda for neuron i\n",
    "\n",
    "    for i in training_6: #Cycle for training data in 6th direction\n",
    "        lambda_d[5][neuron_i] += lambda_planSpikes[i][neuron_i] # Lambda for neuron i\n",
    "\n",
    "    for i in training_7: #Cycle for training data in 7th direction\n",
    "        lambda_d[6][neuron_i] += lambda_planSpikes[i][neuron_i] # Lambda for neuron i\n",
    "\n",
    "    for i in training_8: #Cycle for training data in 8th direction\n",
    "        lambda_d[7][neuron_i] += lambda_planSpikes[i][neuron_i] # Lambda for neuron i\n",
    "\n",
    "    # You could continue making one lambda array for each direction for neuron i\n",
    "    \n",
    "    for i in range(8):\n",
    "        lambda_d[i] = lambda_d[i]/50\n",
    "print(lambda_d) #8*190 "
   ]
  },
  {
   "cell_type": "markdown",
   "id": "cba0333a",
   "metadata": {},
   "source": [
    "lambda_d 8*190\n",
    "x_d testing_indices*190\n",
    "Poisson sumamos en el numero de neuronas (190) y en el numero de testing_indices."
   ]
  },
  {
   "cell_type": "code",
   "execution_count": 71,
   "id": "2432bfef",
   "metadata": {},
   "outputs": [],
   "source": [
    "def Poisson(x_d, lambda_d): #This formula is only for the testing data\n",
    "\n",
    "    if lambda_d < 1e-100:\n",
    "        log_term = -230*x_d\n",
    "    else:\n",
    "        log_term = x_d*np.log(lambda_d)\n",
    "        \n",
    "    if x_d >20: # For more than 20 spikes, the log(spikes!) comes with an error message\n",
    "        # AttributeError: 'int' object has no attribute 'log'\n",
    "        # np.log(math.factorial(20)) # For numbers greater than 20, there comes this error message\n",
    "        factorial = np.log(np.double(np.math.factorial(x_d)))\n",
    "    else:\n",
    "        factorial = np.log(math.factorial(x_d))\n",
    "        \n",
    "    return -lambda_d + log_term - factorial\n",
    "\n",
    "\n",
    "# def Poisson_across_test_data(x_ds, lambda_ds):\n",
    "#     aux = 0\n",
    "#     for i in range(len(x_ds)): # i represents the number of the neuron\n",
    "#         for neuron_i in range(190):\n",
    "#             aux += np.sum(Poisson(x_ds[i][neuron_i], lambda_ds[i]))\n",
    "#     return aux"
   ]
  },
  {
   "cell_type": "code",
   "execution_count": 72,
   "id": "6b281a3e",
   "metadata": {},
   "outputs": [
    {
     "name": "stdout",
     "output_type": "stream",
     "text": [
      "[-1.55216318e+08 -1.55255939e+08 -1.55179544e+08 -1.55224558e+08\n",
      " -1.55237241e+08 -1.55216931e+08 -1.55224883e+08 -1.55227653e+08]\n"
     ]
    }
   ],
   "source": [
    "# Poisson values for the planning and movement data\n",
    "direction_values = np.zeros(8)\n",
    "\n",
    "for direction_i in range(8):\n",
    "    for testing_i in testing_indices: #MAKES NO SENSE TO SUM ACROSS TESTING_INDICES!!!! BEWARE. TAKE A BREAK.\n",
    "        for neuron_i in range(neurons):\n",
    "            direction_values[direction_i] += Poisson(planSpikes[testing_i][neuron_i], lambda_d[direction_i][neuron_i])\n",
    "print(direction_values)"
   ]
  },
  {
   "cell_type": "code",
   "execution_count": 76,
   "id": "3efbb92a",
   "metadata": {},
   "outputs": [
    {
     "data": {
      "text/plain": [
       "0"
      ]
     },
     "execution_count": 76,
     "metadata": {},
     "output_type": "execute_result"
    }
   ],
   "source": [
    "np.argmax([9, 1, 5, 6])"
   ]
  },
  {
   "cell_type": "code",
   "execution_count": 75,
   "id": "4ef2d6fe",
   "metadata": {},
   "outputs": [
    {
     "name": "stdout",
     "output_type": "stream",
     "text": [
      "the preferred orientation is:  3\n"
     ]
    }
   ],
   "source": [
    "print(\"the preferred orientation is: \",np.argmax(direction_values)+1)"
   ]
  },
  {
   "cell_type": "markdown",
   "id": "990814a8",
   "metadata": {},
   "source": [
    "Creo que el problema es que en la parte previa de Poisson, estas obteniendo todo contra todo. Pero necesitas obtener las pruebas de forma separada. No tiene sentido sumar a lo largo de las pruebas porque son cosas diferentes."
   ]
  },
  {
   "cell_type": "code",
   "execution_count": null,
   "id": "b93e7fa0",
   "metadata": {},
   "outputs": [],
   "source": []
  },
  {
   "cell_type": "code",
   "execution_count": null,
   "id": "3e462de7",
   "metadata": {},
   "outputs": [],
   "source": [
    "# Poisson values for the planning and movement data\n",
    "\n",
    "for testing_i in testing_indices:\n",
    "    for neuron_i in range(neurons):\n",
    "        for direction_i in range(8)\n",
    "        algo = Poisson(planSpikes[testing_i][neuron_i], lambda_d[direction_i][neuron_i])\n",
    "        # I think the dimension does not math"
   ]
  },
  {
   "cell_type": "code",
   "execution_count": null,
   "id": "9a111c1e",
   "metadata": {},
   "outputs": [],
   "source": []
  },
  {
   "cell_type": "code",
   "execution_count": null,
   "id": "75ac9ca1",
   "metadata": {},
   "outputs": [],
   "source": []
  },
  {
   "cell_type": "code",
   "execution_count": null,
   "id": "f6f8f874",
   "metadata": {},
   "outputs": [],
   "source": []
  },
  {
   "cell_type": "markdown",
   "id": "c2b8ce22",
   "metadata": {},
   "source": [
    "### Missing x_d, obtain it by averaging across trials, just like labda_d"
   ]
  },
  {
   "cell_type": "code",
   "execution_count": 43,
   "id": "cf8a50ac",
   "metadata": {},
   "outputs": [
    {
     "name": "stdout",
     "output_type": "stream",
     "text": [
      "[[ 0.92  3.98  2.16 ...  7.8   6.04  6.26]\n",
      " [ 1.12  4.6   2.84 ...  7.64  6.2   7.64]\n",
      " [ 0.62  3.5   2.18 ...  9.02  9.42  7.02]\n",
      " ...\n",
      " [ 0.42  6.3   1.26 ...  6.6  11.96  7.72]\n",
      " [ 0.22  4.86  1.34 ...  6.52  6.08  8.6 ]\n",
      " [ 0.24  5.3   1.   ...  7.44  7.86  7.1 ]]\n"
     ]
    }
   ],
   "source": [
    "x_d = np.zeros((8, 190))\n",
    "\n",
    "for neuron_i in range(190):\n",
    "    for i in training_1: #Cycle for training data in 1st direction\n",
    "        x_d[0][neuron_i] += planSpikes[i][neuron_i] # spike counts for neuron i\n",
    "    \n",
    "    for i in training_2: #Cycle for training data in 2nd direction\n",
    "        x_d[1][neuron_i] += planSpikes[i][neuron_i]\n",
    "\n",
    "    for i in training_3: #Cycle for training data in 3rd direction\n",
    "        x_d[2][neuron_i] += planSpikes[i][neuron_i] # Lambda for neuron i\n",
    "\n",
    "    for i in training_4: #Cycle for training data in 4th direction\n",
    "        x_d[3][neuron_i] += planSpikes[i][neuron_i] # Lambda for neuron i\n",
    "\n",
    "    for i in training_5: #Cycle for training data in 5th direction\n",
    "        x_d[4][neuron_i] += planSpikes[i][neuron_i] # Lambda for neuron i\n",
    "\n",
    "    for i in training_6: #Cycle for training data in 6th direction\n",
    "        x_d[5][neuron_i] += planSpikes[i][neuron_i] # Lambda for neuron i\n",
    "\n",
    "    for i in training_7: #Cycle for training data in 7th direction\n",
    "        x_d[6][neuron_i] += planSpikes[i][neuron_i] # Lambda for neuron i\n",
    "\n",
    "    for i in training_8: #Cycle for training data in 8th direction\n",
    "        x_d[7][neuron_i] += planSpikes[i][neuron_i] # Lambda for neuron i\n",
    "\n",
    "    # You could continue making one lambda array for each direction for neuron i\n",
    "    \n",
    "x_d = x_d / 50\n",
    "print(x_d) # 8*190 entry of the average of the spike counts across the 50 trials"
   ]
  },
  {
   "cell_type": "code",
   "execution_count": 45,
   "id": "81c6d286",
   "metadata": {
    "scrolled": true
   },
   "outputs": [
    {
     "name": "stderr",
     "output_type": "stream",
     "text": [
      "/tmp/ipykernel_7579/3824409424.py:2: RuntimeWarning: divide by zero encountered in log\n",
      "  return -lambda_d + x_d*np.log(lambda_d) - np.log(math.factorial(x_d))\n",
      "/tmp/ipykernel_7579/3824409424.py:2: RuntimeWarning: invalid value encountered in multiply\n",
      "  return -lambda_d + x_d*np.log(lambda_d) - np.log(math.factorial(x_d))\n"
     ]
    },
    {
     "ename": "TypeError",
     "evalue": "only integer scalar arrays can be converted to a scalar index",
     "output_type": "error",
     "traceback": [
      "\u001b[0;31m---------------------------------------------------------------------------\u001b[0m",
      "\u001b[0;31mTypeError\u001b[0m                                 Traceback (most recent call last)",
      "\u001b[0;32m/tmp/ipykernel_7579/3361798790.py\u001b[0m in \u001b[0;36m<module>\u001b[0;34m\u001b[0m\n\u001b[1;32m      2\u001b[0m \u001b[0;34m\u001b[0m\u001b[0m\n\u001b[1;32m      3\u001b[0m \u001b[0;32mfor\u001b[0m \u001b[0mi\u001b[0m \u001b[0;32min\u001b[0m \u001b[0mrange\u001b[0m\u001b[0;34m(\u001b[0m\u001b[0;36m8\u001b[0m\u001b[0;34m)\u001b[0m\u001b[0;34m:\u001b[0m\u001b[0;34m\u001b[0m\u001b[0;34m\u001b[0m\u001b[0m\n\u001b[0;32m----> 4\u001b[0;31m     \u001b[0mdirection\u001b[0m\u001b[0;34m[\u001b[0m\u001b[0mi\u001b[0m\u001b[0;34m]\u001b[0m \u001b[0;34m=\u001b[0m \u001b[0mPoisson_reiterated\u001b[0m\u001b[0;34m(\u001b[0m\u001b[0mx_d\u001b[0m\u001b[0;34m,\u001b[0m \u001b[0mlambda_d\u001b[0m\u001b[0;34m[\u001b[0m\u001b[0mi\u001b[0m\u001b[0;34m]\u001b[0m\u001b[0;34m)\u001b[0m \u001b[0;31m# x_d represents spike counts\u001b[0m\u001b[0;34m\u001b[0m\u001b[0;34m\u001b[0m\u001b[0m\n\u001b[0m",
      "\u001b[0;32m/tmp/ipykernel_7579/3824409424.py\u001b[0m in \u001b[0;36mPoisson_reiterated\u001b[0;34m(x_ds, lambda_ds)\u001b[0m\n\u001b[1;32m      6\u001b[0m     \u001b[0maux\u001b[0m \u001b[0;34m=\u001b[0m \u001b[0;36m0\u001b[0m\u001b[0;34m\u001b[0m\u001b[0;34m\u001b[0m\u001b[0m\n\u001b[1;32m      7\u001b[0m     \u001b[0;32mfor\u001b[0m \u001b[0mi\u001b[0m \u001b[0;32min\u001b[0m \u001b[0mrange\u001b[0m\u001b[0;34m(\u001b[0m\u001b[0mlen\u001b[0m\u001b[0;34m(\u001b[0m\u001b[0mx_ds\u001b[0m\u001b[0;34m)\u001b[0m\u001b[0;34m)\u001b[0m\u001b[0;34m:\u001b[0m \u001b[0;31m# i represents the number of the neuron\u001b[0m\u001b[0;34m\u001b[0m\u001b[0;34m\u001b[0m\u001b[0m\n\u001b[0;32m----> 8\u001b[0;31m         \u001b[0maux\u001b[0m \u001b[0;34m=\u001b[0m \u001b[0mnp\u001b[0m\u001b[0;34m.\u001b[0m\u001b[0msum\u001b[0m\u001b[0;34m(\u001b[0m\u001b[0mPoisson\u001b[0m\u001b[0;34m(\u001b[0m\u001b[0mx_ds\u001b[0m\u001b[0;34m[\u001b[0m\u001b[0mi\u001b[0m\u001b[0;34m]\u001b[0m\u001b[0;34m,\u001b[0m \u001b[0mlambda_ds\u001b[0m\u001b[0;34m[\u001b[0m\u001b[0mi\u001b[0m\u001b[0;34m]\u001b[0m\u001b[0;34m)\u001b[0m\u001b[0;34m)\u001b[0m\u001b[0;34m\u001b[0m\u001b[0;34m\u001b[0m\u001b[0m\n\u001b[0m\u001b[1;32m      9\u001b[0m     \u001b[0;32mreturn\u001b[0m \u001b[0maux\u001b[0m\u001b[0;34m\u001b[0m\u001b[0;34m\u001b[0m\u001b[0m\n",
      "\u001b[0;32m/tmp/ipykernel_7579/3824409424.py\u001b[0m in \u001b[0;36mPoisson\u001b[0;34m(x_d, lambda_d)\u001b[0m\n\u001b[1;32m      1\u001b[0m \u001b[0;32mdef\u001b[0m \u001b[0mPoisson\u001b[0m\u001b[0;34m(\u001b[0m\u001b[0mx_d\u001b[0m\u001b[0;34m,\u001b[0m \u001b[0mlambda_d\u001b[0m\u001b[0;34m)\u001b[0m\u001b[0;34m:\u001b[0m \u001b[0;31m#This formula is for each neuron\u001b[0m\u001b[0;34m\u001b[0m\u001b[0;34m\u001b[0m\u001b[0m\n\u001b[0;32m----> 2\u001b[0;31m     \u001b[0;32mreturn\u001b[0m \u001b[0;34m-\u001b[0m\u001b[0mlambda_d\u001b[0m \u001b[0;34m+\u001b[0m \u001b[0mx_d\u001b[0m\u001b[0;34m*\u001b[0m\u001b[0mnp\u001b[0m\u001b[0;34m.\u001b[0m\u001b[0mlog\u001b[0m\u001b[0;34m(\u001b[0m\u001b[0mlambda_d\u001b[0m\u001b[0;34m)\u001b[0m \u001b[0;34m-\u001b[0m \u001b[0mnp\u001b[0m\u001b[0;34m.\u001b[0m\u001b[0mlog\u001b[0m\u001b[0;34m(\u001b[0m\u001b[0mmath\u001b[0m\u001b[0;34m.\u001b[0m\u001b[0mfactorial\u001b[0m\u001b[0;34m(\u001b[0m\u001b[0mx_d\u001b[0m\u001b[0;34m)\u001b[0m\u001b[0;34m)\u001b[0m\u001b[0;34m\u001b[0m\u001b[0;34m\u001b[0m\u001b[0m\n\u001b[0m\u001b[1;32m      3\u001b[0m \u001b[0;34m\u001b[0m\u001b[0m\n\u001b[1;32m      4\u001b[0m \u001b[0;34m\u001b[0m\u001b[0m\n\u001b[1;32m      5\u001b[0m \u001b[0;32mdef\u001b[0m \u001b[0mPoisson_reiterated\u001b[0m\u001b[0;34m(\u001b[0m\u001b[0mx_ds\u001b[0m\u001b[0;34m,\u001b[0m \u001b[0mlambda_ds\u001b[0m\u001b[0;34m)\u001b[0m\u001b[0;34m:\u001b[0m\u001b[0;34m\u001b[0m\u001b[0;34m\u001b[0m\u001b[0m\n",
      "\u001b[0;31mTypeError\u001b[0m: only integer scalar arrays can be converted to a scalar index"
     ]
    }
   ],
   "source": [
    "direction = np.zeros(8)\n",
    "\n",
    "for i in range(8):\n",
    "    direction[i] = Poisson_reiterated(x_d, lambda_d[i]) # x_d represents spike counts"
   ]
  },
  {
   "cell_type": "code",
   "execution_count": null,
   "id": "f598da78",
   "metadata": {},
   "outputs": [],
   "source": []
  },
  {
   "cell_type": "code",
   "execution_count": null,
   "id": "16832522",
   "metadata": {},
   "outputs": [],
   "source": [
    "lambdas_d_plan = np.zeros((8, 190))\n",
    "\n",
    "for trial_i in range(50):\n",
    "    for neuron_i in range(neurons):\n",
    "#         lambdas_d_plan[trial_i][neuron_i] += \n",
    "          lambda_planSpikes[training_1][neuron_i]  \n",
    "#         lambda_planSpikes[trial_i][neuron_i] = planSpikes[trial_i][neuron_i]/(timeGoCue[trial_i]-timeTouchHeld[trial_i])\n",
    "#         lambda_movementSpikes[trial_i][neuron_i] = movementSpikes[trial_i][neuron_i]/(timeTargetAcquire[trialIdx]-timeGoCue[trial_i])\n"
   ]
  },
  {
   "cell_type": "code",
   "execution_count": null,
   "id": "91c7682e",
   "metadata": {},
   "outputs": [],
   "source": []
  },
  {
   "cell_type": "code",
   "execution_count": null,
   "id": "d022a276",
   "metadata": {},
   "outputs": [],
   "source": [
    "# Use the training data to estimate the parameters of a target- direction-dependent vector Poisson process\n",
    "# calculate a Poisson model for each neuron and class - the rate for a class will be a vector the size of the number of neurons.\n",
    "\n",
    "# How do we estimate a Poisson model with the given data?\n",
    "\n"
   ]
  },
  {
   "cell_type": "code",
   "execution_count": null,
   "id": "37de9dc0",
   "metadata": {},
   "outputs": [],
   "source": []
  },
  {
   "cell_type": "code",
   "execution_count": null,
   "id": "de147ccb",
   "metadata": {},
   "outputs": [],
   "source": []
  },
  {
   "cell_type": "code",
   "execution_count": null,
   "id": "b58a6783",
   "metadata": {},
   "outputs": [],
   "source": []
  },
  {
   "cell_type": "code",
   "execution_count": null,
   "id": "1661e084",
   "metadata": {},
   "outputs": [],
   "source": []
  },
  {
   "cell_type": "code",
   "execution_count": null,
   "id": "c4652592",
   "metadata": {},
   "outputs": [],
   "source": []
  },
  {
   "cell_type": "code",
   "execution_count": null,
   "id": "39f78987",
   "metadata": {},
   "outputs": [],
   "source": []
  },
  {
   "cell_type": "code",
   "execution_count": null,
   "id": "2a256f20",
   "metadata": {},
   "outputs": [],
   "source": []
  },
  {
   "cell_type": "code",
   "execution_count": 28,
   "id": "a3a60287",
   "metadata": {},
   "outputs": [
    {
     "name": "stdout",
     "output_type": "stream",
     "text": [
      "[549.51354167 595.64166667 669.74583333]\n",
      "[[array([549.51354167, 595.64166667, 669.74583333])\n",
      "  array([  14.25208333,   17.64791667,   19.7125    ,   86.453125  ,\n",
      "        215.49479167,  349.41770833,  534.42604167,  644.5       ,\n",
      "        869.759375  , 1137.85104167, 1232.94166667, 1352.725     ,\n",
      "       1355.05      , 1435.16875   , 1542.55104167, 1628.75104167,\n",
      "       1641.35416667, 1671.02395833, 1845.58125   , 1861.946875  ,\n",
      "       1902.771875  , 1907.13645833, 2101.046875  , 2183.0875    ,\n",
      "       2187.54583333, 2217.41458333, 2220.159375  ])\n",
      "  array([1017.66979167, 1787.88541667, 1881.7       , 1975.23854167]) ...\n",
      "  array([  11.60729167,   43.59583333,  108.17708333,  162.6625    ,\n",
      "        205.178125  ,  219.35208333,  327.9       ,  693.734375  ,\n",
      "        809.371875  ,  896.0125    ,  919.82708333, 1109.48854167,\n",
      "       1256.38541667, 1442.078125  , 1554.0625    , 1607.57291667,\n",
      "       1730.815625  , 1735.31354167, 1770.93333333, 1855.625     ,\n",
      "       1953.46354167, 2005.88333333, 2048.378125  , 2081.23645833,\n",
      "       2190.61145833, 2234.35833333, 2263.29166667, 2275.06041667,\n",
      "       2313.040625  ])\n",
      "  array([ 240.65729167,  832.93020833,  840.30625   ,  849.03229167,\n",
      "        851.484375  ,  999.61145833, 1091.19270833, 1131.91354167,\n",
      "       1482.51979167, 1593.31770833, 1609.475     , 1674.228125  ,\n",
      "       1699.75520833, 1747.109375  ])\n",
      "  array([  13.37916667,   52.98125   ,   90.71458333,  178.59166667,\n",
      "        193.628125  ,  212.58958333,  272.20104167,  283.22291667,\n",
      "        298.02916667,  336.69375   ,  401.159375  ,  439.015625  ,\n",
      "        500.33333333,  563.85416667,  664.43020833,  784.31041667,\n",
      "        867.01458333,  947.42916667,  973.915625  , 1082.290625  ,\n",
      "       1127.29895833, 1167.83229167, 1200.34791667, 1380.58229167,\n",
      "       1401.68645833, 1547.80625   , 1585.778125  , 1588.39895833,\n",
      "       1595.97916667, 1632.21666667, 1646.221875  , 1676.68020833,\n",
      "       1687.34479167, 1692.73541667, 1727.65416667, 1781.67083333,\n",
      "       1793.20520833, 1808.17604167, 1827.7125    , 1887.309375  ,\n",
      "       1958.690625  , 1961.5       , 1967.046875  , 1984.05208333,\n",
      "       2022.43020833, 2038.72291667, 2055.63333333, 2112.15833333,\n",
      "       2125.38854167, 2147.42291667, 2160.77604167, 2205.38333333,\n",
      "       2243.44270833, 2255.36666667, 2260.84583333, 2289.15520833])]\n",
      " [array([599.28958333])\n",
      "  array([ 326.55      ,  372.34270833,  563.10729167,  590.82083333,\n",
      "        610.75      , 1210.909375  , 1310.13229167, 1345.74895833,\n",
      "       1618.63125   , 1739.69895833, 1781.684375  , 1885.72395833,\n",
      "       1935.02083333, 2081.54791667, 2087.759375  , 2118.64895833,\n",
      "       2168.69895833, 2188.03229167, 2250.02083333, 2252.18125   ])\n",
      "  array([1897.68333333, 2079.528125  , 2143.7125    , 2182.79791667]) ...\n",
      "  array([ 124.60104167,  225.58333333,  301.66145833,  530.50520833,\n",
      "        674.7125    ,  754.88645833, 1014.34479167, 1659.16458333,\n",
      "       2222.07916667])\n",
      "  array([   6.18541667,   65.93645833,   72.49479167,  251.68645833,\n",
      "        413.73229167,  498.00833333,  504.91875   ,  645.953125  ,\n",
      "        672.36979167,  918.57708333, 1058.61875   , 1066.04375   ,\n",
      "       1306.51770833, 1349.76041667, 1475.21041667, 1479.903125  ,\n",
      "       1517.24479167, 1600.46979167, 1606.403125  , 1627.58020833,\n",
      "       1630.18125   , 1681.69479167, 1685.75833333, 1713.4625    ,\n",
      "       1727.7125    , 1738.1625    , 1750.090625  , 1758.190625  ,\n",
      "       1771.390625  , 1778.27395833, 1787.98541667, 1806.04895833,\n",
      "       1832.73645833, 1916.04270833, 2026.52708333, 2112.11458333])\n",
      "  array([ 291.484375  ,  303.44375   ,  463.66041667,  500.23854167,\n",
      "        521.20729167,  787.15104167,  968.98125   , 1067.72291667,\n",
      "       1166.41666667, 1168.68229167, 1200.49270833, 1286.21041667,\n",
      "       1324.16458333, 1351.60208333, 1439.39166667, 1499.56354167,\n",
      "       1583.30625   , 1670.04895833, 1708.06354167, 1717.91041667,\n",
      "       1722.32604167, 1741.01666667, 1746.12395833, 1793.14895833,\n",
      "       1800.38541667, 1820.71458333, 1827.15833333, 1941.07604167,\n",
      "       1984.765625  , 2074.8125    , 2098.19791667, 2147.87604167])]\n",
      " [array([ 627.403125  , 2056.77395833, 2089.921875  , 2094.04895833,\n",
      "       2121.70104167, 2182.17604167, 2184.14375   , 2234.52604167])\n",
      "  array([  57.75208333,  472.853125  ,  884.7375    ,  901.178125  ,\n",
      "        932.990625  , 1694.90104167, 1808.08125   , 1810.77916667,\n",
      "       1824.48229167, 1897.61770833, 1931.59583333, 1935.52291667,\n",
      "       1958.02708333, 2058.58645833, 2114.890625  , 2190.15      ,\n",
      "       2266.58333333, 2282.77916667, 2303.42083333])\n",
      "  array([ 187.621875  ,  917.94791667, 1045.87395833, 1941.78645833]) ...\n",
      "  array([ 112.81458333,  126.86354167,  196.89270833,  221.30520833,\n",
      "        270.68958333,  310.025     ,  385.971875  ,  464.9625    ,\n",
      "        468.96979167,  553.85729167,  704.2       ,  801.54895833,\n",
      "        892.46354167,  990.084375  , 1044.56041667, 1298.41770833,\n",
      "       1371.640625  , 1526.83541667, 1687.09479167, 2010.51145833,\n",
      "       2058.171875  , 2145.63958333, 2212.27604167, 2321.00520833])\n",
      "  array([  23.32604167,  226.625     ,  376.39270833,  378.90625   ,\n",
      "        635.83125   ,  763.46041667,  769.86354167, 1054.746875  ,\n",
      "       1073.68541667, 1216.571875  , 1280.65833333, 1295.78541667,\n",
      "       1311.765625  , 1461.259375  , 1510.76458333, 1552.44583333,\n",
      "       1598.03333333, 1607.58333333, 1676.42395833, 1811.0625    ,\n",
      "       1844.584375  , 1876.24375   , 1880.025     , 1894.35416667,\n",
      "       2019.315625  , 2056.19895833, 2061.42395833])\n",
      "  array([   3.70208333,   73.92604167,  180.36666667,  198.640625  ,\n",
      "        202.23333333,  208.65208333,  282.51354167,  328.90729167,\n",
      "        430.67083333,  482.52083333,  569.02083333,  858.365625  ,\n",
      "        875.62916667,  944.6875    ,  956.42916667, 1027.21666667,\n",
      "       1109.55208333, 1128.4       , 1143.784375  , 1207.38333333,\n",
      "       1213.05104167, 1271.36041667, 1324.49270833, 1329.58333333,\n",
      "       1376.57604167, 1443.37604167, 1463.159375  , 1555.025     ,\n",
      "       1577.57291667, 1643.02291667, 1697.39375   , 1781.021875  ,\n",
      "       1798.68020833, 1808.35      , 1818.72395833, 1839.48645833,\n",
      "       1855.55      , 1863.79375   , 1866.553125  , 1871.09270833,\n",
      "       1902.809375  , 1908.31145833, 1919.29895833, 1939.61666667,\n",
      "       1941.61354167, 1943.75      , 1979.53125   , 1998.1       ,\n",
      "       2090.01145833, 2178.334375  , 2192.93020833, 2251.86041667,\n",
      "       2283.93854167, 2362.97083333])]\n",
      " ...\n",
      " [array([ 393.01979167, 1778.18854167, 1946.15625   , 2166.175     ,\n",
      "       2184.1875    , 2212.76979167])\n",
      "  array([  27.778125  ,   37.42604167,   96.078125  ,  263.92083333,\n",
      "        631.78020833,  745.32395833,  786.29895833,  835.021875  ,\n",
      "        870.93229167,  898.74791666, 1170.22083333, 1490.81770833,\n",
      "       1529.78333333, 1555.98645833, 1565.38854167, 1676.15729167,\n",
      "       1785.61979167, 1803.290625  , 1848.44791667, 1886.89270833,\n",
      "       1948.55520833, 2108.27708333, 2113.75104166, 2198.48333333])\n",
      "  array([23.94270833]) ...\n",
      "  array([ 175.303125  ,  309.73333333,  490.55520833,  543.10729167,\n",
      "        624.63333333,  809.80416667,  890.84895833, 1008.565625  ,\n",
      "       1089.00520833, 1219.225     , 1293.671875  , 1492.309375  ,\n",
      "       1874.0875    , 1971.02604167, 2062.875     , 2152.19479166,\n",
      "       2236.73854167])\n",
      "  array([ 100.25833333,  708.98020833,  972.87395833, 1189.36354167,\n",
      "       1286.47291667, 1316.95208333, 1445.309375  , 1522.57604167,\n",
      "       1547.68020833, 1551.328125  , 1559.446875  , 1576.28645833,\n",
      "       1591.803125  , 1617.66041667, 1669.740625  , 1698.61666667,\n",
      "       1725.63229167, 2002.38020833])\n",
      "  array([  35.45104167,   44.83958333,  194.39375   ,  410.64791667,\n",
      "        588.13229167,  714.95208333,  837.24583333, 1014.646875  ,\n",
      "       1162.35833333, 1250.990625  , 1310.94270833, 1335.44270833,\n",
      "       1339.828125  , 1385.01458333, 1429.40729167, 1452.9875    ,\n",
      "       1467.271875  , 1493.85416667, 1508.55625   , 1516.49375   ,\n",
      "       1528.596875  , 1539.159375  , 1561.25208333, 1601.24791667,\n",
      "       1646.815625  , 1674.17083333, 1684.478125  , 1740.31979167,\n",
      "       1767.6625    , 1890.88333333, 1949.05208333, 1996.67604167,\n",
      "       2121.76875   , 2197.47708333])]\n",
      " [array([2128.81041667, 2212.43854166, 2244.63541667, 2262.72916667,\n",
      "       2355.15      , 2427.98541667, 2460.83854166])\n",
      "  array([  38.10520833,  727.61979167,  815.38229167,  924.421875  ,\n",
      "       1035.24375   , 1615.7125    , 1674.421875  , 1781.28020833,\n",
      "       1785.64270833, 1817.81770833, 1933.88020833, 2027.91770833,\n",
      "       2078.25520833, 2183.18125   , 2214.14479167, 2278.81145833,\n",
      "       2289.95729166, 2333.80833333, 2367.86145833, 2398.15208333,\n",
      "       2409.3375    , 2463.77708333])\n",
      "  array([2507.778125]) ...\n",
      "  array([  40.325     ,  126.475     ,  303.13645833,  420.5875    ,\n",
      "        427.89166666,  510.17604167,  666.9125    ,  734.34479166,\n",
      "        881.94791667,  922.62916667, 1005.02083333, 1120.19270833,\n",
      "       1317.709375  , 1446.08645833, 1658.98541667, 2143.04479166,\n",
      "       2374.684375  , 2504.3125    ])\n",
      "  array([  54.24791667,  418.13229167,  425.02708333,  760.23958333,\n",
      "        999.16770833, 1374.32708333, 1510.92083333, 1625.209375  ,\n",
      "       1650.42083333, 1721.03541667, 1757.13020833, 1760.05520833,\n",
      "       1803.06458333, 1816.05729167, 1852.16458333, 1883.99791667,\n",
      "       1886.17291667, 1939.14895833, 1957.97291667, 2028.31875   ,\n",
      "       2197.62291667, 2299.45833333, 2329.81041667, 2406.16354167])\n",
      "  array([   8.97604167,   10.9125    ,   14.62708333,  169.40625   ,\n",
      "        176.67604167,  214.66354167,  344.75520833,  357.746875  ,\n",
      "       1047.94375   , 1087.13229167, 1180.99583333, 1227.56354167,\n",
      "       1270.790625  , 1322.11770833, 1389.15729167, 1395.57083333,\n",
      "       1407.125     , 1489.16770833, 1522.20729167, 1866.89375   ,\n",
      "       1893.36666667, 1929.56666667, 2071.053125  , 2171.228125  ,\n",
      "       2267.546875  , 2308.05208333, 2366.49375   , 2394.58958333,\n",
      "       2441.30416666])]\n",
      " [array([1050.16458333, 1079.92604167])\n",
      "  array([   5.409375  ,   44.83645833,   57.76354167,   60.184375  ,\n",
      "        126.65416667,  164.27916667,  255.87604167,  262.15520833,\n",
      "        543.0875    ,  554.5625    ,  593.278125  ,  649.21041667,\n",
      "        683.18854167,  802.70208333,  966.703125  , 1147.35      ,\n",
      "       1201.79479166, 1535.71979167, 1663.04479167, 1688.43854167,\n",
      "       1724.15729167, 1815.11354167, 2032.55208333, 2054.93125   ,\n",
      "       2083.221875  , 2111.87083333, 2175.22083333, 2255.53229167,\n",
      "       2283.64583333, 2292.91354167, 2385.421875  , 2464.81666667])\n",
      "  array([1593.98541667, 1978.140625  , 2021.63125   , 2488.07916667]) ...\n",
      "  array([  19.89375   ,   85.39895833,  181.15729167,  242.37708333,\n",
      "        407.15729167,  471.525     ,  524.14895833,  616.0875    ,\n",
      "        746.21979167,  815.86145833,  932.28333333, 1023.76770833,\n",
      "       1169.1       , 1172.43125   , 1198.76041667, 1319.6       ,\n",
      "       1419.25208333, 1477.48020833, 1548.82291667, 1641.51354167,\n",
      "       1877.146875  , 2173.20520833, 2215.48125   ])\n",
      "  array([ 989.10520833, 1010.85729167, 1357.815625  , 1691.52083333,\n",
      "       1816.90104167, 1863.00416667, 1867.91666667, 1887.725     ,\n",
      "       1957.38958333, 1993.76145833, 2141.921875  , 2178.621875  ,\n",
      "       2182.17291667, 2231.81458333, 2252.63958333, 2295.06979167,\n",
      "       2305.425     , 2323.12604167, 2399.83645833, 2417.57916667])\n",
      "  array([ 155.34895833,  279.5       ,  301.92604167,  333.559375  ,\n",
      "        374.32291667,  394.184375  ,  668.93333333,  817.584375  ,\n",
      "        825.94375   ,  874.95833333,  985.234375  , 1148.65625   ,\n",
      "       1227.42395833, 1267.984375  , 1527.965625  , 1555.63958333,\n",
      "       1677.153125  , 1781.83854167, 1849.55104167, 1878.88020833,\n",
      "       1916.16875   , 1926.571875  , 1948.30104167, 1983.54479167,\n",
      "       2023.153125  , 2227.940625  , 2234.26770833, 2289.49375   ,\n",
      "       2312.71458333, 2385.64583333, 2455.50104167])]]\n"
     ]
    }
   ],
   "source": [
    "print(spikeTimes[0][0]) # Claro, porque la neurona 0 disparo 3 veces, en la prueba 0.\n",
    "# Y los tiempos que dice ahi es cuando ocurrio eso, que fue entre timeTouchHeld y timeGoCue\n",
    "print(spikeTimes)\n",
    "# print(timeGoCue)\n",
    "# print(timeTargetAcquire)\n",
    "# print(timeTouchHeld)"
   ]
  },
  {
   "cell_type": "markdown",
   "id": "18e61baa",
   "metadata": {},
   "source": [
    "Each element in the array contains data on one trial. Time stamps for each spike in trial i and neuron j are given in r(i).unit(j).spikeTimes (in ms relative to trial start). Other relevant members of the structure for this homework assignment are: r(i).timeTouchHeld (the time the reach target appears and movement planning nominally begins), r(i).timeGoCue (the time the animal is cued to move and planning nominally ends), r(i).timeTargetAcquire (the time movement ends)."
   ]
  },
  {
   "cell_type": "code",
   "execution_count": null,
   "id": "a8c39624",
   "metadata": {},
   "outputs": [],
   "source": []
  }
 ],
 "metadata": {
  "kernelspec": {
   "display_name": "Python 3 (ipykernel)",
   "language": "python",
   "name": "python3"
  },
  "language_info": {
   "codemirror_mode": {
    "name": "ipython",
    "version": 3
   },
   "file_extension": ".py",
   "mimetype": "text/x-python",
   "name": "python",
   "nbconvert_exporter": "python",
   "pygments_lexer": "ipython3",
   "version": "3.8.8"
  }
 },
 "nbformat": 4,
 "nbformat_minor": 5
}
