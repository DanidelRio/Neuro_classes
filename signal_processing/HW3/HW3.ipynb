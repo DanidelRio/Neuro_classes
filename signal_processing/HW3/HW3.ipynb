{
 "cells": [
  {
   "cell_type": "markdown",
   "id": "5075c83f",
   "metadata": {},
   "source": [
    "# Homework 3\n",
    "### Daniela del Rio"
   ]
  },
  {
   "cell_type": "markdown",
   "id": "3010a108",
   "metadata": {},
   "source": [
    "### Part 1: Plan data only vs movement data"
   ]
  },
  {
   "cell_type": "code",
   "execution_count": 1,
   "id": "5a05db40",
   "metadata": {},
   "outputs": [],
   "source": [
    "import random\n",
    "import math\n",
    "import numpy as np\n",
    "import matplotlib.pyplot as plt"
   ]
  },
  {
   "cell_type": "code",
   "execution_count": 2,
   "id": "2a088877",
   "metadata": {},
   "outputs": [],
   "source": [
    "spikeTimes = np.load('spikeTimes.npy', allow_pickle=True)\n",
    "timeGoCue = np.load('timeGoCue.npy', allow_pickle=True)\n",
    "timeTargetAcquire = np.load('timeTargetAcquire.npy', allow_pickle=True)\n",
    "timeTouchHeld = np.load('timeTouchHeld.npy', allow_pickle=True)\n",
    "cfr = np.load('cfr.npy', allow_pickle=True)"
   ]
  },
  {
   "cell_type": "code",
   "execution_count": 3,
   "id": "c10cef80",
   "metadata": {},
   "outputs": [
    {
     "name": "stdout",
     "output_type": "stream",
     "text": [
      "480\n",
      "1485\n",
      "2005\n",
      "[549.51354167 595.64166667 669.74583333]\n"
     ]
    }
   ],
   "source": [
    "print(timeTouchHeld[0])\n",
    "print(timeGoCue[0])\n",
    "print(timeTargetAcquire[0])\n",
    "print(spikeTimes[0][0]) # Claro, porque la neurona 0 disparo 3 veces, en la prueba 0.\n",
    "# Y los tiempos que dice ahi es cuando ocurrio eso, que fue entre timeTouchHeld y timeGoCue\n",
    "# print(spikeTimes)"
   ]
  },
  {
   "cell_type": "code",
   "execution_count": 4,
   "id": "bda0fc27",
   "metadata": {
    "scrolled": true
   },
   "outputs": [],
   "source": [
    "# Modified example code for finding the number of spikes in the plan and movement window\n",
    "\n",
    "planSpikes = []\n",
    "movementSpikes = []\n",
    "\n",
    "for trialIdx, trialSpikes in enumerate(spikeTimes): #what does st mean?\n",
    "    planSpikes.append([np.sum((st > timeTouchHeld[trialIdx]) & (st < timeGoCue[trialIdx])) for st in trialSpikes])\n",
    "    movementSpikes.append([np.sum((st > timeGoCue[trialIdx]) & (st < timeTargetAcquire[trialIdx])) for st in trialSpikes])\n",
    "\n",
    "planSpikes = np.array(planSpikes) # will be 1127 x 190 (number of trials by number of neurons)\n",
    "movementSpikes = np.array(movementSpikes) # will be 1127 x 190 (number of trials by number of neurons)\n",
    "# planSpikes, movementSpikes"
   ]
  },
  {
   "cell_type": "markdown",
   "id": "935d139e",
   "metadata": {},
   "source": [
    "### Obtaining the rates (lambdas) for each neuron in each trial in the plan, movement and trial-movement window"
   ]
  },
  {
   "cell_type": "code",
   "execution_count": 5,
   "id": "f7d4d738",
   "metadata": {},
   "outputs": [],
   "source": [
    "def all_lambdas(neuron_indices, planSpikes, movementSpikes, timeGoCue, timeTouchHeld, timeTargetAcquire):\n",
    "    \n",
    "    trials = 1127\n",
    "    neurons = len(neuron_indices)\n",
    "\n",
    "    lambda_planSpikes = np.zeros((trials,neurons))\n",
    "    lambda_movementSpikes = np.zeros((trials,neurons))\n",
    "    lambda_plan_move_Spikes = np.zeros((trials,neurons))\n",
    "\n",
    "    # Careful! You must use the correct indices\n",
    "\n",
    "    for trial_i in range(trials):\n",
    "        for neuron_i in range(neurons):\n",
    "            original_neu_i = neuron_indices[neuron_i]\n",
    "\n",
    "            lambda_planSpikes[trial_i][neuron_i] = planSpikes[trial_i][original_neu_i]/(timeGoCue[trial_i]-timeTouchHeld[trial_i])\n",
    "            lambda_movementSpikes[trial_i][neuron_i] = movementSpikes[trial_i][original_neu_i]/(timeTargetAcquire[trial_i]-timeGoCue[trial_i])\n",
    "\n",
    "            #Combined data\n",
    "            spikes = planSpikes[trial_i][original_neu_i] + movementSpikes[trial_i][original_neu_i]\n",
    "            time_window = (timeGoCue[trial_i]-timeTouchHeld[trial_i]) + (timeTargetAcquire[trial_i]-timeGoCue[trial_i])\n",
    "            lambda_plan_move_Spikes[trial_i][neuron_i] = spikes/time_window\n",
    "            \n",
    "    return lambda_planSpikes, lambda_movementSpikes, lambda_plan_move_Spikes"
   ]
  },
  {
   "cell_type": "code",
   "execution_count": 6,
   "id": "73c32fc2",
   "metadata": {},
   "outputs": [],
   "source": [
    "# Training data\n",
    "# The cfr has the objective of each trial.\n",
    "# Randomly choose 50 data sets for each direction, that is 400 sets in total.\n",
    "def Training_data_and_lambdas(cfr, lambda_planSpikes, lambda_movementSpikes, lambda_plan_move_Spikes,\n",
    "                              neuron_indices=[i for i in range(190)], data_sets=50):\n",
    "    trials = 1127\n",
    "    neurons = len(neuron_indices)\n",
    "    \n",
    "    # Indices of each objective\n",
    "    vec_1 = [i for i in range(len(cfr)) if cfr[i] == 1]\n",
    "    vec_2 = [i for i in range(len(cfr)) if cfr[i] == 2]\n",
    "    vec_3 = [i for i in range(len(cfr)) if cfr[i] == 3]\n",
    "    vec_4 = [i for i in range(len(cfr)) if cfr[i] == 4]\n",
    "    vec_5 = [i for i in range(len(cfr)) if cfr[i] == 5]\n",
    "    vec_6 = [i for i in range(len(cfr)) if cfr[i] == 6]\n",
    "    vec_7 = [i for i in range(len(cfr)) if cfr[i] == 7]\n",
    "    vec_8 = [i for i in range(len(cfr)) if cfr[i] == 8]\n",
    "\n",
    "    # Training indices for each objective\n",
    "    training_1 = random.sample(vec_1, data_sets)\n",
    "    training_2 = random.sample(vec_2, data_sets)\n",
    "    training_3 = random.sample(vec_3, data_sets)\n",
    "    training_4 = random.sample(vec_4, data_sets)\n",
    "    training_5 = random.sample(vec_5, data_sets)\n",
    "    training_6 = random.sample(vec_6, data_sets)\n",
    "    training_7 = random.sample(vec_7, data_sets)\n",
    "    training_8 = random.sample(vec_8, data_sets)\n",
    "    \n",
    "    # Organizing the training and testing indices\n",
    "    training_indices = np.column_stack((training_1, training_2, training_3, training_4,\n",
    "                                        training_5, training_6, training_7, training_8))\n",
    "    training_indices = training_indices.reshape(400)\n",
    "    training_indices = np.sort(training_indices)\n",
    "#     training_indices\n",
    "\n",
    "    testing_indices = []\n",
    "\n",
    "    for i in range(trials):\n",
    "        if i not in training_indices:\n",
    "            testing_indices.append(i)\n",
    "            \n",
    "    # Obtaining the lambdas we will use for evaluating in the Poisson model\n",
    "    # There are lambdas for planning, movement and plan_movement epochs.\n",
    "\n",
    "    lambda_plan = np.zeros((8, neurons))\n",
    "    lambda_movement = np.zeros((8, neurons))\n",
    "    lambda_plan_move = np.zeros((8, neurons))\n",
    "\n",
    "    for neuron_i in range(neurons):\n",
    "        for i in training_1: #Cycle for training data in 1st direction\n",
    "            \n",
    "            lambda_plan[0][neuron_i] += lambda_planSpikes[i][neuron_i] # Lambda for neuron i\n",
    "            lambda_movement[0][neuron_i] += lambda_movementSpikes[i][neuron_i] # Lambda for neuron i\n",
    "            lambda_plan_move[0][neuron_i] += lambda_plan_move_Spikes[i][neuron_i] # Lambda for neuron i\n",
    "\n",
    "        for i in training_2: #Cycle for training data in 2nd direction\n",
    "            lambda_plan[1][neuron_i] += lambda_planSpikes[i][neuron_i] # Lambda for neuron i\n",
    "            lambda_movement[1][neuron_i] += lambda_movementSpikes[i][neuron_i] # Lambda for neuron i\n",
    "            lambda_plan_move[1][neuron_i] += lambda_plan_move_Spikes[i][neuron_i] # Lambda for neuron i\n",
    "\n",
    "        for i in training_3: #Cycle for training data in 3rd direction\n",
    "            lambda_plan[2][neuron_i] += lambda_planSpikes[i][neuron_i] # Lambda for neuron i\n",
    "            lambda_movement[2][neuron_i] += lambda_movementSpikes[i][neuron_i] # Lambda for neuron i\n",
    "            lambda_plan_move[2][neuron_i] += lambda_plan_move_Spikes[i][neuron_i] # Lambda for neuron i\n",
    "\n",
    "        for i in training_4: #Cycle for training data in 4th direction\n",
    "            lambda_plan[3][neuron_i] += lambda_planSpikes[i][neuron_i] # Lambda for neuron i\n",
    "            lambda_movement[3][neuron_i] += lambda_movementSpikes[i][neuron_i] # Lambda for neuron i\n",
    "            lambda_plan_move[3][neuron_i] += lambda_plan_move_Spikes[i][neuron_i] # Lambda for neuron i\n",
    "\n",
    "        for i in training_5: #Cycle for training data in 5th direction\n",
    "            lambda_plan[4][neuron_i] += lambda_planSpikes[i][neuron_i] # Lambda for neuron i\n",
    "            lambda_movement[4][neuron_i] += lambda_movementSpikes[i][neuron_i] # Lambda for neuron i\n",
    "            lambda_plan_move[4][neuron_i] += lambda_plan_move_Spikes[i][neuron_i] # Lambda for neuron i\n",
    "\n",
    "        for i in training_6: #Cycle for training data in 6th direction\n",
    "            lambda_plan[5][neuron_i] += lambda_planSpikes[i][neuron_i] # Lambda for neuron i\n",
    "            lambda_movement[5][neuron_i] += lambda_movementSpikes[i][neuron_i] # Lambda for neuron i\n",
    "            lambda_plan_move[5][neuron_i] += lambda_plan_move_Spikes[i][neuron_i] # Lambda for neuron i\n",
    "\n",
    "        for i in training_7: #Cycle for training data in 7th direction\n",
    "            lambda_plan[6][neuron_i] += lambda_planSpikes[i][neuron_i] # Lambda for neuron i\n",
    "            lambda_movement[6][neuron_i] += lambda_movementSpikes[i][neuron_i] # Lambda for neuron i\n",
    "            lambda_plan_move[6][neuron_i] += lambda_plan_move_Spikes[i][neuron_i] # Lambda for neuron i\n",
    "\n",
    "        for i in training_8: #Cycle for training data in 8th direction\n",
    "            lambda_plan[7][neuron_i] += lambda_planSpikes[i][neuron_i] # Lambda for neuron i\n",
    "            lambda_movement[7][neuron_i] += lambda_movementSpikes[i][neuron_i] # Lambda for neuron i\n",
    "            lambda_plan_move[7][neuron_i] += lambda_plan_move_Spikes[i][neuron_i] # Lambda for neuron i\n",
    "\n",
    "    lambda_plan = lambda_plan/50\n",
    "    lambda_movement = lambda_movement/50\n",
    "    lambda_plan_move = lambda_plan_move/50\n",
    "\n",
    "    return testing_indices, lambda_plan, lambda_movement, lambda_plan_move # Vectors of 8*190 = 1520"
   ]
  },
  {
   "cell_type": "code",
   "execution_count": 7,
   "id": "2432bfef",
   "metadata": {},
   "outputs": [],
   "source": [
    "# Likelihood equation\n",
    "def Poisson(x_d, lambda_d): #This formula is only for the testing data\n",
    "\n",
    "    if lambda_d < 1e-100: # Very small lambdas return a value that goes to infty.\n",
    "        log_term = -230*x_d\n",
    "    else:\n",
    "        log_term = x_d*np.log(lambda_d)\n",
    "        \n",
    "#     if x_d >20: # For more than 20 spikes, the log(spikes!) comes with an error message\n",
    "#         # AttributeError: 'int' object has no attribute 'log'\n",
    "#         # np.log(math.factorial(20)) # For numbers greater than 20, there comes this error message\n",
    "#         factorial = np.log(np.double(np.math.factorial(x_d)))\n",
    "#     else:\n",
    "#         factorial = np.log(math.factorial(x_d))\n",
    "        \n",
    "    return -lambda_d + log_term # - factorial\n",
    "# Note the factorial term does not matter because it is the same term for each direction, so when you compare them,\n",
    "# it does not make a difference"
   ]
  },
  {
   "cell_type": "code",
   "execution_count": 8,
   "id": "6b281a3e",
   "metadata": {
    "scrolled": true
   },
   "outputs": [],
   "source": [
    "def complete_process(neuron_indices, planSpikes, movementSpikes, timeGoCue, timeTouchHeld, timeTargetAcquire, cfr):\n",
    "    neurons = len(neuron_indices)\n",
    "    lambda_planSpikes, lambda_movementSpikes, lambda_plan_move_Spikes = all_lambdas(neuron_indices, planSpikes,\n",
    "                                                                                    movementSpikes, timeGoCue,\n",
    "                                                                                    timeTouchHeld, timeTargetAcquire)\n",
    "    testing_indices, lambda_plan, lambda_movement, lambda_plan_move = Training_data_and_lambdas(cfr, lambda_planSpikes,\n",
    "                                                                                                lambda_movementSpikes,\n",
    "                                                                                                lambda_plan_move_Spikes,\n",
    "                                                                                               neuron_indices)\n",
    "\n",
    "    # Poisson values for the planning and movement data\n",
    "    direction_values_plan = np.zeros(len(testing_indices))\n",
    "    direction_values_move = np.zeros(len(testing_indices))\n",
    "    direction_values_plan_move = np.zeros(len(testing_indices))\n",
    "    i = 0\n",
    "\n",
    "    for testing_i in testing_indices:\n",
    "        aux_plan = np.zeros(8)\n",
    "        aux_move = np.zeros(8)\n",
    "        aux_plan_move = np.zeros(8)\n",
    "\n",
    "        for direction_i in range(8):\n",
    "            for neuron_i in range(neurons):\n",
    "\n",
    "                aux_plan[direction_i] += Poisson(lambda_planSpikes[testing_i][neuron_i], lambda_plan[direction_i][neuron_i])\n",
    "                aux_move[direction_i] += Poisson(lambda_movementSpikes[testing_i][neuron_i], lambda_movement[direction_i][neuron_i])\n",
    "                aux_plan_move[direction_i] += Poisson(lambda_plan_move_Spikes[testing_i][neuron_i], lambda_plan_move[direction_i][neuron_i])\n",
    "\n",
    "        # These last 3 arrays cannot be called with the same index as the original values.\n",
    "        direction_values_plan[i] = np.argmax(aux_plan)+1\n",
    "        direction_values_move[i] = np.argmax(aux_move)+1\n",
    "        direction_values_plan_move[i] = np.argmax(aux_plan_move)+1\n",
    "\n",
    "        i+=1 # This is only an index for the testing_indices\n",
    "\n",
    "    # Correctness of trials\n",
    "    i = 0\n",
    "    correct_trials_plan = 0\n",
    "    correct_trials_move = 0\n",
    "    correct_trials_plan_move = 0\n",
    "\n",
    "    # Yes, you must call them with different indices because they have different sizes.\n",
    "    # But you did the correct mapping.\n",
    "    for testing_i in testing_indices:\n",
    "\n",
    "        if cfr[testing_i] == direction_values_plan[i]:\n",
    "            correct_trials_plan += 1\n",
    "\n",
    "        if cfr[testing_i] == direction_values_move[i]:\n",
    "            correct_trials_move += 1\n",
    "\n",
    "        if cfr[testing_i] == direction_values_plan_move[i]:\n",
    "            correct_trials_plan_move += 1\n",
    "\n",
    "        i += 1\n",
    "\n",
    "    return [correct_trials_plan/len(testing_indices), correct_trials_move/len(testing_indices), correct_trials_plan_move/len(testing_indices)]"
   ]
  },
  {
   "cell_type": "code",
   "execution_count": 9,
   "id": "ea38d196",
   "metadata": {},
   "outputs": [
    {
     "name": "stdout",
     "output_type": "stream",
     "text": [
      "Correct trials in planning:  0.8762035763411279\n",
      "Correct trials in movement:  0.951856946354883\n",
      "Correct trials in planning and movement:  0.9779917469050894\n"
     ]
    }
   ],
   "source": [
    "neuron_indices = [i for i in range(190)]\n",
    "\n",
    "correct_plan, correct_move, correct_plan_move = complete_process(neuron_indices, planSpikes, movementSpikes,\n",
    "                                                                 timeGoCue, timeTouchHeld, timeTargetAcquire, cfr)\n",
    "print(\"Correct trials in planning: \", correct_plan)\n",
    "print(\"Correct trials in movement: \", correct_move)\n",
    "print(\"Correct trials in planning and movement: \", correct_plan_move)"
   ]
  },
  {
   "cell_type": "markdown",
   "id": "37f4753d",
   "metadata": {},
   "source": [
    "### Part 2: Amount of plan data\n",
    "\n",
    "a. The plan periods in the data set are either 755 or 1005 ms. Consider decoding using less than the full plan period. Generate new models for plan periods of increasing size (50 ms to 750 ms in 50 ms increments, where all plan windows begin at the target onset time). Using maximum likelihood estimation, decode the reach target for the test data using these different sized windows of neural data. (Both train and test with these window sizes!) Plot the decoding accuracy as a function of the size of the decoding window. Briefly describe what you see. (20 pts)"
   ]
  },
  {
   "cell_type": "code",
   "execution_count": 10,
   "id": "0a93a2a0",
   "metadata": {},
   "outputs": [],
   "source": [
    "# Finds the number of spikes in the MODIFIED plan window\n",
    "def spikes_window(time_window, spikeTimes, trialSpikes, timeTouchHeld):\n",
    "    mod_planSpikes = []\n",
    "    mod_movementSpikes = []\n",
    "\n",
    "    for trialIdx, trialSpikes in enumerate(spikeTimes): #what does st mean? The iteration variable\n",
    "        mod_planSpikes.append([np.sum((st > timeTouchHeld[trialIdx]) & (st < timeTouchHeld[trialIdx]+time_window)) for st in trialSpikes])\n",
    "        mod_movementSpikes.append([np.sum((st > timeGoCue[trialIdx]) & (st < timeGoCue[trialIdx]+time_window)) for st in trialSpikes])\n",
    "        \n",
    "    mod_planSpikes = np.array(mod_planSpikes) # will be 1127 x 190 (number of trials by number of neurons)\n",
    "    mod_movementSpikes = np.array(mod_movementSpikes) # will be 1127 x 190 (number of trials by number of neurons)\n",
    "    \n",
    "    return mod_planSpikes, mod_movementSpikes"
   ]
  },
  {
   "cell_type": "markdown",
   "id": "0dc2fd3a",
   "metadata": {},
   "source": [
    "# You should come back to this tomorrow, you are no longer following a thinking stream"
   ]
  },
  {
   "cell_type": "code",
   "execution_count": 11,
   "id": "10e13d3e",
   "metadata": {},
   "outputs": [],
   "source": [
    "# Modified version of all_lambdas\n",
    "def Change_time_window_V2(time_window, spikeTimes, trialSpikes, timeTouchHeld):\n",
    "    mod_planSpikes, mod_movementSpikes = spikes_window(time_window, spikeTimes, trialSpikes, timeTouchHeld)\n",
    "    \n",
    "    neuron_indices = [i for i in range(190)]\n",
    "    \n",
    "    # function all lambdas\n",
    "    trials = 1127\n",
    "    neurons = len(neuron_indices)\n",
    "\n",
    "    lambda_planSpikes = np.zeros((trials,neurons))\n",
    "    lambda_movementSpikes = np.zeros((trials,neurons))\n",
    "    lambda_plan_move_Spikes = np.zeros((trials,neurons))\n",
    "\n",
    "    for trial_i in range(trials):\n",
    "        for neuron_i in range(neurons):\n",
    "            original_neu_i = neuron_i\n",
    "\n",
    "            lambda_planSpikes[trial_i][neuron_i] = mod_planSpikes[trial_i][original_neu_i]/time_window\n",
    "            lambda_movementSpikes[trial_i][neuron_i] = mod_movementSpikes[trial_i][original_neu_i]/time_window\n",
    "\n",
    "            #Combined data\n",
    "            spikes = mod_planSpikes[trial_i][original_neu_i] + mod_movementSpikes[trial_i][original_neu_i]\n",
    "            lambda_plan_move_Spikes[trial_i][neuron_i] = spikes/(2*time_window)\n",
    "    \n",
    "    return lambda_planSpikes, lambda_movementSpikes, lambda_plan_move_Spikes"
   ]
  },
  {
   "cell_type": "markdown",
   "id": "66b8d347",
   "metadata": {},
   "source": [
    "# Idea from Kayla, maybe it's not recalculating the window size"
   ]
  },
  {
   "cell_type": "code",
   "execution_count": 17,
   "id": "969289b4",
   "metadata": {},
   "outputs": [
    {
     "ename": "TypeError",
     "evalue": "cannot unpack non-iterable NoneType object",
     "output_type": "error",
     "traceback": [
      "\u001b[0;31m---------------------------------------------------------------------------\u001b[0m",
      "\u001b[0;31mTypeError\u001b[0m                                 Traceback (most recent call last)",
      "\u001b[0;32m/tmp/ipykernel_25581/3076406049.py\u001b[0m in \u001b[0;36m<module>\u001b[0;34m\u001b[0m\n\u001b[1;32m      1\u001b[0m \u001b[0mtime_window\u001b[0m \u001b[0;34m=\u001b[0m \u001b[0;36m50\u001b[0m\u001b[0;34m\u001b[0m\u001b[0;34m\u001b[0m\u001b[0m\n\u001b[0;32m----> 2\u001b[0;31m \u001b[0mlambda_planSpikes\u001b[0m\u001b[0;34m,\u001b[0m \u001b[0mlambda_movementSpikes\u001b[0m\u001b[0;34m,\u001b[0m \u001b[0mlambda_plan_move_Spikes\u001b[0m \u001b[0;34m=\u001b[0m \u001b[0mChange_time_window_V2\u001b[0m\u001b[0;34m(\u001b[0m\u001b[0mtime_window\u001b[0m\u001b[0;34m,\u001b[0m \u001b[0mspikeTimes\u001b[0m\u001b[0;34m,\u001b[0m \u001b[0mtrialSpikes\u001b[0m\u001b[0;34m,\u001b[0m \u001b[0mtimeTouchHeld\u001b[0m\u001b[0;34m)\u001b[0m\u001b[0;34m\u001b[0m\u001b[0;34m\u001b[0m\u001b[0m\n\u001b[0m\u001b[1;32m      3\u001b[0m \u001b[0mprint\u001b[0m\u001b[0;34m(\u001b[0m\u001b[0mcorrect_plan\u001b[0m\u001b[0;34m)\u001b[0m\u001b[0;34m\u001b[0m\u001b[0;34m\u001b[0m\u001b[0m\n\u001b[1;32m      4\u001b[0m \u001b[0mprint\u001b[0m\u001b[0;34m(\u001b[0m\u001b[0mcorrect_move\u001b[0m\u001b[0;34m)\u001b[0m\u001b[0;34m\u001b[0m\u001b[0;34m\u001b[0m\u001b[0m\n\u001b[1;32m      5\u001b[0m \u001b[0mprint\u001b[0m\u001b[0;34m(\u001b[0m\u001b[0mcorrect_plan_move\u001b[0m\u001b[0;34m)\u001b[0m\u001b[0;34m\u001b[0m\u001b[0;34m\u001b[0m\u001b[0m\n",
      "\u001b[0;31mTypeError\u001b[0m: cannot unpack non-iterable NoneType object"
     ]
    }
   ],
   "source": [
    "time_window = 50\n",
    "lambda_planSpikes, lambda_movementSpikes, lambda_plan_move_Spikes = Change_time_window_V2(time_window, spikeTimes, trialSpikes, timeTouchHeld)\n",
    "print(correct_plan)\n",
    "print(correct_move)\n",
    "print(correct_plan_move)"
   ]
  },
  {
   "cell_type": "code",
   "execution_count": null,
   "id": "e947fd10",
   "metadata": {},
   "outputs": [],
   "source": [
    "# Takes around 2 min to run\n",
    "n = 15\n",
    "time_windows = [i*50+50 for i in range(n)]\n",
    "print(time_windows)\n",
    "\n",
    "correct_plans = np.zeros(n)\n",
    "correct_moves = np.zeros(n)\n",
    "correct_plan_moves = np.zeros(n)\n",
    "\n",
    "for i in range(len(time_windows)):\n",
    "    print(\"Running \"+str(time_windows[i])+\"ms time window.\")\n",
    "    \n",
    "    correct_plans[i], correct_moves[i], correct_plan_moves[i] = Change_time_window_V2(time_window, spikeTimes,\n",
    "                                                                                   trialSpikes, timeTouchHeld)"
   ]
  },
  {
   "cell_type": "markdown",
   "id": "2ec7d0ee",
   "metadata": {},
   "source": [
    "# There is something wrong. The decoding accuracy of the small time window is the same as the big time window..."
   ]
  },
  {
   "cell_type": "code",
   "execution_count": null,
   "id": "d1531698",
   "metadata": {},
   "outputs": [],
   "source": [
    "plt.plot(time_windows, correct_plans, marker=\"o\", label = \"Planning\")\n",
    "plt.plot(time_windows, correct_moves, marker=\"o\", label = \"Movement\")\n",
    "plt.plot(time_windows, correct_plan_moves, marker=\"o\", label = \"Plan and move\")\n",
    "plt.plot([0, 750], [1, 1], marker = \",\", label=\"Ideal\")\n",
    "plt.xlabel(\"Time windows [ms]\")\n",
    "plt.ylabel(\"Decoding accuracy\")\n",
    "plt.legend()\n",
    "plt.ylim([0, 1.1])\n",
    "plt.show()"
   ]
  },
  {
   "cell_type": "code",
   "execution_count": null,
   "id": "bc2ab190",
   "metadata": {},
   "outputs": [],
   "source": []
  },
  {
   "cell_type": "code",
   "execution_count": null,
   "id": "a4f29380",
   "metadata": {},
   "outputs": [],
   "source": []
  },
  {
   "cell_type": "code",
   "execution_count": null,
   "id": "77eea7b8",
   "metadata": {},
   "outputs": [],
   "source": []
  },
  {
   "cell_type": "markdown",
   "id": "d79ae51a",
   "metadata": {},
   "source": [
    "### Part 2 of question 2: sliding window\n",
    "b. Now, instead of using an increasing window size, use a constant 200 ms window, but slide the window start time from target onset (“0”) to 550 ms after target onset (use 50 ms steps). Generate new models for each window location and decode the reach target for the test data. Plot the decoding accuracy as a function of the temporal location of the decoding window. Briefly describe what you see. (20 pts)"
   ]
  },
  {
   "cell_type": "markdown",
   "id": "6354918d",
   "metadata": {},
   "source": [
    "No se entiende el siguiente choro. Por favor dividelo en funciones y exlica que es lo que vas haciendo."
   ]
  },
  {
   "cell_type": "code",
   "execution_count": 33,
   "id": "b2316f63",
   "metadata": {},
   "outputs": [],
   "source": [
    "n = 4 #11\n",
    "sliding_window_init = [i*50+50 for i in range(n)] #left_window\n",
    "# print(sliding_window_init)\n",
    "sliding_window_end = [i*50+250 for i in range(n)]\n",
    "# print(sliding_window_end)\n",
    "\n",
    "correct_plans = np.zeros(n)\n",
    "correct_moves = np.zeros(n)\n",
    "correct_plan_moves = np.zeros(n)\n",
    "\n",
    "for window_i in range(n):\n",
    "    init_window = sliding_window_init[window_i]\n",
    "    end_window = sliding_window_end[window_i]\n",
    "\n",
    "    mod_planSpikes = []\n",
    "    mod_movementSpikes = []\n",
    "\n",
    "    for trialIdx, trialSpikes in enumerate(spikeTimes): #what does st mean? The iteration variable\n",
    "        left_plan = timeTouchHeld[trialIdx] + init_window\n",
    "        right_plan = timeTouchHeld[trialIdx] + end_window\n",
    "\n",
    "        left_move = timeGoCue[trialIdx] + init_window\n",
    "        right_move = timeGoCue[trialIdx] + end_window\n",
    "\n",
    "        mod_planSpikes.append([np.sum((st > left_plan) & (st < right_plan)) for st in trialSpikes])\n",
    "        mod_movementSpikes.append([np.sum((st > left_move) & (st < right_move)) for st in trialSpikes])\n",
    "\n",
    "    mod_planSpikes = np.array(mod_planSpikes) # will be 1127 x 190 (number of trials by number of neurons)\n",
    "    mod_movementSpikes = np.array(mod_movementSpikes) # will be 1127 x 190 (number of trials by number of neurons)\n",
    "\n",
    "    trials = 1127\n",
    "    neurons = 190\n",
    "\n",
    "    lambda_planSpikes = np.zeros((trials,neurons))\n",
    "    lambda_movementSpikes = np.zeros((trials,neurons))\n",
    "    lambda_plan_move_Spikes = np.zeros((trials,neurons))\n",
    "\n",
    "    for trial_i in range(trials):\n",
    "        for neuron_i in range(neurons):\n",
    "            original_neu_i = neuron_i\n",
    "\n",
    "            lambda_planSpikes[trial_i][neuron_i] = mod_planSpikes[trial_i][original_neu_i]/(end_window-init_window)\n",
    "            lambda_movementSpikes[trial_i][neuron_i] = mod_movementSpikes[trial_i][original_neu_i]/(end_window-init_window)\n",
    "\n",
    "            #Combined data\n",
    "            spikes = mod_planSpikes[trial_i][original_neu_i] + mod_movementSpikes[trial_i][original_neu_i]\n",
    "            lambda_plan_move_Spikes[trial_i][neuron_i] = spikes/(2*(end_window-init_window))\n",
    "\n",
    "    # return lambda_planSpikes, lambda_movementSpikes, lambda_plan_move_Spikes\n",
    "\n",
    "    # Rest of code in Complete_precess function\n",
    "    testing_indices, lambda_plan, lambda_movement, lambda_plan_move = Training_data_and_lambdas(cfr, lambda_planSpikes,\n",
    "                                                                                                lambda_movementSpikes,\n",
    "                                                                                                lambda_plan_move_Spikes,\n",
    "                                                                                               neuron_indices)\n",
    "\n",
    "    # Poisson values for the planning and movement data\n",
    "    direction_values_plan = np.zeros(len(testing_indices))\n",
    "    direction_values_move = np.zeros(len(testing_indices))\n",
    "    direction_values_plan_move = np.zeros(len(testing_indices))\n",
    "    i = 0\n",
    "\n",
    "    for testing_i in testing_indices:\n",
    "        aux_plan = np.zeros(8)\n",
    "        aux_move = np.zeros(8)\n",
    "        aux_plan_move = np.zeros(8)\n",
    "\n",
    "        for direction_i in range(8):\n",
    "            for neuron_i in range(neurons):\n",
    "\n",
    "                aux_plan[direction_i] += Poisson(lambda_planSpikes[testing_i][neuron_i], lambda_plan[direction_i][neuron_i])\n",
    "                aux_move[direction_i] += Poisson(lambda_movementSpikes[testing_i][neuron_i], lambda_movement[direction_i][neuron_i])\n",
    "                aux_plan_move[direction_i] += Poisson(lambda_plan_move_Spikes[testing_i][neuron_i], lambda_plan_move[direction_i][neuron_i])\n",
    "\n",
    "        # These last 3 arrays cannot be called with the same index as the original values.\n",
    "        direction_values_plan[i] = np.argmax(aux_plan)+1\n",
    "        direction_values_move[i] = np.argmax(aux_move)+1\n",
    "        direction_values_plan_move[i] = np.argmax(aux_plan_move)+1\n",
    "\n",
    "        i+=1 # This is only an index for the testing_indices\n",
    "\n",
    "    # Correctness of trials\n",
    "    i = 0\n",
    "    correct_trials_plan = 0\n",
    "    correct_trials_move = 0\n",
    "    correct_trials_plan_move = 0\n",
    "\n",
    "    # Yes, you must call them with different indices because they have different sizes.\n",
    "    # But you did the correct mapping.\n",
    "    for testing_i in testing_indices:\n",
    "\n",
    "        if cfr[testing_i] == direction_values_plan[i]:\n",
    "            correct_trials_plan += 1\n",
    "\n",
    "        if cfr[testing_i] == direction_values_move[i]:\n",
    "            correct_trials_move += 1\n",
    "\n",
    "        if cfr[testing_i] == direction_values_plan_move[i]:\n",
    "            correct_trials_plan_move += 1\n",
    "\n",
    "        i += 1\n",
    "\n",
    "    #     print(\"Correct trials in planning: \", correct_trials_plan/len(testing_indices))\n",
    "    #     print(\"Correct trials in movement: \", correct_trials_move/len(testing_indices))\n",
    "    #     print(\"Correct trials in planning and movement: \", correct_trials_plan_move/len(testing_indices))\n",
    "    correct_plans[window_i] = correct_trials_plan/len(testing_indices)\n",
    "    correct_moves[window_i] = correct_trials_move/len(testing_indices)\n",
    "    correct_plan_moves[window_i] = correct_trials_plan_move/len(testing_indices)"
   ]
  },
  {
   "cell_type": "code",
   "execution_count": 35,
   "id": "d093d71e",
   "metadata": {},
   "outputs": [
    {
     "data": {
      "image/png": "[encoded data removed]",
      "text/plain": [
       "<Figure size 432x288 with 1 Axes>"
      ]
     },
     "metadata": {
      "needs_background": "light"
     },
     "output_type": "display_data"
    }
   ],
   "source": [
    "plt.plot(sliding_window_init, correct_plans, marker=\"o\", label = \"Planning\")\n",
    "plt.plot(sliding_window_init, correct_moves, marker=\"o\", label = \"Movement\")\n",
    "plt.plot(sliding_window_init, correct_plan_moves, marker=\"o\", label = \"Plan and move\")\n",
    "plt.plot([50, 200], [1, 1], marker = \",\", label=\"Ideal\")\n",
    "plt.xlabel(\"Time window initial value [ms]\")\n",
    "plt.ylabel(\"Decoding accuracy\")\n",
    "plt.legend()\n",
    "plt.ylim([0, 1.1])\n",
    "plt.show()"
   ]
  },
  {
   "cell_type": "code",
   "execution_count": null,
   "id": "b52d570d",
   "metadata": {},
   "outputs": [],
   "source": []
  },
  {
   "cell_type": "markdown",
   "id": "09b8732f",
   "metadata": {},
   "source": [
    "### Part 3: Number of neurons\n",
    "\n",
    "Using your model from (1), you decoded maximum likelihood targets using all 190 neurons. Now, perform a “neuron dropping analysis”. Starting with your full model, randomly eliminate neurons and evaluate decoding accuracy in the reduced data set. Eliminate between 20 and 180 neurons (by 20s – so decode using between 10 and 190 neurons in steps of 20) – average each point (number of neurons) by randomly choosing neurons to be dropped 20 times. Plot decoding accuracy as a function of the number of neurons available to the decoder. Briefly describe what you see?\n"
   ]
  },
  {
   "cell_type": "code",
   "execution_count": 18,
   "id": "f598da78",
   "metadata": {},
   "outputs": [],
   "source": [
    "def neuron_drop(eliminated, neurons = 190):\n",
    "    return np.sort(random.sample([i for i in range(neurons)], neurons-eliminated))"
   ]
  },
  {
   "cell_type": "code",
   "execution_count": 19,
   "id": "91c7682e",
   "metadata": {},
   "outputs": [
    {
     "name": "stdout",
     "output_type": "stream",
     "text": [
      "Running 0 neurons.\n",
      "Running 20 neurons.\n",
      "Running 40 neurons.\n",
      "Running 60 neurons.\n",
      "Running 80 neurons.\n",
      "Running 100 neurons.\n",
      "Running 120 neurons.\n",
      "Running 140 neurons.\n",
      "Running 160 neurons.\n",
      "Running 180 neurons.\n"
     ]
    }
   ],
   "source": [
    "n = 10\n",
    "amount_of_neurons = [i*20 for i in range(n)]\n",
    "# print(amount_of_neurons)\n",
    "# [len(neuron_drop(amount_of_neurons[i])) for i in range(n)]\n",
    "\n",
    "correct_plans = np.zeros(n)\n",
    "correct_moves = np.zeros(n)\n",
    "correct_plan_moves = np.zeros(n)\n",
    "\n",
    "for i in range(len(amount_of_neurons)):\n",
    "    print(\"Dropping \"+str(amount_of_neurons[i])+\" neurons.\")\n",
    "    neuron_indices = neuron_drop(amount_of_neurons[i])\n",
    "    neurons = len(neuron_indices)\n",
    "\n",
    "    correct_plans[i], correct_moves[i], correct_plan_moves[i] = complete_process(neuron_indices, planSpikes,\n",
    "                                                                                 movementSpikes, timeGoCue,\n",
    "                                                                                 timeTouchHeld, timeTargetAcquire,\n",
    "                                                                                 cfr)"
   ]
  },
  {
   "cell_type": "code",
   "execution_count": 20,
   "id": "1f1e7485",
   "metadata": {},
   "outputs": [
    {
     "data": {
      "image/png": "[encoded data removed]",
      "text/plain": [
       "<Figure size 432x288 with 1 Axes>"
      ]
     },
     "metadata": {
      "needs_background": "light"
     },
     "output_type": "display_data"
    }
   ],
   "source": [
    "plt.plot(amount_of_neurons, correct_plans, marker=\"o\", label = \"Planning\")\n",
    "plt.plot(amount_of_neurons, correct_moves, marker=\"o\", label = \"Movement\")\n",
    "plt.plot(amount_of_neurons, correct_plan_moves, marker=\"o\", label = \"Plan and move\")\n",
    "plt.plot([0, 180], [1, 1], marker = \",\", label=\"Ideal\")\n",
    "plt.xlabel(\"Neurons dropped\")\n",
    "plt.ylabel(\"Decoding accuracy\")\n",
    "plt.legend()\n",
    "plt.ylim([0, 1.1])\n",
    "plt.show()"
   ]
  },
  {
   "cell_type": "markdown",
   "id": "3caaaf34",
   "metadata": {},
   "source": [
    "Notice how in the previous graph, the decoding accuracy is constant around 0.9, but after 100 to 130 neurons are dropped, this accuracy number decreases very rapidly."
   ]
  },
  {
   "cell_type": "code",
   "execution_count": null,
   "id": "37de9dc0",
   "metadata": {},
   "outputs": [],
   "source": []
  }
 ],
 "metadata": {
  "kernelspec": {
   "display_name": "Python 3 (ipykernel)",
   "language": "python",
   "name": "python3"
  },
  "language_info": {
   "codemirror_mode": {
    "name": "ipython",
    "version": 3
   },
   "file_extension": ".py",
   "mimetype": "text/x-python",
   "name": "python",
   "nbconvert_exporter": "python",
   "pygments_lexer": "ipython3",
   "version": "3.8.8"
  }
 },
 "nbformat": 4,
 "nbformat_minor": 5
}
