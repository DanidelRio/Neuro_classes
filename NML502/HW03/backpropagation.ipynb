{
 "cells": [
  {
   "cell_type": "markdown",
   "id": "3ee99f63",
   "metadata": {},
   "source": [
    "Based on Aniruddha Karajgi: https://towardsdatascience.com/how-neural-networks-solve-the-xor-problem-59763136bdd7\n",
    "\n",
    "https://github.com/Polaris000/BlogCode/blob/main/XOR_Perceptron/xorperceptron.ipynb\n",
    "\n",
    "In case you wish more code resources:\n",
    "https://towardsdatascience.com/coding-a-2-layer-neural-network-from-scratch-in-python-4dd022d19fd2"
   ]
  },
  {
   "cell_type": "code",
   "execution_count": 1,
   "id": "eea32e95",
   "metadata": {},
   "outputs": [],
   "source": [
    "import numpy as np\n",
    "# import random as rd\n",
    "import matplotlib.pyplot as plt"
   ]
  },
  {
   "cell_type": "code",
   "execution_count": 2,
   "id": "76a8f0bd",
   "metadata": {},
   "outputs": [],
   "source": [
    "# plt.rcParams[\"figure.figsize\"] = [10, 5]"
   ]
  },
  {
   "cell_type": "code",
   "execution_count": 3,
   "id": "fcfba143",
   "metadata": {},
   "outputs": [],
   "source": [
    "class MLP:\n",
    "    \"\"\"\n",
    "    train_data: Input data (XOR case: 4x2 matrix)\n",
    "\n",
    "    target: Expected outputs (XOR case: 4x1 matrix)\n",
    "\n",
    "    lr: the learning rate.\n",
    "\n",
    "    num_epochs: the number of times the training data goes through the model while training\n",
    "\n",
    "    num_input: the number of nodes in the input layer of the MLP. Not considering the bias. (2nd dimension of input).\n",
    "        \n",
    "    num_hidden: the number of nodes in the hidden layer of the MLP not considering the bias.\n",
    "\n",
    "    num_output: the number of nodes in the output layer of the MLP. (2nd dimension of target).\n",
    "    \"\"\"\n",
    "    def __init__(self, train_data, target, lr=0.001, num_epochs=100, num_batch=1, num_input=2, num_hidden=2,\n",
    "                 num_output=1, stop_condition = 0.005):\n",
    "        \n",
    "        self.train_data = train_data\n",
    "        self.target = target\n",
    "        self.lr = lr\n",
    "        self.num_epochs = num_epochs\n",
    "        self.num_batch = num_batch\n",
    "        self.stop_condition = stop_condition\n",
    "\n",
    "        # initialize weights and biases randomly, values between -0.1 and 0.1\n",
    "        self.weights_01 = np.random.uniform(size=(num_input, num_hidden))/5 - 0.1 # weights between input and hidden layer\n",
    "        self.weights_12 = np.random.uniform(size=(num_hidden, num_output))/5 - 0.1 ## weights between hidden and output layer\n",
    "        \n",
    "        self.b01 = np.random.uniform(size=(1,num_hidden))/5 - 0.1 # biases for the hidden layer\n",
    "        self.b12 = np.random.uniform(size=(1,num_output))/5 - 0.1 # biases for the output layer\n",
    "\n",
    "        self.losses = []\n",
    "        self.actual_output = []\n",
    "        self.desired_output = []\n",
    "        \n",
    "    def update_weights(self):\n",
    "        \n",
    "        # Calculate the root mean square error of the mean error of the num_batch patterns in a single run\n",
    "        # I BELIEVE THE ERROR IS HERE. I WAS NOT USING THE CORRECT VECTORS FOR THE\n",
    "        # BATCH RUNNING PART\n",
    "        loss = np.sqrt(0.5 * error_term ** 2)\n",
    "        self.losses.append(np.mean(loss))\n",
    "        \n",
    "        self.actual_output.append(self.output_final)\n",
    "        self.desired_output.append(self.permutes_target)\n",
    "\n",
    "        # the gradient for the output layer weights\n",
    "        auxiliary = error_term * (1 - np.tanh(self.output_final)**2)\n",
    "        grad12 = np.matmul(self.hidden_out.T, auxiliary) # Mismatch in dimensions, 1 with 4.\n",
    "\n",
    "        # the gradient for the hidden layer weights\n",
    "        grad01 = np.matmul(self.permutes_train_data.T, (auxiliary * self.weights_12.T) * (1 - np.tanh(self.hidden_out)**2))\n",
    "\n",
    "        # updating the weights by the learning rate times their gradient\n",
    "        self.weights_01 += self.lr * grad01 # ERROR HERE, grad01 of shape (1, 1, 100)\n",
    "        self.weights_12 += self.lr * grad12\n",
    "\n",
    "        # update the biases the same way\n",
    "        self.b01 += np.sum(self.lr * ((error_term * (1 - np.tanh(self.output_final)**2)) * self.weights_12.T) * (1 - np.tanh(self.hidden_out)**2), axis=0)\n",
    "        self.b12 += np.sum(self.lr * error_term * (1 - np.tanh(self.output_final)**2), axis=0)\n",
    "\n",
    "    def forward(self, batch): # Forward pass through network. Implementation of Y = WX + bias\n",
    "        # I BLEIEVE THE ERROR IS HERE. THIS IS NOT A BATCH. THIS IS A SINGLE ELEMENT OF THE WHOLE BATCH!\n",
    "        self.hidden_ = np.dot(batch, self.weights_01) + self.b01\n",
    "        self.hidden_out = np.tanh(self.hidden_)\n",
    "\n",
    "        self.output_ = np.dot(self.hidden_out, self.weights_12) + self.b12\n",
    "        self.output_final = np.tanh(self.output_)\n",
    "\n",
    "        return self.output_final\n",
    "    \n",
    "    def classify(self, datapoint): # Determines a class for each datapoint.\n",
    "\n",
    "        datapoint = np.transpose(datapoint)\n",
    "\n",
    "        if self.forward(datapoint) >= 0.5:\n",
    "            return 1\n",
    "\n",
    "        return 0\n",
    "\n",
    "    def train(self): #Trains and uses 2 stopping criteria: runs through the data num_epoch times and small error.\n",
    "        # Modified for batch learning.\n",
    "        banner = False\n",
    "        \n",
    "        for i in range(self.num_epochs*self.num_batch): # Total learning steps\n",
    "            \n",
    "            # Permutation of indices of train data\n",
    "            indices = [i for i in range(len(self.train_data))]\n",
    "            permute_i = np.random.permutation(indices)\n",
    "\n",
    "            # Chooses num_batch entries of train_data and their corresponding target values\n",
    "            self.permutes_train_data = np.asarray([self.train_data[i] for i in permute_i[:self.num_batch]])\n",
    "            self.permutes_target = np.asarray([self.target[i] for i in permute_i[:self.num_batch]])\n",
    "            \n",
    "            # Starts the learning\n",
    "            self.forward(self.permutes_train_data)\n",
    "            \n",
    "            if (i+1)%self.num_batch ==0: # We only want to update the weights when the batch has been run\n",
    "                self.update_weights() \n",
    "                \n",
    "#             if self.losses[i] <= self.stop_condition:\n",
    "#                 print(\"Learning condition achieved: Error less than \", self.stop_condition,\" in cycle \",i)\n",
    "#                 banner = True\n",
    "#                 break\n",
    "                \n",
    "        if banner == False:      \n",
    "            print(\"Learning condition achieved: \", self.num_epochs*self.num_batch, \" learn steps run.\")"
   ]
  },
  {
   "cell_type": "markdown",
   "id": "66029e7a",
   "metadata": {},
   "source": [
    "1. Initialize weights, time step and learning parameters.\n",
    "2. Present a randomly drawn training vector x^k to the network, propagate through the current weights until the activation reaches the output layer.\n",
    "3. Compute the deltas for the output layer for that training pattern.\n",
    "4. Compute the deltas for the hidden layers.\n",
    "5. Do 2-4 for all training samples in the batch.\n",
    "6. Update all the weights in the network.\n",
    "7. Increment to the next time step. If training reaches a stopping criterion (use at least 2), stop. Otherwise go to step 2."
   ]
  },
  {
   "cell_type": "code",
   "execution_count": 3,
   "id": "a8b000d8",
   "metadata": {},
   "outputs": [],
   "source": [
    "train_data_xor = np.asarray([[0, 0], [0, 1], [1, 0], [1, 1]])\n",
    "target_xor = np.asarray([[0], [1], [1], [0]])"
   ]
  },
  {
   "cell_type": "code",
   "execution_count": 7,
   "id": "9a78a157",
   "metadata": {},
   "outputs": [
    {
     "ename": "NameError",
     "evalue": "name 'grad12' is not defined",
     "output_type": "error",
     "traceback": [
      "\u001b[0;31m---------------------------------------------------------------------------\u001b[0m",
      "\u001b[0;31mNameError\u001b[0m                                 Traceback (most recent call last)",
      "\u001b[0;32m/tmp/ipykernel_9950/2802545187.py\u001b[0m in \u001b[0;36m<module>\u001b[0;34m\u001b[0m\n\u001b[1;32m     61\u001b[0m         \u001b[0;31m# the gradient for the output layer weights, addedd to the previous delta/grad value\u001b[0m\u001b[0;34m\u001b[0m\u001b[0;34m\u001b[0m\u001b[0;34m\u001b[0m\u001b[0m\n\u001b[1;32m     62\u001b[0m         \u001b[0mauxiliary\u001b[0m \u001b[0;34m=\u001b[0m \u001b[0merror_term\u001b[0m \u001b[0;34m*\u001b[0m \u001b[0;34m(\u001b[0m\u001b[0;36m1\u001b[0m \u001b[0;34m-\u001b[0m \u001b[0mnp\u001b[0m\u001b[0;34m.\u001b[0m\u001b[0mtanh\u001b[0m\u001b[0;34m(\u001b[0m\u001b[0moutput_final\u001b[0m\u001b[0;34m)\u001b[0m\u001b[0;34m**\u001b[0m\u001b[0;36m2\u001b[0m\u001b[0;34m)\u001b[0m\u001b[0;34m\u001b[0m\u001b[0;34m\u001b[0m\u001b[0m\n\u001b[0;32m---> 63\u001b[0;31m         \u001b[0mgrad12\u001b[0m \u001b[0;34m+=\u001b[0m \u001b[0mnp\u001b[0m\u001b[0;34m.\u001b[0m\u001b[0mmatmul\u001b[0m\u001b[0;34m(\u001b[0m\u001b[0mhidden_out\u001b[0m\u001b[0;34m.\u001b[0m\u001b[0mT\u001b[0m\u001b[0;34m,\u001b[0m \u001b[0mauxiliary\u001b[0m\u001b[0;34m)\u001b[0m \u001b[0;31m# Mismatch in dimensions, 1 with 4. In previous part\u001b[0m\u001b[0;34m\u001b[0m\u001b[0;34m\u001b[0m\u001b[0m\n\u001b[0m\u001b[1;32m     64\u001b[0m \u001b[0;34m\u001b[0m\u001b[0m\n\u001b[1;32m     65\u001b[0m         \u001b[0;31m# the gradient for the hidden layer weights, addedd to the previous delta/grad value\u001b[0m\u001b[0;34m\u001b[0m\u001b[0;34m\u001b[0m\u001b[0;34m\u001b[0m\u001b[0m\n",
      "\u001b[0;31mNameError\u001b[0m: name 'grad12' is not defined"
     ]
    }
   ],
   "source": [
    "train_data = train_data_xor\n",
    "target = target_xor\n",
    "\n",
    "# Initializes learning parameters\n",
    "lr=0.001\n",
    "num_epochs=100\n",
    "num_batch=1\n",
    "num_input=2\n",
    "num_hidden=2\n",
    "num_output=1\n",
    "stop_condition = 0.005\n",
    "banner = False\n",
    "K = 1 # number of batch runs\n",
    "\n",
    "train_error_history = []\n",
    "test_error_history = []\n",
    "weights_01_history = []\n",
    "weights_12_history = []\n",
    "    \n",
    "# Initializes weights\n",
    "weights_01 = np.random.uniform(size=(num_input, num_hidden))/5 - 0.1 # weights between input and hidden layer\n",
    "weights_12 = np.random.uniform(size=(num_hidden, num_output))/5 - 0.1 ## weights between hidden and output layer\n",
    "        \n",
    "b01 = np.random.uniform(size=(1,num_hidden))/5 - 0.1 # biases for the hidden layer\n",
    "b12 = np.random.uniform(size=(1,num_output))/5 - 0.1 # biases for the output layer\n",
    "\n",
    "#Initializes deltas\n",
    "grad12 = np.zeros()\n",
    "grad01 = \n",
    "cycles = 10\n",
    "for i in range(cycles):\n",
    "    \n",
    "    # Permutation of indices of train data\n",
    "    indices = [i for i in range(len(train_data))]\n",
    "    permute_i = np.random.permutation(indices)\n",
    "    \n",
    "    # Chooses num_batch entries of train_data and their corresponding target values\n",
    "    permutes_train_data = np.asarray([train_data[i] for i in permute_i[:num_batch]])\n",
    "    permutes_target = np.asarray([target[i] for i in permute_i[:num_batch]])\n",
    "    \n",
    "    for k in range(K): # Batch learning\n",
    "        \n",
    "        batch = permutes_train_data[k]\n",
    "        batch_target = permutes_target[k]\n",
    "        \n",
    "        # 2. Propagate through the current weights until the activation reaches the output layer. Forward run\n",
    "        # Implementation of Y = WX + bias\n",
    "        hidden_ = np.dot(batch, weights_01) + b01\n",
    "        hidden_out = np.tanh(hidden_)\n",
    "\n",
    "        output_ = np.dot(hidden_out, weights_12) + b12\n",
    "        output_final = np.tanh(output_)\n",
    "        \n",
    "        # 3. Compute the deltas for the output layer for that training pattern.\n",
    "        # 4. Compute the deltas for the hidden layers.\n",
    "        # The network obtains the outputs and thus the errors of each element of the batch\n",
    "        \n",
    "        # Calculate the root mean square error of the mean error of the num_batch patterns in a single run\n",
    "        error_term = (batch_target - output_final)\n",
    "        loss = np.sqrt(0.5 * error_term ** 2)\n",
    "        \n",
    "        # the gradient for the output layer weights, addedd to the previous delta/grad value\n",
    "        auxiliary = error_term * (1 - np.tanh(output_final)**2)\n",
    "        grad12 += np.matmul(hidden_out.T, auxiliary) # Mismatch in dimensions, 1 with 4. In previous part\n",
    "\n",
    "        # the gradient for the hidden layer weights, addedd to the previous delta/grad value\n",
    "        grad01 += np.matmul(batch.T, (auxiliary * weights_12.T) * (1 - np.tanh(hidden_out)**2))\n",
    "        \n",
    "    # 6. Update all the weights in the network with the errors found. Learning phase. Backward run.   \n",
    "    # updating the weights by the learning rate times their gradient\n",
    "    weights_01 += lr * grad01\n",
    "    weights_12 += lr * grad12\n",
    "    weights_01_history.append(weights_01)\n",
    "    weights_12_history.append(weights_12)\n",
    "\n",
    "    # update the biases the same way\n",
    "    b01 += np.sum(lr * ((error_term * (1 - np.tanh(output_final)**2)) * weights_12.T) * (1 - np.tanh(hidden_out)**2), axis=0)\n",
    "    b12 += np.sum(lr * error_term * (1 - np.tanh(output_final)**2), axis=0)\n",
    "    \n",
    "    # THERE SHOULD BE A STEP HERE THAT WITH THE CURRENT WEIGHTS, THE TRAIN AND TEST ERRORS/LOSSES ARE EVALUATED\n",
    "    # FOR THE TRAIN/TEST HISTORY\n",
    "#     train_error_history.append()\n",
    "#     test_error_history.append()\n",
    "    \n",
    "    # If learning condition achieved, break\n",
    "#     if losses[i] <= stop_condition:\n",
    "#         print(\"Learning condition achieved: Error less than \", stop_condition,\" in cycle \",i)\n",
    "#         banner = True\n",
    "#         break\n",
    "                \n",
    "#     if banner == False:      \n",
    "#         print(\"Learning condition achieved: \", num_epochs*num_batch, \" learn steps run.\")\n"
   ]
  },
  {
   "cell_type": "code",
   "execution_count": 2,
   "id": "f588b8a2",
   "metadata": {},
   "outputs": [],
   "source": [
    "# HERE\n",
    "def forward_(entry, weights_01, b01, weights_12, b12):\n",
    "\n",
    "    hidden_ = np.dot(entry, weights_01) + b01\n",
    "    hidden_out = np.tanh(hidden_)\n",
    "\n",
    "    output_ = np.dot(hidden_out, weights_12) + b12\n",
    "    output_final = np.tanh(output_)\n",
    "    \n",
    "    return output_final"
   ]
  },
  {
   "cell_type": "code",
   "execution_count": 4,
   "id": "21ed2c35",
   "metadata": {},
   "outputs": [],
   "source": [
    "train_data = np.asarray([[0, 0], [0, 1], [1, 0], [1, 1]])\n",
    "target_xor = np.asarray([[0], [1], [1], [0]])"
   ]
  },
  {
   "cell_type": "code",
   "execution_count": 5,
   "id": "f0fd5ee1",
   "metadata": {},
   "outputs": [
    {
     "data": {
      "text/plain": [
       "array([[0, 0],\n",
       "       [0, 1],\n",
       "       [1, 0],\n",
       "       [1, 1]])"
      ]
     },
     "execution_count": 5,
     "metadata": {},
     "output_type": "execute_result"
    }
   ],
   "source": [
    "ejemplo = np.asarray([[[0, 0], [0, 1], [1, 0], [1, 1]]])\n",
    "ejemplo.shape\n",
    "ejemplo.reshape(4,2)"
   ]
  },
  {
   "cell_type": "code",
   "execution_count": 6,
   "id": "4d68b418",
   "metadata": {},
   "outputs": [
    {
     "name": "stdout",
     "output_type": "stream",
     "text": [
      "Learning condition achieved:  75000  learn steps run.\n"
     ]
    }
   ],
   "source": [
    "K = 3\n",
    "mlp = MLP(train_data, target_xor, 0.02, 25000, K)\n",
    "# train_data, target_values, Learning rate, number of cycles, num_batch=1, num_input=2, num_hidden=2, num_output=1\n",
    "mlp.train()"
   ]
  },
  {
   "cell_type": "code",
   "execution_count": 7,
   "id": "14936fb7",
   "metadata": {
    "scrolled": false
   },
   "outputs": [
    {
     "name": "stdout",
     "output_type": "stream",
     "text": [
      "Learning condition achieved:  75000  learn steps run.\n"
     ]
    },
    {
     "data": {
      "image/png": "[encoded data removed]",
      "text/plain": [
       "<Figure size 432x288 with 1 Axes>"
      ]
     },
     "metadata": {
      "needs_background": "light"
     },
     "output_type": "display_data"
    },
    {
     "name": "stdout",
     "output_type": "stream",
     "text": [
      "Learning condition achieved:  75000  learn steps run.\n"
     ]
    },
    {
     "data": {
      "image/png": "[encoded data removed]",
      "text/plain": [
       "<Figure size 432x288 with 1 Axes>"
      ]
     },
     "metadata": {
      "needs_background": "light"
     },
     "output_type": "display_data"
    },
    {
     "name": "stdout",
     "output_type": "stream",
     "text": [
      "Learning condition achieved:  75000  learn steps run.\n"
     ]
    },
    {
     "data": {
      "image/png": "[encoded data removed]",
      "text/plain": [
       "<Figure size 432x288 with 1 Axes>"
      ]
     },
     "metadata": {
      "needs_background": "light"
     },
     "output_type": "display_data"
    },
    {
     "name": "stdout",
     "output_type": "stream",
     "text": [
      "Learning condition achieved:  75000  learn steps run.\n"
     ]
    },
    {
     "data": {
      "image/png": "[encoded data removed]",
      "text/plain": [
       "<Figure size 432x288 with 1 Axes>"
      ]
     },
     "metadata": {
      "needs_background": "light"
     },
     "output_type": "display_data"
    }
   ],
   "source": [
    "K = 3\n",
    "for i in range(4):\n",
    "    mlp = MLP(train_data, target_xor, 0.02, 25000, K, 2, 2, 1)\n",
    "    # train_data, target_values, Learning rate, number of cycles, num_batch=1, num_input=2, num_hidden=2, num_output=1\n",
    "    mlp.train()\n",
    "\n",
    "    plt.plot([i*K for i in range(len(mlp.losses))], mlp.losses)\n",
    "    plt.xlabel(r\"Learn count $m$\")\n",
    "    plt.ylabel(\"Root mean square error\")\n",
    "    plt.title(r\"Error of desired output ($D$) and actual output ($y_3$): $\\frac{1}{2} (D-y_3)^2$\")\n",
    "            # Calculate the root mean square error of the mean error of 3 patterns in a single run\n",
    "\n",
    "    plt.show()"
   ]
  },
  {
   "cell_type": "markdown",
   "id": "845880a3",
   "metadata": {},
   "source": [
    "# Why does this converge so beautifully when we use K=4, but if we use a smaller number, it does not always converge?\n",
    "\n",
    "# Kayla suggests a smaller value than 4, it may not by \"representative enough\"."
   ]
  },
  {
   "cell_type": "code",
   "execution_count": 8,
   "id": "6631acc0",
   "metadata": {},
   "outputs": [],
   "source": [
    "# print(\"Comparison between actual and desired output\")\n",
    "# for i in range(4):\n",
    "#     plt.plot(np.asarray(mlp.actual_output)[:, i, 0], color= \"r\", label = \"Actual output\")\n",
    "#     plt.plot(np.asarray(mlp.desired_output)[:, i, 0], color = \"b\", label = \"Desired output\")\n",
    "#     plt.legend()\n",
    "#     plt.show()"
   ]
  },
  {
   "cell_type": "markdown",
   "id": "627b99a5",
   "metadata": {},
   "source": [
    "# Part 3: Training this to learn the function $f(x) = 1/x$ in $(0.1, 1.0)$"
   ]
  },
  {
   "cell_type": "code",
   "execution_count": 9,
   "id": "5a1e135e",
   "metadata": {},
   "outputs": [],
   "source": [
    "x = np.arange(0.1, 1, 0.001) # 900 values\n",
    "f_x = [1/x[i] for i in range(len(x))]\n",
    "\n",
    "# Permutation of data indices\n",
    "indices = [i for i in range(len(x))]\n",
    "permute_i = np.random.permutation(indices)\n",
    "\n",
    "# Chooses num_batch entries of train_data and their corresponding target values\n",
    "training_x = np.asarray([x[i] for i in permute_i[:200]])\n",
    "training_fx = np.asarray([f_x[i] for i in permute_i[:200]])\n",
    "test_x = np.asarray([x[i] for i in permute_i[200:300]])\n",
    "test_fx = np.asarray([f_x[i] for i in permute_i[200:300]])"
   ]
  },
  {
   "cell_type": "code",
   "execution_count": 10,
   "id": "12db21a9",
   "metadata": {},
   "outputs": [
    {
     "name": "stdout",
     "output_type": "stream",
     "text": [
      "0.9990000000000008\n",
      "0.101\n",
      "9.900990099009901\n",
      "1.0010010010010002\n",
      "[0.99009901]\n",
      "[0.1001001]\n"
     ]
    }
   ],
   "source": [
    "# Scale input to (-1, 1), now both the input and output are in the range (0.1, 1)\n",
    "print(max(max(training_x), max(test_x)))\n",
    "print(min(min(training_x), min(test_x)))\n",
    "\n",
    "print(max(max(training_fx), max(test_fx)))\n",
    "print(min(min(training_fx), min(test_fx)))\n",
    "\n",
    "scaled_test_fx = np.asarray([[test_fx[i]/10] for i in range(len(test_fx))])\n",
    "scaled_training_fx = np.asarray([[training_fx[i]/10] for i in range(len(training_fx))])\n",
    "\n",
    "print(max(max(scaled_training_fx), max(scaled_test_fx)))\n",
    "print(min(min(scaled_training_fx), min(scaled_test_fx)))"
   ]
  },
  {
   "cell_type": "markdown",
   "id": "d8ef816c",
   "metadata": {},
   "source": [
    "# There is a problem with our matrix multiplication and the size of the batch we are running. An error occurs when the batch size is greater than 1 in the $1/x$\n",
    "\n",
    "Check this website: https://towardsdatascience.com/coding-a-2-layer-neural-network-from-scratch-in-python-4dd022d19fd2\n",
    "\n",
    "Maybe the problem arises because the network thinks every single one of those entries corresponds to the same input pattern?"
   ]
  },
  {
   "cell_type": "code",
   "execution_count": 11,
   "id": "d105a441",
   "metadata": {},
   "outputs": [
    {
     "name": "stdout",
     "output_type": "stream",
     "text": [
      "Learning condition achieved:  5000  learn steps run.\n"
     ]
    }
   ],
   "source": [
    "lr = 0.05\n",
    "K  = 1 #100  #Batch size\n",
    "cycles = 5000\n",
    "# Maximum number of learn steps = K*cycles\n",
    "\n",
    "# scaled_test_pairs\n",
    "mlp_1x = MLP(training_x, scaled_training_fx, lr, cycles, K, 1, 10, 1)\n",
    "# train_data, target_values, Learning rate, number of cycles, num_batch=1, num_input=2, num_hidden=2, num_output=1\n",
    "mlp_1x.train()"
   ]
  },
  {
   "cell_type": "code",
   "execution_count": 12,
   "id": "2277a87a",
   "metadata": {},
   "outputs": [
    {
     "data": {
      "image/png": "[encoded data removed]",
      "text/plain": [
       "<Figure size 432x288 with 1 Axes>"
      ]
     },
     "metadata": {
      "needs_background": "light"
     },
     "output_type": "display_data"
    }
   ],
   "source": [
    "plt.plot([i*K for i in range(len(mlp_1x.losses))], mlp_1x.losses)\n",
    "plt.xlabel(r\"Learn count $m$\")\n",
    "plt.ylabel(\"Root mean square error\")\n",
    "plt.title(r\"Error of desired output ($D$) and actual output ($y_3$): $\\frac{1}{2} (D-y_3)^2$\")\n",
    "        # Calculate the root mean square error of the mean error of 3 patterns in a single run\n",
    "\n",
    "plt.show()"
   ]
  },
  {
   "cell_type": "markdown",
   "id": "f3310cf5",
   "metadata": {},
   "source": [
    "# Now, you are trying in a single run to use the 100 patterns to the red and obtaining those errors. Shouldn't you be going 1 by 1?"
   ]
  },
  {
   "cell_type": "markdown",
   "id": "b3215f74",
   "metadata": {},
   "source": [
    "# Wait! Now, how to run the test data for not changing the weight values? "
   ]
  },
  {
   "cell_type": "code",
   "execution_count": null,
   "id": "0752f415",
   "metadata": {},
   "outputs": [],
   "source": []
  },
  {
   "cell_type": "code",
   "execution_count": null,
   "id": "83155909",
   "metadata": {},
   "outputs": [],
   "source": []
  },
  {
   "cell_type": "code",
   "execution_count": null,
   "id": "236c6e65",
   "metadata": {},
   "outputs": [],
   "source": []
  },
  {
   "cell_type": "code",
   "execution_count": null,
   "id": "5a2ab589",
   "metadata": {},
   "outputs": [],
   "source": []
  },
  {
   "cell_type": "code",
   "execution_count": null,
   "id": "3e2b3015",
   "metadata": {},
   "outputs": [],
   "source": []
  }
 ],
 "metadata": {
  "kernelspec": {
   "display_name": "Python 3 (ipykernel)",
   "language": "python",
   "name": "python3"
  },
  "language_info": {
   "codemirror_mode": {
    "name": "ipython",
    "version": 3
   },
   "file_extension": ".py",
   "mimetype": "text/x-python",
   "name": "python",
   "nbconvert_exporter": "python",
   "pygments_lexer": "ipython3",
   "version": "3.8.8"
  }
 },
 "nbformat": 4,
 "nbformat_minor": 5
}
