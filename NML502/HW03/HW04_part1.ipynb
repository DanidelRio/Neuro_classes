{
 "cells": [
  {
   "cell_type": "markdown",
   "id": "ed7958c7",
   "metadata": {},
   "source": [
    "Network parameters:\n",
    "- Initial weight values\n",
    "- tanh slope, 1\n",
    "- Learning parameter, 0.001\n",
    "- Stopping criterion, stop after n_steps = 1000 or error was considerably small: err = D-y3, (err + previous_err)/2 <= 0.001\n",
    "- Error measured used in the stop criterion"
   ]
  },
  {
   "cell_type": "code",
   "execution_count": 1,
   "id": "03996bf4",
   "metadata": {},
   "outputs": [],
   "source": [
    "import numpy as np\n",
    "import random as rd\n",
    "import matplotlib.pyplot as plt"
   ]
  },
  {
   "cell_type": "code",
   "execution_count": 42,
   "id": "5fbad627",
   "metadata": {},
   "outputs": [],
   "source": [
    "def rand_vals():\n",
    "    return rd.random()/5 - 0.1\n",
    "#     return rd.random()/4 - 0.22\n",
    "\n",
    "def rand_pattern():\n",
    "    number = rd.randint(1, 4)\n",
    "    if number == 1:\n",
    "        pattern = [0, 0] #False\n",
    "        D = 0\n",
    "    elif number == 2:\n",
    "        pattern = [0, 1] #True\n",
    "        D = 1\n",
    "    elif number == 3:\n",
    "        pattern = [1, 0] #True\n",
    "        D = 1\n",
    "    else:\n",
    "        pattern = [1, 1] #False\n",
    "        D = 0\n",
    "        \n",
    "    return pattern, D\n",
    "\n",
    "def sequential_pattern(i):\n",
    "    number = i%4\n",
    "    \n",
    "    if number == 0:\n",
    "        pattern = [0, 0] #False\n",
    "        D = 0\n",
    "    elif number == 1:\n",
    "        pattern = [0, 1] #True\n",
    "        D = 1\n",
    "    elif number == 2:\n",
    "        pattern = [1, 0] #True\n",
    "        D = 1\n",
    "    else:\n",
    "        pattern = [1, 1] #False\n",
    "        D = 0\n",
    "        \n",
    "    return pattern, D"
   ]
  },
  {
   "cell_type": "code",
   "execution_count": 58,
   "id": "1127edb2",
   "metadata": {},
   "outputs": [],
   "source": [
    "# Learning process\n",
    "def one_iteration(w11, w12, w10, w21, w22, w20, v11, v12, v10):\n",
    "    \n",
    "    # 2. Choose an input pattern, $\\mathbf{x}$ and apply it to the input layer\n",
    "    pattern, D = rand_pattern()\n",
    "    x1, x2 = pattern[0], pattern[1]\n",
    "\n",
    "    net1 = w10 + w11*x1 + w12*x2\n",
    "    net2 = w20 + w21*x1 + w22*x2\n",
    "\n",
    "    y1 = np.tanh(net1)\n",
    "    y2 = np.tanh(net2)\n",
    "    \n",
    "    # 3. Propagate the activation forward through the weights till the activation reaches the output neurons.\n",
    "    net3 = v10 + v11*y1 + v12*y2\n",
    "    y3 = np.tanh(net3)\n",
    "\n",
    "    # 4. Calculate the $\\delta$s for the output layer\n",
    "    delta3 = (D - y3)*(1-y3**2)\n",
    "    \n",
    "    # 5. Calculate the $\\delta$s for the hidden layer\n",
    "    delta1 = delta3*v11*(1-y1**2)\n",
    "    delta2 = delta3*v12*(1-y2**2)\n",
    "    \n",
    "    # 6. Update the weights\n",
    "    eta = 0.003 # Learning parameter\n",
    "\n",
    "    v11 += eta*delta3*y1\n",
    "    v12 += eta*delta3*y2\n",
    "    v10 += eta*delta3\n",
    "    w11 += eta*delta1*x1\n",
    "    w12 += eta*delta1*x2\n",
    "    w10 += eta*delta1\n",
    "    w21 += eta*delta2*x1\n",
    "    w22 += eta*delta2*x2\n",
    "    w20 += eta*delta2\n",
    "    \n",
    "    return [w11, w12, w10, w21, w22, w20, v11, v12, v10, D-y3] #weights and error value"
   ]
  },
  {
   "cell_type": "code",
   "execution_count": 59,
   "id": "e820cca8",
   "metadata": {},
   "outputs": [],
   "source": [
    "# For historical purposes\n",
    "def historical_iteration(k, w11, w12, w10, w21, w22, w20, v11, v12, v10):\n",
    "    \n",
    "    # 2. Choose an input pattern, $\\mathbf{x}$ and apply it to the input layer\n",
    "    pattern, D = sequential_pattern(k)\n",
    "    x1, x2 = pattern[0], pattern[1]\n",
    "\n",
    "    net1 = w10 + w11*x1 + w12*x2\n",
    "    net2 = w20 + w21*x1 + w22*x2\n",
    "\n",
    "    y1 = np.tanh(net1)\n",
    "    y2 = np.tanh(net2)\n",
    "\n",
    "    # 3. Propagate the activation forward through the weights till the activation reaches the output neurons.\n",
    "    net3 = v10 + v11*y1 + v12*y2\n",
    "    y3 = np.tanh(net3)\n",
    "    \n",
    "    return [pattern, y3, D, D-y3] # weights and error value"
   ]
  },
  {
   "cell_type": "code",
   "execution_count": 60,
   "id": "8465d55d",
   "metadata": {},
   "outputs": [
    {
     "name": "stdout",
     "output_type": "stream",
     "text": [
      "w11, w12, w10, w21, w22, w20, v11, v12, v10\n",
      "0.06261865486882662    -0.09127359119520431    0.09782783516190424    0.023268803598727128    0.057716635609553896    -0.032474094147108806    0.05646495070351695    -0.09635276549437999    0.07163087385964148\n"
     ]
    }
   ],
   "source": [
    "# 1. Initialise the weights to small random numbers.\n",
    "\n",
    "w10 = rand_vals()\n",
    "w11 = rand_vals()\n",
    "w12 = rand_vals()\n",
    "\n",
    "w20 = rand_vals()\n",
    "w21 = rand_vals()\n",
    "w22 = rand_vals()\n",
    "\n",
    "v10 = rand_vals()\n",
    "v11 = rand_vals()\n",
    "v12 = rand_vals()\n",
    "\n",
    "print(\"w11, w12, w10, w21, w22, w20, v11, v12, v10\")\n",
    "print(w11,\"  \", w12, \"  \",w10,\"  \",w21,\"  \", w22,\"  \", w20,\"  \", v11,\"  \", v12,\"  \", v10)"
   ]
  },
  {
   "cell_type": "code",
   "execution_count": 61,
   "id": "964bb5cd",
   "metadata": {},
   "outputs": [],
   "source": [
    "# 2 stopping criteria, stops whenever the first occurs.\n",
    "\n",
    "learn_steps = []\n",
    "input_vecs = []\n",
    "actual_outputs = []\n",
    "desired_outputs = []\n",
    "e_ks = []\n",
    "\n",
    "w11, w12, w10, w21, w22, w20, v11, v12, v10, err = one_iteration(w11, w12, w10, w21, w22, w20, v11, v12, v10)\n",
    "\n",
    "for i in range(1000): #Stop after N_steps\n",
    "    if i%10 == 0:\n",
    "        for k in range(4):\n",
    "            input_vec, actual_output, desired_output, e_k = historical_iteration(k, w11, w12, w10, w21, w22, w20, v11, v12, v10)\n",
    "            learn_steps.append(i+k)\n",
    "            input_vec.append(input_vec)\n",
    "            actual_outputs.append(actual_output)\n",
    "            desired_outputs.append(desired_output)\n",
    "            e_ks.append(e_k)\n",
    "    \n",
    "    previous_err = err\n",
    "    w11, w12, w10, w21, w22, w20, v11, v12, v10, err = one_iteration(w11, w12, w10, w21, w22, w20, v11, v12, v10)\n",
    "    \n",
    "    #The sum of the last indices of e_ks\n",
    "#     if (e_ks[-1]) <= 0.00001: #Stop when the Error at the output is less than Epsilon \n",
    "#         print(\"Error is acceptable. Exit after iteration:\", i+1)\n",
    "#         break"
   ]
  },
  {
   "cell_type": "code",
   "execution_count": 62,
   "id": "daf69568",
   "metadata": {},
   "outputs": [
    {
     "data": {
      "image/png": "[encoded data removed]",
      "text/plain": [
       "<Figure size 432x288 with 1 Axes>"
      ]
     },
     "metadata": {
      "needs_background": "light"
     },
     "output_type": "display_data"
    }
   ],
   "source": [
    "plt.plot(learn_steps, e_ks, marker=\"o\")\n",
    "plt.show()"
   ]
  },
  {
   "cell_type": "markdown",
   "id": "b4814bbe",
   "metadata": {},
   "source": [
    "# Note how there is no learning! We are always obtaining zeros as output.\n",
    "And as the ANN \"learns\", we are actually seeing how it slowly converfes to 0.5. So it is not identifying when a value is True and when it is False."
   ]
  },
  {
   "cell_type": "code",
   "execution_count": 63,
   "id": "d900f1b7",
   "metadata": {},
   "outputs": [
    {
     "data": {
      "text/plain": [
       "[<matplotlib.lines.Line2D at 0x7f99be90a220>]"
      ]
     },
     "execution_count": 63,
     "metadata": {},
     "output_type": "execute_result"
    },
    {
     "data": {
      "image/png": "[encoded data removed]",
      "text/plain": [
       "<Figure size 432x288 with 1 Axes>"
      ]
     },
     "metadata": {
      "needs_background": "light"
     },
     "output_type": "display_data"
    }
   ],
   "source": [
    "plt.plot(learn_steps, actual_outputs, color= \"r\")\n",
    "plt.plot(learn_steps, desired_outputs, color= \"b\")"
   ]
  },
  {
   "cell_type": "code",
   "execution_count": 49,
   "id": "dcde0063",
   "metadata": {},
   "outputs": [
    {
     "data": {
      "text/plain": [
       "[0, 1, 1, 0, 0, 1, 1, 0]"
      ]
     },
     "execution_count": 49,
     "metadata": {},
     "output_type": "execute_result"
    }
   ],
   "source": [
    "desired_outputs"
   ]
  },
  {
   "cell_type": "code",
   "execution_count": 71,
   "id": "a47aea4d",
   "metadata": {},
   "outputs": [
    {
     "name": "stdout",
     "output_type": "stream",
     "text": [
      "0.30114182071279605\n",
      "1\n"
     ]
    }
   ],
   "source": [
    "index = 109\n",
    "print(actual_outputs[index])\n",
    "print(desired_outputs[index])"
   ]
  },
  {
   "cell_type": "markdown",
   "id": "e384e93a",
   "metadata": {},
   "source": [
    "Maybe the backpropagation is what is failing here.\n",
    "\n"
   ]
  },
  {
   "cell_type": "code",
   "execution_count": null,
   "id": "7f9acda6",
   "metadata": {},
   "outputs": [],
   "source": []
  },
  {
   "cell_type": "code",
   "execution_count": null,
   "id": "0ae478a3",
   "metadata": {},
   "outputs": [],
   "source": []
  },
  {
   "cell_type": "code",
   "execution_count": null,
   "id": "1ab22f15",
   "metadata": {},
   "outputs": [],
   "source": []
  },
  {
   "cell_type": "markdown",
   "id": "1c6dadeb",
   "metadata": {},
   "source": [
    "# RUN UNTIL HERE!"
   ]
  },
  {
   "cell_type": "code",
   "execution_count": null,
   "id": "36184f7e",
   "metadata": {},
   "outputs": [],
   "source": [
    "w = np.zeros((3,3)) # First layer of weights\n",
    "\n",
    "# Random value weights for first layer\n",
    "for i in range(len(w)):\n",
    "    for j in range(len(w[i])):\n",
    "        w[i][j] = rand_vals()\n",
    "        \n",
    "print(w)"
   ]
  },
  {
   "cell_type": "code",
   "execution_count": null,
   "id": "2bba0b49",
   "metadata": {},
   "outputs": [],
   "source": [
    "v = [rd.random()/4+0.38 for i in range(3)]\n",
    "print(v)"
   ]
  },
  {
   "cell_type": "code",
   "execution_count": null,
   "id": "45ca7bd5",
   "metadata": {},
   "outputs": [],
   "source": [
    "NET1 = np.matmul(w,pattern1)\n",
    "y1 = np.tanh(NET1) # https://www.scriptverse.academy/tutorials/python-matrix-multiplication.html\n",
    "\n",
    "print(y1)"
   ]
  },
  {
   "cell_type": "code",
   "execution_count": null,
   "id": "0af8acc5",
   "metadata": {},
   "outputs": [],
   "source": [
    "NET2 = np.matmul(v,y1)\n",
    "y2 = np.tanh(NET2)\n",
    "\n",
    "print(y2)"
   ]
  },
  {
   "cell_type": "code",
   "execution_count": null,
   "id": "c381e220",
   "metadata": {},
   "outputs": [],
   "source": [
    "if y2 < 0.5:\n",
    "    print(\"False\") # 0\n",
    "else:\n",
    "    print(\"True\") # 1"
   ]
  },
  {
   "cell_type": "code",
   "execution_count": null,
   "id": "9a5e7f30",
   "metadata": {},
   "outputs": [],
   "source": [
    "deltas_output_layer = (D1 - y2)*(1-np.tanh(NET2)**2)\n",
    "# Careful with matrix multiplication here!\n",
    "deltas_output_layer"
   ]
  }
 ],
 "metadata": {
  "kernelspec": {
   "display_name": "Python 3",
   "language": "python",
   "name": "python3"
  },
  "language_info": {
   "codemirror_mode": {
    "name": "ipython",
    "version": 3
   },
   "file_extension": ".py",
   "mimetype": "text/x-python",
   "name": "python",
   "nbconvert_exporter": "python",
   "pygments_lexer": "ipython3",
   "version": "3.8.8"
  }
 },
 "nbformat": 4,
 "nbformat_minor": 5
}
