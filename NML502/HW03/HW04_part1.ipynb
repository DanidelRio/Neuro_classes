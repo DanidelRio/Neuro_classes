{
 "cells": [
  {
   "cell_type": "code",
   "execution_count": 45,
   "id": "b61877d1",
   "metadata": {},
   "outputs": [],
   "source": [
    "import numpy as np\n",
    "import random as rd"
   ]
  },
  {
   "cell_type": "code",
   "execution_count": 48,
   "id": "cfdbe3d9",
   "metadata": {},
   "outputs": [],
   "source": [
    "def rand_vals():\n",
    "    return rd.random()/4+0.38\n",
    "\n",
    "def rand_pattern():\n",
    "    number = rd.randint(1, 4)\n",
    "    if number == 1:\n",
    "        pattern = [0, 0] #False\n",
    "        D = 0\n",
    "    elif number == 2:\n",
    "        pattern = [0, 1] #True\n",
    "        D = 1\n",
    "    elif number == 3:\n",
    "        pattern = [1, 0] #True\n",
    "        D = 1\n",
    "    else:\n",
    "        pattern = [1, 1] #False\n",
    "        D = 0\n",
    "        \n",
    "    return pattern, D"
   ]
  },
  {
   "cell_type": "code",
   "execution_count": 49,
   "id": "b6364767",
   "metadata": {},
   "outputs": [],
   "source": [
    "# 1. Initialise the weights to small random numbers.\n",
    "\n",
    "w10 = rand_vals()\n",
    "w11 = rand_vals()\n",
    "w12 = rand_vals()\n",
    "\n",
    "w20 = rand_vals()\n",
    "w21 = rand_vals()\n",
    "w22 = rand_vals()\n",
    "\n",
    "v10 = rand_vals()\n",
    "v11 = rand_vals()\n",
    "v12 = rand_vals()"
   ]
  },
  {
   "cell_type": "code",
   "execution_count": 50,
   "id": "4a01ebc9",
   "metadata": {},
   "outputs": [],
   "source": [
    "# 2. Choose an input pattern, $\\mathbf{x}$ and apply it to the input layer\n",
    "\n",
    "pattern, D = rand_pattern()"
   ]
  },
  {
   "cell_type": "code",
   "execution_count": 51,
   "id": "cc3bce90",
   "metadata": {},
   "outputs": [],
   "source": [
    "x1, x2 = pattern[0], pattern[1]\n",
    "\n",
    "net1 = w10 + w11*x1 + w12*x2\n",
    "net2 = w20 + w21*x1 + w22*x2\n",
    "\n",
    "y1 = np.tanh(net1)\n",
    "y2 = np.tanh(net2)"
   ]
  },
  {
   "cell_type": "code",
   "execution_count": 54,
   "id": "3c21292d",
   "metadata": {},
   "outputs": [
    {
     "data": {
      "text/plain": [
       "0.8526452834254586"
      ]
     },
     "execution_count": 54,
     "metadata": {},
     "output_type": "execute_result"
    }
   ],
   "source": [
    "# 3. Propagate the activation forward through the weights till the activation reaches the output neurons.\n",
    "\n",
    "net3 = v10 + v11*y1 + v12*y2\n",
    "\n",
    "y3 = np.tanh(net3)\n",
    "y3"
   ]
  },
  {
   "cell_type": "code",
   "execution_count": 59,
   "id": "a522bc40",
   "metadata": {},
   "outputs": [
    {
     "name": "stdout",
     "output_type": "stream",
     "text": [
      "[1, 0]\n",
      "Great!\n"
     ]
    }
   ],
   "source": [
    "print(pattern)\n",
    "if np.round(y3) != D:\n",
    "    print(\"Mistake\")\n",
    "else:\n",
    "    print(\"Great!\")"
   ]
  },
  {
   "cell_type": "markdown",
   "id": "5bff742d",
   "metadata": {},
   "source": [
    "So the ANN made a mistake! We need to backpropagate the error!"
   ]
  },
  {
   "cell_type": "code",
   "execution_count": 60,
   "id": "7bff0297",
   "metadata": {},
   "outputs": [
    {
     "data": {
      "text/plain": [
       "0.04022725124920015"
      ]
     },
     "execution_count": 60,
     "metadata": {},
     "output_type": "execute_result"
    }
   ],
   "source": [
    "# 4. Calculate the $\\delta$s for the output layer\n",
    "    \n",
    "delta3 = (D - y3)*(1-y3**2)\n",
    "delta3"
   ]
  },
  {
   "cell_type": "code",
   "execution_count": 61,
   "id": "040cabdb",
   "metadata": {},
   "outputs": [
    {
     "name": "stdout",
     "output_type": "stream",
     "text": [
      "0.007261791883214166 0.009885192664645949\n"
     ]
    }
   ],
   "source": [
    "# 5. Calculate the $\\delta$s for the hidden layer\n",
    "\n",
    "delta1 = delta3*v11*(1-y1**2)\n",
    "delta2 = delta3*v12*(1-y2**2)\n",
    "print(delta1, delta2)"
   ]
  },
  {
   "cell_type": "code",
   "execution_count": 62,
   "id": "e92dcada",
   "metadata": {},
   "outputs": [],
   "source": [
    "# 6. Update the weights\n",
    "eta = 0.001\n",
    "\n",
    "v11 += eta*delta3*y1\n",
    "v12 += eta*delta3*y2\n",
    "v10 += eta*delta3\n",
    "w11 += eta*delta1*x1\n",
    "w12 += eta*delta1*x2\n",
    "w10 += eta*delta1\n",
    "w21 += eta*delta2*x1\n",
    "w22 += eta*delta2*x2\n",
    "w20 += eta*delta2"
   ]
  },
  {
   "cell_type": "code",
   "execution_count": 63,
   "id": "8b9540fd",
   "metadata": {},
   "outputs": [],
   "source": [
    "# REPEAT!"
   ]
  },
  {
   "cell_type": "markdown",
   "id": "53878f1f",
   "metadata": {},
   "source": [
    "### Go back to select pattern"
   ]
  },
  {
   "cell_type": "code",
   "execution_count": null,
   "id": "2888bd36",
   "metadata": {},
   "outputs": [],
   "source": []
  },
  {
   "cell_type": "code",
   "execution_count": null,
   "id": "b0542e57",
   "metadata": {},
   "outputs": [],
   "source": []
  },
  {
   "cell_type": "code",
   "execution_count": null,
   "id": "572e0358",
   "metadata": {},
   "outputs": [],
   "source": []
  },
  {
   "cell_type": "code",
   "execution_count": null,
   "id": "37a65710",
   "metadata": {},
   "outputs": [],
   "source": []
  },
  {
   "cell_type": "markdown",
   "id": "0de2cf57",
   "metadata": {},
   "source": [
    "# RUN UNTIL HERE!"
   ]
  },
  {
   "cell_type": "code",
   "execution_count": null,
   "id": "40f660fc",
   "metadata": {},
   "outputs": [],
   "source": [
    "w = np.zeros((3,3)) # First layer of weights\n",
    "\n",
    "# Random value weights for first layer\n",
    "for i in range(len(w)):\n",
    "    for j in range(len(w[i])):\n",
    "        w[i][j] = rand_vals()\n",
    "        \n",
    "print(w)"
   ]
  },
  {
   "cell_type": "code",
   "execution_count": null,
   "id": "26c09e3b",
   "metadata": {},
   "outputs": [],
   "source": [
    "v = [rd.random()/4+0.38 for i in range(3)]\n",
    "print(v)"
   ]
  },
  {
   "cell_type": "code",
   "execution_count": null,
   "id": "bd7fc0e7",
   "metadata": {},
   "outputs": [],
   "source": [
    "NET1 = np.matmul(w,pattern1)\n",
    "y1 = np.tanh(NET1) # https://www.scriptverse.academy/tutorials/python-matrix-multiplication.html\n",
    "\n",
    "print(y1)"
   ]
  },
  {
   "cell_type": "code",
   "execution_count": null,
   "id": "f2690129",
   "metadata": {},
   "outputs": [],
   "source": [
    "NET2 = np.matmul(v,y1)\n",
    "y2 = np.tanh(NET2)\n",
    "\n",
    "print(y2)"
   ]
  },
  {
   "cell_type": "code",
   "execution_count": null,
   "id": "e245458c",
   "metadata": {},
   "outputs": [],
   "source": [
    "if y2 < 0.5:\n",
    "    print(\"False\") # 0\n",
    "else:\n",
    "    print(\"True\") # 1"
   ]
  },
  {
   "cell_type": "code",
   "execution_count": null,
   "id": "5c491a9c",
   "metadata": {},
   "outputs": [],
   "source": [
    "deltas_output_layer = (D1 - y2)*(1-np.tanh(NET2)**2)\n",
    "# Careful with matrix multiplication here!\n",
    "deltas_output_layer"
   ]
  }
 ],
 "metadata": {
  "kernelspec": {
   "display_name": "Python 3",
   "language": "python",
   "name": "python3"
  },
  "language_info": {
   "codemirror_mode": {
    "name": "ipython",
    "version": 3
   },
   "file_extension": ".py",
   "mimetype": "text/x-python",
   "name": "python",
   "nbconvert_exporter": "python",
   "pygments_lexer": "ipython3",
   "version": "3.8.8"
  }
 },
 "nbformat": 4,
 "nbformat_minor": 5
}
