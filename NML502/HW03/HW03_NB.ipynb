{
 "cells": [
  {
   "cell_type": "code",
   "execution_count": 1,
   "id": "2ac5c1db",
   "metadata": {},
   "outputs": [],
   "source": [
    "import numpy as np\n",
    "import matplotlib.pyplot as plt\n",
    "import re"
   ]
  },
  {
   "cell_type": "markdown",
   "id": "b9e180f4",
   "metadata": {},
   "source": [
    "# Reading data from ``characters.ascii`` file\n",
    "\n",
    "You do not have to do something with this file for the homework. Only with the other file."
   ]
  },
  {
   "cell_type": "code",
   "execution_count": 2,
   "id": "10e1336a",
   "metadata": {},
   "outputs": [],
   "source": [
    "# https://realpython.com/read-write-files-python/\n",
    "# with open('characters.ascii', 'r') as reader: # Reads the file\n",
    "#     d2 = reader.readlines()"
   ]
  },
  {
   "cell_type": "code",
   "execution_count": 3,
   "id": "4a6757fc",
   "metadata": {
    "scrolled": true
   },
   "outputs": [],
   "source": [
    "# vec = []\n",
    "\n",
    "# for i in range(len(d2)):\n",
    "#     # Convert string to array: https://www.educba.com/python-string-to-array/\n",
    "#     line = d2[i]\n",
    "#     line = line.replace(\".\\n\", \"\") #https://stackoverflow.com/questions/3939361/remove-specific-characters-from-a-string-in-python\n",
    "#     line = line.replace(\"\\n\", \"\")\n",
    "#     splitted_line = line.split(\". \")\n",
    "# #     print(splitted_line)\n",
    "# #     print(i)\n",
    "    \n",
    "#     if i!= 19:\n",
    "#         int_split_line = [int(splitted_line[k]) for k in range(len(splitted_line))]\n",
    "#     else: # Detail with line 19 of file\n",
    "#         int_split_line = [int(splitted_line[i]) for i in range(len(splitted_line)-1)]\n",
    "        \n",
    "#     vec.append(int_split_line)"
   ]
  },
  {
   "cell_type": "code",
   "execution_count": 4,
   "id": "a23cb95e",
   "metadata": {},
   "outputs": [],
   "source": [
    "# lengths = [len(vec[i]) for i in range(len(vec))]\n",
    "# print(vec[0][0])\n",
    "# print(len(vec))\n",
    "# print(len(vec[0]))\n",
    "# 38*42 #images of 1596 pixels. I do not think so."
   ]
  },
  {
   "cell_type": "markdown",
   "id": "ec00aa32",
   "metadata": {},
   "source": [
    "Data from ``characters.ascii`` is in ``vec`` in the correct format :)"
   ]
  },
  {
   "cell_type": "code",
   "execution_count": null,
   "id": "250dae5a",
   "metadata": {},
   "outputs": [],
   "source": []
  },
  {
   "cell_type": "markdown",
   "id": "ac8c683b",
   "metadata": {},
   "source": [
    "# Reading data from ``EHT0M.ascii`` file"
   ]
  },
  {
   "cell_type": "code",
   "execution_count": 5,
   "id": "bfdfc04a",
   "metadata": {},
   "outputs": [],
   "source": [
    "with open('EHT0M.ascii', 'r') as reader:\n",
    "    # Read & print the entire file\n",
    "    d2 = reader.readlines()"
   ]
  },
  {
   "cell_type": "code",
   "execution_count": 6,
   "id": "be5fbeea",
   "metadata": {},
   "outputs": [
    {
     "data": {
      "text/plain": [
       "['The characters E, H, T, 0 (zero), and M can be generated in MATLAB as follows\\n',\n",
       " 'E=[1 1 1 1 1 1 1 0 0 0 0 0;\\n',\n",
       " '   1 1 1 1 1 1 1 0 0 0 0 0;\\n',\n",
       " '   1 1 0 0 0 0 0 0 0 0 0 0;\\n',\n",
       " '   1 1 0 0 0 0 0 0 0 0 0 0;\\n',\n",
       " '   1 1 0 0 0 0 0 0 0 0 0 0;\\n',\n",
       " '   1 1 1 1 1 1 0 0 0 0 0 0;\\n',\n",
       " '   1 1 1 1 1 1 0 0 0 0 0 0;\\n',\n",
       " '   1 1 0 0 0 0 0 0 0 0 0 0;\\n',\n",
       " '   1 1 0 0 0 0 0 0 0 0 0 0;\\n',\n",
       " '   1 1 0 0 0 0 0 0 0 0 0 0;\\n',\n",
       " '   1 1 1 1 1 1 1 0 0 0 0 0;\\n',\n",
       " '   1 1 1 1 1 1 1 0 0 0 0 0];\\n',\n",
       " 'H=[0 0 1 1 0 0 0 0 1 1 0 0;\\n',\n",
       " '   0 0 1 1 0 0 0 0 1 1 0 0;\\n',\n",
       " '   0 0 1 1 0 0 0 0 1 1 0 0;\\n',\n",
       " '   0 0 1 1 0 0 0 0 1 1 0 0;\\n',\n",
       " '   0 0 1 1 0 0 0 0 1 1 0 0;\\n',\n",
       " '   0 0 1 1 1 1 1 1 1 1 0 0;\\n',\n",
       " '   0 0 1 1 1 1 1 1 1 1 0 0;\\n',\n",
       " '   0 0 1 1 0 0 0 0 1 1 0 0;\\n',\n",
       " '   0 0 1 1 0 0 0 0 1 1 0 0;\\n',\n",
       " '   0 0 1 1 0 0 0 0 1 1 0 0;\\n',\n",
       " '   0 0 1 1 0 0 0 0 1 1 0 0;\\n',\n",
       " '   0 0 1 1 0 0 0 0 1 1 0 0];\\n',\n",
       " '  \\n',\n",
       " 'T=[0 1 1 1 1 1 1 1 1 1 1 0;\\n',\n",
       " '   0 1 1 1 1 1 1 1 1 1 1 0;\\n',\n",
       " '   0 0 0 0 0 1 1 0 0 0 0 0;\\n',\n",
       " '   0 0 0 0 0 1 1 0 0 0 0 0;\\n',\n",
       " '   0 0 0 0 0 1 1 0 0 0 0 0;\\n',\n",
       " '   0 0 0 0 0 1 1 0 0 0 0 0;\\n',\n",
       " '   0 0 0 0 0 1 1 0 0 0 0 0;\\n',\n",
       " '   0 0 0 0 0 1 1 0 0 0 0 0;\\n',\n",
       " '   0 0 0 0 0 1 1 0 0 0 0 0;\\n',\n",
       " '   0 0 0 0 0 1 1 0 0 0 0 0;\\n',\n",
       " '   0 0 0 0 0 1 1 0 0 0 0 0;\\n',\n",
       " '   0 0 0 0 0 1 1 0 0 0 0 0];\\n',\n",
       " 'zero=[0 0 0 1 1 1 1 1 1 0 0 0;\\n',\n",
       " '      0 0 1 1 1 1 1 1 1 1 0 0;\\n',\n",
       " '      0 1 1 1 0 0 0 0 1 1 1 0;\\n',\n",
       " '      0 1 1 1 0 0 0 0 1 1 1 0;\\n',\n",
       " '      0 1 1 1 0 0 0 0 1 1 1 0;\\n',\n",
       " '      0 1 1 1 0 0 0 0 1 1 1 0;\\n',\n",
       " '      0 1 1 1 0 0 0 0 1 1 1 0;\\n',\n",
       " '      0 1 1 1 0 0 0 0 1 1 1 0;\\n',\n",
       " '      0 1 1 1 0 0 0 0 1 1 1 0;\\n',\n",
       " '      0 1 1 1 0 0 0 0 1 1 1 0;\\n',\n",
       " '      0 0 1 1 1 1 1 1 1 1 0 0;\\n',\n",
       " '      0 0 0 1 1 1 1 1 1 0 0 0];\\n',\n",
       " 'M=[1 1 1 0 0 0 0 0 1 1 1 0;\\n',\n",
       " '   1 1 1 1 0 0 0 1 1 1 1 0;\\n',\n",
       " '   1 1 1 1 1 0 1 1 1 1 1 0;\\n',\n",
       " '   1 1 0 1 1 1 1 1 0 1 1 0;\\n',\n",
       " '   1 1 0 0 1 1 1 0 0 1 1 0;\\n',\n",
       " '   1 1 0 0 0 1 0 0 0 1 1 0;\\n',\n",
       " '   1 1 0 0 0 0 0 0 0 1 1 0;\\n',\n",
       " '   1 1 0 0 0 0 0 0 0 1 1 0;\\n',\n",
       " '   1 1 0 0 0 0 0 0 0 1 1 0;\\n',\n",
       " '   1 1 0 0 0 0 0 0 0 1 1 0;\\n',\n",
       " '   1 1 0 0 0 0 0 0 0 1 1 0;\\n',\n",
       " '   1 1 0 0 0 0 0 0 0 1 1 0];\\n',\n",
       " '\\n',\n",
       " '\\n',\n",
       " 'These \"binary\" characters can be converted to \"biploar\" characters in \\n',\n",
       " 'MATLAB by carrying out the following\\n',\n",
       " '\\n',\n",
       " 'EBP=ones(size(E));\\n',\n",
       " 'HBP=ones(size(H));\\n',\n",
       " 'TBP=ones(size(T));\\n',\n",
       " 'zeroBP=ones(size(zero));\\n',\n",
       " 'MBP=ones(size(M));\\n',\n",
       " 'for i=1:12\\n',\n",
       " '   for j=1:12      \\n',\n",
       " '      if E(i,j)==0\\n',\n",
       " '         EBP(i,j)=-1;\\n',\n",
       " '      end\\n',\n",
       " '      if H(i,j)==0\\n',\n",
       " '         HBP(i,j)=-1;\\n',\n",
       " '      end\\n',\n",
       " '      if T(i,j)==0\\n',\n",
       " '         TBP(i,j)=-1;\\n',\n",
       " '      end\\n',\n",
       " '      if zero(i,j)==0\\n',\n",
       " '         zeroBP(i,j)=-1;\\n',\n",
       " '      end\\n',\n",
       " '      if M(i,j)==0\\n',\n",
       " '         MBP(i,j)=-1;\\n',\n",
       " '      end\\n',\n",
       " '   end\\n',\n",
       " 'end \\n',\n",
       " '\\n']"
      ]
     },
     "execution_count": 6,
     "metadata": {},
     "output_type": "execute_result"
    }
   ],
   "source": [
    "d2"
   ]
  },
  {
   "cell_type": "code",
   "execution_count": 7,
   "id": "32a62110",
   "metadata": {},
   "outputs": [],
   "source": [
    "asa = []\n",
    "for i in range(len(d2)):\n",
    "    asa.append([int(d2[i][k]) for k in range(len(d2[i])) if d2[i][k] == \"0\" or d2[i][k] == \"1\"])\n",
    "    \n",
    "aux = []\n",
    "for k in range(len(asa)):\n",
    "    if len(asa[k]) == 12:\n",
    "        aux.append(asa[k])\n",
    "\n",
    "Es = np.concatenate(aux[:12])\n",
    "Hs = np.concatenate(aux[12:24])     \n",
    "Ts = np.concatenate(aux[24:36])     \n",
    "zeros = np.concatenate(aux[36:48])        \n",
    "Ms = np.concatenate(aux[48:60])  \n",
    "\n",
    "# E H T zero M"
   ]
  },
  {
   "cell_type": "code",
   "execution_count": 8,
   "id": "39b3d3e0",
   "metadata": {},
   "outputs": [
    {
     "data": {
      "text/plain": [
       "array([1, 1, 1, 0, 0, 0, 0, 0, 1, 1, 1, 0, 1, 1, 1, 1, 0, 0, 0, 1, 1, 1,\n",
       "       1, 0, 1, 1, 1, 1, 1, 0, 1, 1, 1, 1, 1, 0, 1, 1, 0, 1, 1, 1, 1, 1,\n",
       "       0, 1, 1, 0, 1, 1, 0, 0, 1, 1, 1, 0, 0, 1, 1, 0, 1, 1, 0, 0, 0, 1,\n",
       "       0, 0, 0, 1, 1, 0, 1, 1, 0, 0, 0, 0, 0, 0, 0, 1, 1, 0, 1, 1, 0, 0,\n",
       "       0, 0, 0, 0, 0, 1, 1, 0, 1, 1, 0, 0, 0, 0, 0, 0, 0, 1, 1, 0, 1, 1,\n",
       "       0, 0, 0, 0, 0, 0, 0, 1, 1, 0, 1, 1, 0, 0, 0, 0, 0, 0, 0, 1, 1, 0,\n",
       "       1, 1, 0, 0, 0, 0, 0, 0, 0, 1, 1, 0])"
      ]
     },
     "execution_count": 8,
     "metadata": {},
     "output_type": "execute_result"
    }
   ],
   "source": [
    "Ms"
   ]
  },
  {
   "cell_type": "code",
   "execution_count": 9,
   "id": "79453b05",
   "metadata": {},
   "outputs": [],
   "source": [
    "def change_zeros(values):\n",
    "    for i in range(len(values)):\n",
    "        if values[i] == 0:\n",
    "            values[i] = -1\n",
    "    return None"
   ]
  },
  {
   "cell_type": "code",
   "execution_count": 10,
   "id": "649242b4",
   "metadata": {},
   "outputs": [
    {
     "name": "stdout",
     "output_type": "stream",
     "text": [
      "[ 1  1  1 -1 -1 -1 -1 -1  1  1  1 -1  1  1  1  1 -1 -1 -1  1  1  1  1 -1\n",
      "  1  1  1  1  1 -1  1  1  1  1  1 -1  1  1 -1  1  1  1  1  1 -1  1  1 -1\n",
      "  1  1 -1 -1  1  1  1 -1 -1  1  1 -1  1  1 -1 -1 -1  1 -1 -1 -1  1  1 -1\n",
      "  1  1 -1 -1 -1 -1 -1 -1 -1  1  1 -1  1  1 -1 -1 -1 -1 -1 -1 -1  1  1 -1\n",
      "  1  1 -1 -1 -1 -1 -1 -1 -1  1  1 -1  1  1 -1 -1 -1 -1 -1 -1 -1  1  1 -1\n",
      "  1  1 -1 -1 -1 -1 -1 -1 -1  1  1 -1  1  1 -1 -1 -1 -1 -1 -1 -1  1  1 -1]\n"
     ]
    }
   ],
   "source": [
    "change_zeros(Es)\n",
    "change_zeros(Hs)\n",
    "change_zeros(Ts)\n",
    "change_zeros(zeros)\n",
    "change_zeros(Ms)\n",
    "print(Ms)"
   ]
  },
  {
   "cell_type": "markdown",
   "id": "345d0616",
   "metadata": {},
   "source": [
    "5 training patterns: Es, Hs, Ts, zeros, Ms.\n",
    "Use them as input and desired output of the network."
   ]
  },
  {
   "cell_type": "code",
   "execution_count": null,
   "id": "059dec6c",
   "metadata": {},
   "outputs": [],
   "source": []
  },
  {
   "cell_type": "code",
   "execution_count": null,
   "id": "3a167b25",
   "metadata": {},
   "outputs": [],
   "source": []
  },
  {
   "cell_type": "markdown",
   "id": "f4b1aefc",
   "metadata": {},
   "source": [
    "# Code we should use"
   ]
  },
  {
   "cell_type": "code",
   "execution_count": 11,
   "id": "d44a3365",
   "metadata": {},
   "outputs": [],
   "source": [
    "# Translating the code into Python\n",
    "\n",
    "def errcorr(X, Y, mu, n, tol):\n",
    "    nx, mx = len(X), len(X[0])\n",
    "    ny, my = len(Y), len(Y[0])\n",
    "    # initialize the memory matrix\n",
    "    M = [[np.zeros(ny)] for j in range(nx)]\n",
    "    \n",
    "    for k in range(n): #n is the maximum number of outer loop iterations\n",
    "        # randomize the ordering of the vector in both X & Y\n",
    "        RN = np.random.permutation(mx)#returns a row vector containing a random permutation of the integers from 1 to mx without repeating elements.\n",
    "        print(len(RN))\n",
    "#         print(RN)\n",
    "#         X=X(:,[RN]);\n",
    "#         Y=Y(:,[RN]);        \n",
    "\n",
    "        for i in range(mx):\n",
    "#             M=M+mu*(Y(:,i)-M*X(:,i))*X(:,i)'\n",
    "            print(RN[i])\n",
    "#             for i in range(len(X)):\n",
    "#                 print(X[i][0])\n",
    "            M = M + mu*(Y[:][RN[i]] - M*X[:][RN[i]]) * X[:][RN[i]].T \n",
    "    \n",
    "        if np.linalg.norm(Y-M*X) <= tol:\n",
    "#         if max(max(np.abs(Y-M*X))) <= tol # changed by EM\n",
    "            print('Gradient Search Terminated ===>>> ||Y-M*X||<=tol')\n",
    "            print('Number of Iterations = ',n)\n",
    "            break\n",
    "    return M"
   ]
  },
  {
   "cell_type": "code",
   "execution_count": 12,
   "id": "92977a0e",
   "metadata": {},
   "outputs": [
    {
     "data": {
      "text/plain": [
       "array([ 1,  1,  1,  1,  1,  1,  1, -1, -1, -1, -1, -1,  1,  1,  1,  1,  1,\n",
       "        1,  1, -1, -1, -1, -1, -1,  1,  1, -1, -1, -1, -1, -1, -1, -1, -1,\n",
       "       -1, -1,  1,  1, -1, -1, -1, -1, -1, -1, -1, -1, -1, -1,  1,  1, -1,\n",
       "       -1, -1, -1, -1, -1, -1, -1, -1, -1,  1,  1,  1,  1,  1,  1, -1, -1,\n",
       "       -1, -1, -1, -1,  1,  1,  1,  1,  1,  1, -1, -1, -1, -1, -1, -1,  1,\n",
       "        1, -1, -1, -1, -1, -1, -1, -1, -1, -1, -1,  1,  1, -1, -1, -1, -1,\n",
       "       -1, -1, -1, -1, -1, -1,  1,  1, -1, -1, -1, -1, -1, -1, -1, -1, -1,\n",
       "       -1,  1,  1,  1,  1,  1,  1,  1, -1, -1, -1, -1, -1,  1,  1,  1,  1,\n",
       "        1,  1,  1, -1, -1, -1, -1, -1])"
      ]
     },
     "execution_count": 12,
     "metadata": {},
     "output_type": "execute_result"
    }
   ],
   "source": [
    "X = [Es, Hs, Ts, zeros, Ms] # input matrix\n",
    "X[:][0]"
   ]
  },
  {
   "cell_type": "code",
   "execution_count": 13,
   "id": "0b07a346",
   "metadata": {},
   "outputs": [
    {
     "name": "stdout",
     "output_type": "stream",
     "text": [
      "144\n",
      "64\n"
     ]
    },
    {
     "ename": "IndexError",
     "evalue": "list index out of range",
     "output_type": "error",
     "traceback": [
      "\u001b[0;31m---------------------------------------------------------------------------\u001b[0m",
      "\u001b[0;31mIndexError\u001b[0m                                Traceback (most recent call last)",
      "\u001b[0;32m/tmp/ipykernel_14467/3769351867.py\u001b[0m in \u001b[0;36m<module>\u001b[0;34m\u001b[0m\n\u001b[1;32m      7\u001b[0m \u001b[0;31m# number of times we update the weights in the learning process\u001b[0m\u001b[0;34m\u001b[0m\u001b[0;34m\u001b[0m\u001b[0;34m\u001b[0m\u001b[0m\n\u001b[1;32m      8\u001b[0m \u001b[0;34m\u001b[0m\u001b[0m\n\u001b[0;32m----> 9\u001b[0;31m \u001b[0mM\u001b[0m \u001b[0;34m=\u001b[0m \u001b[0merrcorr\u001b[0m\u001b[0;34m(\u001b[0m\u001b[0mX\u001b[0m\u001b[0;34m,\u001b[0m \u001b[0mY\u001b[0m\u001b[0;34m,\u001b[0m \u001b[0mmu\u001b[0m\u001b[0;34m,\u001b[0m \u001b[0mn\u001b[0m\u001b[0;34m,\u001b[0m \u001b[0mtol\u001b[0m\u001b[0;34m)\u001b[0m\u001b[0;34m\u001b[0m\u001b[0;34m\u001b[0m\u001b[0m\n\u001b[0m",
      "\u001b[0;32m/tmp/ipykernel_14467/2856156438.py\u001b[0m in \u001b[0;36merrcorr\u001b[0;34m(X, Y, mu, n, tol)\u001b[0m\n\u001b[1;32m     20\u001b[0m \u001b[0;31m#             for i in range(len(X)):\u001b[0m\u001b[0;34m\u001b[0m\u001b[0;34m\u001b[0m\u001b[0;34m\u001b[0m\u001b[0m\n\u001b[1;32m     21\u001b[0m \u001b[0;31m#                 print(X[i][0])\u001b[0m\u001b[0;34m\u001b[0m\u001b[0;34m\u001b[0m\u001b[0;34m\u001b[0m\u001b[0m\n\u001b[0;32m---> 22\u001b[0;31m             \u001b[0mM\u001b[0m \u001b[0;34m=\u001b[0m \u001b[0mM\u001b[0m \u001b[0;34m+\u001b[0m \u001b[0mmu\u001b[0m\u001b[0;34m*\u001b[0m\u001b[0;34m(\u001b[0m\u001b[0mY\u001b[0m\u001b[0;34m[\u001b[0m\u001b[0;34m:\u001b[0m\u001b[0;34m]\u001b[0m\u001b[0;34m[\u001b[0m\u001b[0mRN\u001b[0m\u001b[0;34m[\u001b[0m\u001b[0mi\u001b[0m\u001b[0;34m]\u001b[0m\u001b[0;34m]\u001b[0m \u001b[0;34m-\u001b[0m \u001b[0mM\u001b[0m\u001b[0;34m*\u001b[0m\u001b[0mX\u001b[0m\u001b[0;34m[\u001b[0m\u001b[0;34m:\u001b[0m\u001b[0;34m]\u001b[0m\u001b[0;34m[\u001b[0m\u001b[0mRN\u001b[0m\u001b[0;34m[\u001b[0m\u001b[0mi\u001b[0m\u001b[0;34m]\u001b[0m\u001b[0;34m]\u001b[0m\u001b[0;34m)\u001b[0m \u001b[0;34m*\u001b[0m \u001b[0mX\u001b[0m\u001b[0;34m[\u001b[0m\u001b[0;34m:\u001b[0m\u001b[0;34m]\u001b[0m\u001b[0;34m[\u001b[0m\u001b[0mRN\u001b[0m\u001b[0;34m[\u001b[0m\u001b[0mi\u001b[0m\u001b[0;34m]\u001b[0m\u001b[0;34m]\u001b[0m\u001b[0;34m.\u001b[0m\u001b[0mT\u001b[0m\u001b[0;34m\u001b[0m\u001b[0;34m\u001b[0m\u001b[0m\n\u001b[0m\u001b[1;32m     23\u001b[0m \u001b[0;34m\u001b[0m\u001b[0m\n\u001b[1;32m     24\u001b[0m         \u001b[0;32mif\u001b[0m \u001b[0mnp\u001b[0m\u001b[0;34m.\u001b[0m\u001b[0mlinalg\u001b[0m\u001b[0;34m.\u001b[0m\u001b[0mnorm\u001b[0m\u001b[0;34m(\u001b[0m\u001b[0mY\u001b[0m\u001b[0;34m-\u001b[0m\u001b[0mM\u001b[0m\u001b[0;34m*\u001b[0m\u001b[0mX\u001b[0m\u001b[0;34m)\u001b[0m \u001b[0;34m<=\u001b[0m \u001b[0mtol\u001b[0m\u001b[0;34m:\u001b[0m\u001b[0;34m\u001b[0m\u001b[0;34m\u001b[0m\u001b[0m\n",
      "\u001b[0;31mIndexError\u001b[0m: list index out of range"
     ]
    }
   ],
   "source": [
    "X = [Es, Hs, Ts, zeros, Ms] # input matrix\n",
    "Y = [Es, Hs, Ts, zeros, Ms] # output matrix\n",
    "mu = 1\n",
    "n = 5\n",
    "tol = 0.1 # error tolerance value\n",
    "# n * mx #the number of outer loops times the number of patterns run through the network in each loop).\n",
    "# number of times we update the weights in the learning process\n",
    "\n",
    "M = errcorr(X, Y, mu, n, tol)\n"
   ]
  },
  {
   "cell_type": "code",
   "execution_count": 14,
   "id": "aafbea93",
   "metadata": {},
   "outputs": [
    {
     "name": "stdout",
     "output_type": "stream",
     "text": [
      "1\n",
      "-1\n",
      "-1\n",
      "-1\n",
      "1\n"
     ]
    }
   ],
   "source": [
    "for i in range(len(X)):\n",
    "    print(X[i][0])\n",
    "# X[:][]#[:]\n",
    "#1 - - - 1"
   ]
  },
  {
   "cell_type": "code",
   "execution_count": null,
   "id": "958b42eb",
   "metadata": {},
   "outputs": [],
   "source": []
  },
  {
   "cell_type": "markdown",
   "id": "e1ad6366",
   "metadata": {},
   "source": [
    "Code for L4-AssociativeMemory\n",
    "The MATLAB function to implement the error-correction algorithm\n",
    "for computing the correlation matrix memory is given below.\n",
    "Credit for code: Ham and Kostanic, Principles of Neurocomputing for Science and Engineering,\n",
    "McGraw Hill, 2001\n",
    "\n",
    "```\n",
    "function M=errcorr(X,Y,mu,n,tol)\n",
    "[nx,mx]=size(X);\n",
    "[ny,my]=size(Y);\n",
    "%initialize the memory matrix\n",
    "M=zeros(ny,nx);\n",
    "for k=1:n %n is the maximum number of outer loop iterations\n",
    "% randomize the ordering of the vector in both X & Y\n",
    "RN=randperm(mx);\n",
    "X=X(:,[RN]);\n",
    "Y=Y(:,[RN]);\n",
    "for i=1:mx\n",
    "M=M+mu*(Y(:,i)-M*X(:,i))*X(:,i)';\n",
    "end\n",
    "%if norm(Y-M*X)<=tol\n",
    "if max(max(abs(Y-M*X))) <= tol\n",
    " % changed by EM\n",
    "disp('Gradient Search Terminated ===>>> ||Y-\n",
    "M*X||<=tol')\n",
    "disp('Number of Iterations = '), disp(n*i)\n",
    "break\n",
    "end\n",
    "end\n",
    "```\n",
    "\n",
    "Notes by EM:\n",
    "- X and Y are, respectively, the input and output data matrices (as on the slide of eq. (4.14)), whose columns are the vectorized character images in HW03.\n",
    "- The number of learning steps, i.e., the number of times we update the weights in the learning process, is n * mx (the number of outer loops times the number of patterns run through the network in each loop).\n",
    "- I changed the error criterion for stopping (||Y-MX|| <=tol) to a more intuitive one (ponder it). Feel free to use either but take care of reporting the one you use in the line ‘Gradient Search Terminated ....’\n",
    "- The number of iterations is obviously incorrectly reported in this code as n*i. Correct it in your copy!\n"
   ]
  },
  {
   "cell_type": "code",
   "execution_count": null,
   "id": "e5423796",
   "metadata": {},
   "outputs": [],
   "source": []
  },
  {
   "cell_type": "code",
   "execution_count": null,
   "id": "208ed62d",
   "metadata": {},
   "outputs": [],
   "source": []
  },
  {
   "cell_type": "code",
   "execution_count": null,
   "id": "2ccdb1b9",
   "metadata": {},
   "outputs": [],
   "source": []
  }
 ],
 "metadata": {
  "kernelspec": {
   "display_name": "Python 3 (ipykernel)",
   "language": "python",
   "name": "python3"
  },
  "language_info": {
   "codemirror_mode": {
    "name": "ipython",
    "version": 3
   },
   "file_extension": ".py",
   "mimetype": "text/x-python",
   "name": "python",
   "nbconvert_exporter": "python",
   "pygments_lexer": "ipython3",
   "version": "3.8.8"
  }
 },
 "nbformat": 4,
 "nbformat_minor": 5
}
