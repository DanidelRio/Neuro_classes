{
 "cells": [
  {
   "cell_type": "code",
   "execution_count": 1,
   "id": "2ac5c1db",
   "metadata": {},
   "outputs": [],
   "source": [
    "import numpy as np\n",
    "import matplotlib.pyplot as plt\n",
    "import re"
   ]
  },
  {
   "cell_type": "markdown",
   "id": "b9e180f4",
   "metadata": {},
   "source": [
    "# Reading data from ``characters.ascii`` file\n",
    "\n",
    "You do not have to do something with this file for the homework. Only with the other file."
   ]
  },
  {
   "cell_type": "code",
   "execution_count": 2,
   "id": "10e1336a",
   "metadata": {},
   "outputs": [],
   "source": [
    "# https://realpython.com/read-write-files-python/\n",
    "# with open('characters.ascii', 'r') as reader: # Reads the file\n",
    "#     d2 = reader.readlines()"
   ]
  },
  {
   "cell_type": "code",
   "execution_count": 3,
   "id": "4a6757fc",
   "metadata": {
    "scrolled": true
   },
   "outputs": [],
   "source": [
    "# vec = []\n",
    "\n",
    "# for i in range(len(d2)):\n",
    "#     # Convert string to array: https://www.educba.com/python-string-to-array/\n",
    "#     line = d2[i]\n",
    "#     line = line.replace(\".\\n\", \"\") #https://stackoverflow.com/questions/3939361/remove-specific-characters-from-a-string-in-python\n",
    "#     line = line.replace(\"\\n\", \"\")\n",
    "#     splitted_line = line.split(\". \")\n",
    "# #     print(splitted_line)\n",
    "# #     print(i)\n",
    "    \n",
    "#     if i!= 19:\n",
    "#         int_split_line = [int(splitted_line[k]) for k in range(len(splitted_line))]\n",
    "#     else: # Detail with line 19 of file\n",
    "#         int_split_line = [int(splitted_line[i]) for i in range(len(splitted_line)-1)]\n",
    "        \n",
    "#     vec.append(int_split_line)"
   ]
  },
  {
   "cell_type": "code",
   "execution_count": 4,
   "id": "a23cb95e",
   "metadata": {},
   "outputs": [],
   "source": [
    "# lengths = [len(vec[i]) for i in range(len(vec))]\n",
    "# print(vec[0][0])\n",
    "# print(len(vec))\n",
    "# print(len(vec[0]))\n",
    "# 38*42 #images of 1596 pixels. I do not think so."
   ]
  },
  {
   "cell_type": "markdown",
   "id": "ec00aa32",
   "metadata": {},
   "source": [
    "Data from ``characters.ascii`` is in ``vec`` in the correct format :)"
   ]
  },
  {
   "cell_type": "code",
   "execution_count": null,
   "id": "250dae5a",
   "metadata": {},
   "outputs": [],
   "source": []
  },
  {
   "cell_type": "markdown",
   "id": "ac8c683b",
   "metadata": {},
   "source": [
    "# Reading data from ``EHT0M.ascii`` file"
   ]
  },
  {
   "cell_type": "code",
   "execution_count": 5,
   "id": "bfdfc04a",
   "metadata": {},
   "outputs": [],
   "source": [
    "with open('EHT0M.ascii', 'r') as reader:\n",
    "    # Read & print the entire file\n",
    "    d2 = reader.readlines()"
   ]
  },
  {
   "cell_type": "code",
   "execution_count": 6,
   "id": "be5fbeea",
   "metadata": {},
   "outputs": [
    {
     "data": {
      "text/plain": [
       "['The characters E, H, T, 0 (zero), and M can be generated in MATLAB as follows\\n',\n",
       " 'E=[1 1 1 1 1 1 1 0 0 0 0 0;\\n',\n",
       " '   1 1 1 1 1 1 1 0 0 0 0 0;\\n',\n",
       " '   1 1 0 0 0 0 0 0 0 0 0 0;\\n',\n",
       " '   1 1 0 0 0 0 0 0 0 0 0 0;\\n',\n",
       " '   1 1 0 0 0 0 0 0 0 0 0 0;\\n',\n",
       " '   1 1 1 1 1 1 0 0 0 0 0 0;\\n',\n",
       " '   1 1 1 1 1 1 0 0 0 0 0 0;\\n',\n",
       " '   1 1 0 0 0 0 0 0 0 0 0 0;\\n',\n",
       " '   1 1 0 0 0 0 0 0 0 0 0 0;\\n',\n",
       " '   1 1 0 0 0 0 0 0 0 0 0 0;\\n',\n",
       " '   1 1 1 1 1 1 1 0 0 0 0 0;\\n',\n",
       " '   1 1 1 1 1 1 1 0 0 0 0 0];\\n',\n",
       " 'H=[0 0 1 1 0 0 0 0 1 1 0 0;\\n',\n",
       " '   0 0 1 1 0 0 0 0 1 1 0 0;\\n',\n",
       " '   0 0 1 1 0 0 0 0 1 1 0 0;\\n',\n",
       " '   0 0 1 1 0 0 0 0 1 1 0 0;\\n',\n",
       " '   0 0 1 1 0 0 0 0 1 1 0 0;\\n',\n",
       " '   0 0 1 1 1 1 1 1 1 1 0 0;\\n',\n",
       " '   0 0 1 1 1 1 1 1 1 1 0 0;\\n',\n",
       " '   0 0 1 1 0 0 0 0 1 1 0 0;\\n',\n",
       " '   0 0 1 1 0 0 0 0 1 1 0 0;\\n',\n",
       " '   0 0 1 1 0 0 0 0 1 1 0 0;\\n',\n",
       " '   0 0 1 1 0 0 0 0 1 1 0 0;\\n',\n",
       " '   0 0 1 1 0 0 0 0 1 1 0 0];\\n',\n",
       " '  \\n',\n",
       " 'T=[0 1 1 1 1 1 1 1 1 1 1 0;\\n',\n",
       " '   0 1 1 1 1 1 1 1 1 1 1 0;\\n',\n",
       " '   0 0 0 0 0 1 1 0 0 0 0 0;\\n',\n",
       " '   0 0 0 0 0 1 1 0 0 0 0 0;\\n',\n",
       " '   0 0 0 0 0 1 1 0 0 0 0 0;\\n',\n",
       " '   0 0 0 0 0 1 1 0 0 0 0 0;\\n',\n",
       " '   0 0 0 0 0 1 1 0 0 0 0 0;\\n',\n",
       " '   0 0 0 0 0 1 1 0 0 0 0 0;\\n',\n",
       " '   0 0 0 0 0 1 1 0 0 0 0 0;\\n',\n",
       " '   0 0 0 0 0 1 1 0 0 0 0 0;\\n',\n",
       " '   0 0 0 0 0 1 1 0 0 0 0 0;\\n',\n",
       " '   0 0 0 0 0 1 1 0 0 0 0 0];\\n',\n",
       " 'zero=[0 0 0 1 1 1 1 1 1 0 0 0;\\n',\n",
       " '      0 0 1 1 1 1 1 1 1 1 0 0;\\n',\n",
       " '      0 1 1 1 0 0 0 0 1 1 1 0;\\n',\n",
       " '      0 1 1 1 0 0 0 0 1 1 1 0;\\n',\n",
       " '      0 1 1 1 0 0 0 0 1 1 1 0;\\n',\n",
       " '      0 1 1 1 0 0 0 0 1 1 1 0;\\n',\n",
       " '      0 1 1 1 0 0 0 0 1 1 1 0;\\n',\n",
       " '      0 1 1 1 0 0 0 0 1 1 1 0;\\n',\n",
       " '      0 1 1 1 0 0 0 0 1 1 1 0;\\n',\n",
       " '      0 1 1 1 0 0 0 0 1 1 1 0;\\n',\n",
       " '      0 0 1 1 1 1 1 1 1 1 0 0;\\n',\n",
       " '      0 0 0 1 1 1 1 1 1 0 0 0];\\n',\n",
       " 'M=[1 1 1 0 0 0 0 0 1 1 1 0;\\n',\n",
       " '   1 1 1 1 0 0 0 1 1 1 1 0;\\n',\n",
       " '   1 1 1 1 1 0 1 1 1 1 1 0;\\n',\n",
       " '   1 1 0 1 1 1 1 1 0 1 1 0;\\n',\n",
       " '   1 1 0 0 1 1 1 0 0 1 1 0;\\n',\n",
       " '   1 1 0 0 0 1 0 0 0 1 1 0;\\n',\n",
       " '   1 1 0 0 0 0 0 0 0 1 1 0;\\n',\n",
       " '   1 1 0 0 0 0 0 0 0 1 1 0;\\n',\n",
       " '   1 1 0 0 0 0 0 0 0 1 1 0;\\n',\n",
       " '   1 1 0 0 0 0 0 0 0 1 1 0;\\n',\n",
       " '   1 1 0 0 0 0 0 0 0 1 1 0;\\n',\n",
       " '   1 1 0 0 0 0 0 0 0 1 1 0];\\n',\n",
       " '\\n',\n",
       " '\\n',\n",
       " 'These \"binary\" characters can be converted to \"biploar\" characters in \\n',\n",
       " 'MATLAB by carrying out the following\\n',\n",
       " '\\n',\n",
       " 'EBP=ones(size(E));\\n',\n",
       " 'HBP=ones(size(H));\\n',\n",
       " 'TBP=ones(size(T));\\n',\n",
       " 'zeroBP=ones(size(zero));\\n',\n",
       " 'MBP=ones(size(M));\\n',\n",
       " 'for i=1:12\\n',\n",
       " '   for j=1:12      \\n',\n",
       " '      if E(i,j)==0\\n',\n",
       " '         EBP(i,j)=-1;\\n',\n",
       " '      end\\n',\n",
       " '      if H(i,j)==0\\n',\n",
       " '         HBP(i,j)=-1;\\n',\n",
       " '      end\\n',\n",
       " '      if T(i,j)==0\\n',\n",
       " '         TBP(i,j)=-1;\\n',\n",
       " '      end\\n',\n",
       " '      if zero(i,j)==0\\n',\n",
       " '         zeroBP(i,j)=-1;\\n',\n",
       " '      end\\n',\n",
       " '      if M(i,j)==0\\n',\n",
       " '         MBP(i,j)=-1;\\n',\n",
       " '      end\\n',\n",
       " '   end\\n',\n",
       " 'end \\n',\n",
       " '\\n']"
      ]
     },
     "execution_count": 6,
     "metadata": {},
     "output_type": "execute_result"
    }
   ],
   "source": [
    "d2"
   ]
  },
  {
   "cell_type": "code",
   "execution_count": 7,
   "id": "32a62110",
   "metadata": {},
   "outputs": [],
   "source": [
    "asa = []\n",
    "for i in range(len(d2)):\n",
    "    asa.append([int(d2[i][k]) for k in range(len(d2[i])) if d2[i][k] == \"0\" or d2[i][k] == \"1\"])\n",
    "    \n",
    "aux = []\n",
    "for k in range(len(asa)):\n",
    "    if len(asa[k]) == 12:\n",
    "        aux.append(asa[k])\n",
    "\n",
    "Es = np.concatenate(aux[:12])\n",
    "Hs = np.concatenate(aux[12:24])     \n",
    "Ts = np.concatenate(aux[24:36])     \n",
    "zeros = np.concatenate(aux[36:48])        \n",
    "Ms = np.concatenate(aux[48:60])  \n",
    "\n",
    "# E H T zero M"
   ]
  },
  {
   "cell_type": "code",
   "execution_count": 8,
   "id": "39b3d3e0",
   "metadata": {},
   "outputs": [
    {
     "data": {
      "text/plain": [
       "array([1, 1, 1, 0, 0, 0, 0, 0, 1, 1, 1, 0, 1, 1, 1, 1, 0, 0, 0, 1, 1, 1,\n",
       "       1, 0, 1, 1, 1, 1, 1, 0, 1, 1, 1, 1, 1, 0, 1, 1, 0, 1, 1, 1, 1, 1,\n",
       "       0, 1, 1, 0, 1, 1, 0, 0, 1, 1, 1, 0, 0, 1, 1, 0, 1, 1, 0, 0, 0, 1,\n",
       "       0, 0, 0, 1, 1, 0, 1, 1, 0, 0, 0, 0, 0, 0, 0, 1, 1, 0, 1, 1, 0, 0,\n",
       "       0, 0, 0, 0, 0, 1, 1, 0, 1, 1, 0, 0, 0, 0, 0, 0, 0, 1, 1, 0, 1, 1,\n",
       "       0, 0, 0, 0, 0, 0, 0, 1, 1, 0, 1, 1, 0, 0, 0, 0, 0, 0, 0, 1, 1, 0,\n",
       "       1, 1, 0, 0, 0, 0, 0, 0, 0, 1, 1, 0])"
      ]
     },
     "execution_count": 8,
     "metadata": {},
     "output_type": "execute_result"
    }
   ],
   "source": [
    "Ms"
   ]
  },
  {
   "cell_type": "code",
   "execution_count": 9,
   "id": "79453b05",
   "metadata": {},
   "outputs": [],
   "source": [
    "def change_zeros(values):\n",
    "    for i in range(len(values)):\n",
    "        if values[i] == 0:\n",
    "            values[i] = -1\n",
    "    return None"
   ]
  },
  {
   "cell_type": "code",
   "execution_count": 10,
   "id": "649242b4",
   "metadata": {},
   "outputs": [
    {
     "name": "stdout",
     "output_type": "stream",
     "text": [
      "[ 1  1  1 -1 -1 -1 -1 -1  1  1  1 -1  1  1  1  1 -1 -1 -1  1  1  1  1 -1\n",
      "  1  1  1  1  1 -1  1  1  1  1  1 -1  1  1 -1  1  1  1  1  1 -1  1  1 -1\n",
      "  1  1 -1 -1  1  1  1 -1 -1  1  1 -1  1  1 -1 -1 -1  1 -1 -1 -1  1  1 -1\n",
      "  1  1 -1 -1 -1 -1 -1 -1 -1  1  1 -1  1  1 -1 -1 -1 -1 -1 -1 -1  1  1 -1\n",
      "  1  1 -1 -1 -1 -1 -1 -1 -1  1  1 -1  1  1 -1 -1 -1 -1 -1 -1 -1  1  1 -1\n",
      "  1  1 -1 -1 -1 -1 -1 -1 -1  1  1 -1  1  1 -1 -1 -1 -1 -1 -1 -1  1  1 -1]\n"
     ]
    }
   ],
   "source": [
    "change_zeros(Es)\n",
    "change_zeros(Hs)\n",
    "change_zeros(Ts)\n",
    "change_zeros(zeros)\n",
    "change_zeros(Ms)\n",
    "print(Ms)"
   ]
  },
  {
   "cell_type": "markdown",
   "id": "345d0616",
   "metadata": {},
   "source": [
    "5 training patterns: Es, Hs, Ts, zeros, Ms.\n",
    "Use them as input and desired output of the network."
   ]
  },
  {
   "cell_type": "code",
   "execution_count": null,
   "id": "059dec6c",
   "metadata": {},
   "outputs": [],
   "source": []
  },
  {
   "cell_type": "code",
   "execution_count": null,
   "id": "3a167b25",
   "metadata": {},
   "outputs": [],
   "source": []
  },
  {
   "cell_type": "markdown",
   "id": "40608264",
   "metadata": {},
   "source": [
    "# Coding a simple perceptron in Python."
   ]
  },
  {
   "cell_type": "code",
   "execution_count": null,
   "id": "2c8f92eb",
   "metadata": {},
   "outputs": [],
   "source": []
  },
  {
   "cell_type": "code",
   "execution_count": null,
   "id": "ccb1eb1e",
   "metadata": {},
   "outputs": [],
   "source": []
  },
  {
   "cell_type": "code",
   "execution_count": null,
   "id": "be5f3fd3",
   "metadata": {},
   "outputs": [],
   "source": []
  },
  {
   "cell_type": "code",
   "execution_count": null,
   "id": "e2fc119f",
   "metadata": {},
   "outputs": [],
   "source": []
  },
  {
   "cell_type": "code",
   "execution_count": null,
   "id": "d299ef27",
   "metadata": {},
   "outputs": [],
   "source": []
  },
  {
   "cell_type": "code",
   "execution_count": null,
   "id": "cba44772",
   "metadata": {},
   "outputs": [],
   "source": []
  },
  {
   "cell_type": "code",
   "execution_count": null,
   "id": "e3a10fc4",
   "metadata": {},
   "outputs": [],
   "source": []
  },
  {
   "cell_type": "code",
   "execution_count": null,
   "id": "c4d795f7",
   "metadata": {},
   "outputs": [],
   "source": []
  },
  {
   "cell_type": "markdown",
   "id": "f4b1aefc",
   "metadata": {},
   "source": [
    "# Code we should use"
   ]
  },
  {
   "cell_type": "code",
   "execution_count": 11,
   "id": "d44a3365",
   "metadata": {},
   "outputs": [],
   "source": [
    "# IT seems you were thinking about it correctly, this extract of code is for every letter independently.\n",
    "# The entry is not X = [Es, Ms, Ts, zeros] only X = Es\n",
    "# Translating the code into Python\n",
    "\n",
    "def errcorr(X, Y, mu, n, tol):\n",
    "    nx, mx = len(X), len(X[0])\n",
    "    ny, my = len(Y), len(Y[0])\n",
    "    # initialize the memory matrix\n",
    "    M = [[np.zeros(ny)] for j in range(nx)]\n",
    "    \n",
    "    for k in range(n): #n is the maximum number of outer loop iterations\n",
    "        # randomize the ordering of the vector in both X & Y\n",
    "        RN = np.random.permutation(mx)#returns a row vector containing a random permutation of the integers from 1 to mx without repeating elements.\n",
    "        print(len(RN))\n",
    "#         print(RN)\n",
    "#         X=X(:,[RN]);\n",
    "#         Y=Y(:,[RN]);        \n",
    "\n",
    "        for i in range(mx):\n",
    "#             M=M+mu*(Y(:,i)-M*X(:,i))*X(:,i)'\n",
    "            print(RN[i])\n",
    "#             for i in range(len(X)):\n",
    "#                 print(X[i][0])\n",
    "            M = M + mu*(Y[:][RN[i]] - M*X[:][RN[i]]) * X[:][RN[i]].T \n",
    "    \n",
    "        if np.linalg.norm(Y-M*X) <= tol:\n",
    "#         if max(max(np.abs(Y-M*X))) <= tol # changed by EM\n",
    "            print('Gradient Search Terminated ===>>> ||Y-M*X||<=tol')\n",
    "            print('Number of Iterations = ',k)\n",
    "            break\n",
    "    return M"
   ]
  },
  {
   "cell_type": "markdown",
   "id": "513369f7",
   "metadata": {},
   "source": [
    "# Creo que el error radica en que tenemos vectores de 1*144 y al obtener la matriz transpuesta, se estan obteniendo otras entradas que no queriamos. Porque tambien si ves las celdas de abajo, esta raro como se obtienen los indices."
   ]
  },
  {
   "cell_type": "code",
   "execution_count": 12,
   "id": "92977a0e",
   "metadata": {},
   "outputs": [
    {
     "data": {
      "text/plain": [
       "array([ 1,  1,  1,  1,  1,  1,  1, -1, -1, -1, -1, -1,  1,  1,  1,  1,  1,\n",
       "        1,  1, -1, -1, -1, -1, -1,  1,  1, -1, -1, -1, -1, -1, -1, -1, -1,\n",
       "       -1, -1,  1,  1, -1, -1, -1, -1, -1, -1, -1, -1, -1, -1,  1,  1, -1,\n",
       "       -1, -1, -1, -1, -1, -1, -1, -1, -1,  1,  1,  1,  1,  1,  1, -1, -1,\n",
       "       -1, -1, -1, -1,  1,  1,  1,  1,  1,  1, -1, -1, -1, -1, -1, -1,  1,\n",
       "        1, -1, -1, -1, -1, -1, -1, -1, -1, -1, -1,  1,  1, -1, -1, -1, -1,\n",
       "       -1, -1, -1, -1, -1, -1,  1,  1, -1, -1, -1, -1, -1, -1, -1, -1, -1,\n",
       "       -1,  1,  1,  1,  1,  1,  1,  1, -1, -1, -1, -1, -1,  1,  1,  1,  1,\n",
       "        1,  1,  1, -1, -1, -1, -1, -1])"
      ]
     },
     "execution_count": 12,
     "metadata": {},
     "output_type": "execute_result"
    }
   ],
   "source": [
    "X = [Es, Hs, Ts, zeros, Ms] # input matrix\n",
    "X[:][0]"
   ]
  },
  {
   "cell_type": "code",
   "execution_count": 13,
   "id": "aafbea93",
   "metadata": {},
   "outputs": [
    {
     "name": "stdout",
     "output_type": "stream",
     "text": [
      "1\n",
      "-1\n",
      "-1\n",
      "-1\n",
      "1\n"
     ]
    }
   ],
   "source": [
    "for i in range(len(X)):\n",
    "    print(X[i][0])\n",
    "# X[:][]#[:]\n",
    "#1 - - - 1"
   ]
  },
  {
   "cell_type": "code",
   "execution_count": 14,
   "id": "43bf4a85",
   "metadata": {},
   "outputs": [],
   "source": [
    "def errcorr_1D(X, Y, mu, n, tol):\n",
    "    nx, mx = 1, len(X)\n",
    "    ny, my = 1, len(Y)\n",
    "    # initialize the memory matrix\n",
    "    M = np.zeros(len(X))\n",
    "    Ms = []\n",
    "    #[[np.zeros(ny)] for j in range(nx)]\n",
    "    \n",
    "    for k in range(n): #n is the maximum number of outer loop iterations\n",
    "        # randomize the ordering of the vector in both X & Y\n",
    "        RN = np.random.permutation(mx)#returns a row vector containing a random permutation of the integers from 1 to mx without repeating elements.\n",
    "\n",
    "        for i in range(mx): # For each element of the input X\n",
    "            M = M + mu*(Y[RN[i]] - M*X[RN[i]]) * X[RN[i]].T \n",
    "        \n",
    "        Ms.append(M)\n",
    "        \n",
    "#         if np.linalg.norm(Y-M*X) <= tol:\n",
    "        if max(np.abs(Y-M*X)) <= tol: # changed by EM\n",
    "            print('Gradient Search Terminated ===>>> ||Y-M*X||<=tol')\n",
    "            print('Number of Iterations = ',k)\n",
    "            break\n",
    "    return Ms"
   ]
  },
  {
   "cell_type": "code",
   "execution_count": 15,
   "id": "7ba4e54e",
   "metadata": {},
   "outputs": [
    {
     "name": "stdout",
     "output_type": "stream",
     "text": [
      "Gradient Search Terminated ===>>> ||Y-M*X||<=tol\n",
      "Number of Iterations =  0\n",
      "[array([1., 1., 1., 1., 1., 1., 1., 1., 1., 1., 1., 1., 1., 1., 1., 1., 1.,\n",
      "       1., 1., 1., 1., 1., 1., 1., 1., 1., 1., 1., 1., 1., 1., 1., 1., 1.,\n",
      "       1., 1., 1., 1., 1., 1., 1., 1., 1., 1., 1., 1., 1., 1., 1., 1., 1.,\n",
      "       1., 1., 1., 1., 1., 1., 1., 1., 1., 1., 1., 1., 1., 1., 1., 1., 1.,\n",
      "       1., 1., 1., 1., 1., 1., 1., 1., 1., 1., 1., 1., 1., 1., 1., 1., 1.,\n",
      "       1., 1., 1., 1., 1., 1., 1., 1., 1., 1., 1., 1., 1., 1., 1., 1., 1.,\n",
      "       1., 1., 1., 1., 1., 1., 1., 1., 1., 1., 1., 1., 1., 1., 1., 1., 1.,\n",
      "       1., 1., 1., 1., 1., 1., 1., 1., 1., 1., 1., 1., 1., 1., 1., 1., 1.,\n",
      "       1., 1., 1., 1., 1., 1., 1., 1.])]\n"
     ]
    }
   ],
   "source": [
    "X = Es # input matrix\n",
    "Y = Es # output matrix\n",
    "mu = 0.2 #learning rate\n",
    "n = 10\n",
    "tol = 0.01 # error tolerance value\n",
    "# n * mx #the number of outer loops times the number of patterns run through the network in each loop).\n",
    "# number of times we update the weights in the learning process\n",
    "\n",
    "Ms = errcorr_1D(X, Y, mu, n, tol)\n",
    "print(Ms)"
   ]
  },
  {
   "cell_type": "markdown",
   "id": "6c4834b0",
   "metadata": {},
   "source": [
    "Now that the perceptron learned, we will input X and let it go through the memory matrix and see what image was recalled."
   ]
  },
  {
   "cell_type": "code",
   "execution_count": 16,
   "id": "dcac3e90",
   "metadata": {},
   "outputs": [
    {
     "name": "stdout",
     "output_type": "stream",
     "text": [
      "[[1. 1. 1. 1. 1. 1. 1. 0. 0. 0. 0. 0.]\n",
      " [1. 1. 1. 1. 1. 1. 1. 0. 0. 0. 0. 0.]\n",
      " [1. 1. 0. 0. 0. 0. 0. 0. 0. 0. 0. 0.]\n",
      " [1. 1. 0. 0. 0. 0. 0. 0. 0. 0. 0. 0.]\n",
      " [1. 1. 0. 0. 0. 0. 0. 0. 0. 0. 0. 0.]\n",
      " [1. 1. 1. 1. 1. 1. 0. 0. 0. 0. 0. 0.]\n",
      " [1. 1. 1. 1. 1. 1. 0. 0. 0. 0. 0. 0.]\n",
      " [1. 1. 0. 0. 0. 0. 0. 0. 0. 0. 0. 0.]\n",
      " [1. 1. 0. 0. 0. 0. 0. 0. 0. 0. 0. 0.]\n",
      " [1. 1. 0. 0. 0. 0. 0. 0. 0. 0. 0. 0.]\n",
      " [1. 1. 1. 1. 1. 1. 1. 0. 0. 0. 0. 0.]\n",
      " [1. 1. 1. 1. 1. 1. 1. 0. 0. 0. 0. 0.]]\n",
      "[[ 1  1  1  1  1  1  1 -1 -1 -1 -1 -1]\n",
      " [ 1  1  1  1  1  1  1 -1 -1 -1 -1 -1]\n",
      " [ 1  1 -1 -1 -1 -1 -1 -1 -1 -1 -1 -1]\n",
      " [ 1  1 -1 -1 -1 -1 -1 -1 -1 -1 -1 -1]\n",
      " [ 1  1 -1 -1 -1 -1 -1 -1 -1 -1 -1 -1]\n",
      " [ 1  1  1  1  1  1 -1 -1 -1 -1 -1 -1]\n",
      " [ 1  1  1  1  1  1 -1 -1 -1 -1 -1 -1]\n",
      " [ 1  1 -1 -1 -1 -1 -1 -1 -1 -1 -1 -1]\n",
      " [ 1  1 -1 -1 -1 -1 -1 -1 -1 -1 -1 -1]\n",
      " [ 1  1 -1 -1 -1 -1 -1 -1 -1 -1 -1 -1]\n",
      " [ 1  1  1  1  1  1  1 -1 -1 -1 -1 -1]\n",
      " [ 1  1  1  1  1  1  1 -1 -1 -1 -1 -1]]\n"
     ]
    }
   ],
   "source": [
    "Y_recalled = Ms*X\n",
    "\n",
    "for i in range(len(Y_recalled[0])):\n",
    "    if Y_recalled[0][i] < 0:\n",
    "        Y_recalled[0][i] = 0\n",
    "print(Y_recalled.reshape(12,12))\n",
    "print(X.reshape(12,12))"
   ]
  },
  {
   "cell_type": "code",
   "execution_count": 17,
   "id": "5fd8fa97",
   "metadata": {},
   "outputs": [
    {
     "data": {
      "image/png": "[encoded data removed]",
      "text/plain": [
       "<Figure size 432x288 with 3 Axes>"
      ]
     },
     "metadata": {
      "needs_background": "light"
     },
     "output_type": "display_data"
    }
   ],
   "source": [
    "fig, (ax1, ax2) = plt.subplots(1, 2)\n",
    "ax1.imshow(X.reshape(12,12), cmap=\"gray\")\n",
    "ax1.set_title('Input')\n",
    "pos = ax2.imshow(Y_recalled.reshape(12,12), cmap=\"gray\")\n",
    "ax2.set_title('Recalled')\n",
    "\n",
    "fig.colorbar(pos, ax=ax2)\n",
    "\n",
    "plt.show()"
   ]
  },
  {
   "cell_type": "markdown",
   "id": "fd099171",
   "metadata": {},
   "source": [
    "# Corrupting images by 20%"
   ]
  },
  {
   "cell_type": "code",
   "execution_count": 18,
   "id": "865ca17c",
   "metadata": {},
   "outputs": [],
   "source": [
    "def corrupt(input_vec, percentage=0.2):\n",
    "    length = int(np.round(len(input_vec)*percentage))\n",
    "    permuts = np.random.permutation(len(input_vec)) # randomize indices of input_vec  \n",
    "    corrupt_vec = input_vec.copy()\n",
    "    \n",
    "    for i in range(length):# Loop for those indices\n",
    "    # Change those values to -1 or 1, depending, 2 if statements\n",
    "        if input_vec[permuts[i]] > 0: #Flips 1 to -1\n",
    "            corrupt_vec[permuts[i]] = -1\n",
    "        else: # Flips -1 to 1\n",
    "            corrupt_vec[permuts[i]] = 1\n",
    "    \n",
    "    return corrupt_vec"
   ]
  },
  {
   "cell_type": "code",
   "execution_count": 19,
   "id": "af0c8822",
   "metadata": {},
   "outputs": [],
   "source": [
    "Es_corr = corrupt(Es)"
   ]
  },
  {
   "cell_type": "code",
   "execution_count": 20,
   "id": "1562ebd4",
   "metadata": {},
   "outputs": [
    {
     "data": {
      "image/png": "[encoded data removed]",
      "text/plain": [
       "<Figure size 432x288 with 3 Axes>"
      ]
     },
     "metadata": {
      "needs_background": "light"
     },
     "output_type": "display_data"
    }
   ],
   "source": [
    "fig, (ax1, ax2) = plt.subplots(1, 2)\n",
    "ax1.imshow(Es.reshape(12,12), cmap=\"gray\")\n",
    "ax1.set_title('Input')\n",
    "pos = ax2.imshow(Es_corr.reshape(12,12), cmap=\"gray\")\n",
    "ax2.set_title('Corrupt')\n",
    "\n",
    "fig.colorbar(pos, ax=ax2)\n",
    "\n",
    "plt.show()"
   ]
  },
  {
   "cell_type": "code",
   "execution_count": 21,
   "id": "80eaa7df",
   "metadata": {},
   "outputs": [],
   "source": [
    "Y_rec_corr = Ms*Es_corr"
   ]
  },
  {
   "cell_type": "code",
   "execution_count": 22,
   "id": "16191da6",
   "metadata": {},
   "outputs": [
    {
     "data": {
      "image/png": "[encoded data removed]",
      "text/plain": [
       "<Figure size 432x288 with 3 Axes>"
      ]
     },
     "metadata": {
      "needs_background": "light"
     },
     "output_type": "display_data"
    }
   ],
   "source": [
    "fig, (ax1, ax2) = plt.subplots(1, 2)\n",
    "ax1.imshow(Es.reshape(12,12), cmap=\"gray\")\n",
    "ax1.set_title('Input')\n",
    "pos = ax2.imshow(Y_rec_corr.reshape(12,12), cmap=\"gray\")\n",
    "ax2.set_title('Recalled')\n",
    "\n",
    "fig.colorbar(pos, ax=ax2)\n",
    "\n",
    "plt.show()"
   ]
  },
  {
   "cell_type": "markdown",
   "id": "b17bf003",
   "metadata": {},
   "source": [
    "But this is not recalling anything. Are you sure for recall you simply obtain X*M?"
   ]
  },
  {
   "cell_type": "code",
   "execution_count": null,
   "id": "958b42eb",
   "metadata": {},
   "outputs": [],
   "source": []
  },
  {
   "cell_type": "markdown",
   "id": "e1ad6366",
   "metadata": {},
   "source": [
    "Code for L4-AssociativeMemory\n",
    "The MATLAB function to implement the error-correction algorithm\n",
    "for computing the correlation matrix memory is given below.\n",
    "Credit for code: Ham and Kostanic, Principles of Neurocomputing for Science and Engineering,\n",
    "McGraw Hill, 2001\n",
    "\n",
    "```\n",
    "function M=errcorr(X,Y,mu,n,tol)\n",
    "[nx,mx]=size(X);\n",
    "[ny,my]=size(Y);\n",
    "%initialize the memory matrix\n",
    "M=zeros(ny,nx);\n",
    "for k=1:n %n is the maximum number of outer loop iterations\n",
    "% randomize the ordering of the vector in both X & Y\n",
    "RN=randperm(mx);\n",
    "X=X(:,[RN]);\n",
    "Y=Y(:,[RN]);\n",
    "for i=1:mx\n",
    "M=M+mu*(Y(:,i)-M*X(:,i))*X(:,i)';\n",
    "end\n",
    "%if norm(Y-M*X)<=tol\n",
    "if max(max(abs(Y-M*X))) <= tol\n",
    " % changed by EM\n",
    "disp('Gradient Search Terminated ===>>> ||Y-\n",
    "M*X||<=tol')\n",
    "disp('Number of Iterations = '), disp(n*i)\n",
    "break\n",
    "end\n",
    "end\n",
    "```\n",
    "\n",
    "Notes by EM:\n",
    "- X and Y are, respectively, the input and output data matrices (as on the slide of eq. (4.14)), whose columns are the vectorized character images in HW03.\n",
    "- The number of learning steps, i.e., the number of times we update the weights in the learning process, is n * mx (the number of outer loops times the number of patterns run through the network in each loop).\n",
    "- I changed the error criterion for stopping (||Y-MX|| <=tol) to a more intuitive one (ponder it). Feel free to use either but take care of reporting the one you use in the line ‘Gradient Search Terminated ....’\n",
    "- The number of iterations is obviously incorrectly reported in this code as n*i. Correct it in your copy!\n"
   ]
  },
  {
   "cell_type": "code",
   "execution_count": null,
   "id": "e5423796",
   "metadata": {},
   "outputs": [],
   "source": []
  },
  {
   "cell_type": "code",
   "execution_count": 23,
   "id": "cfd2f0e6",
   "metadata": {},
   "outputs": [],
   "source": [
    "# Code from: https://maviccprp.github.io/a-perceptron-in-just-a-few-lines-of-python-code/\n",
    "# Note the learning rule in this file is different than the one we are using\n",
    "\n",
    "def perceptron_sgd_plot(X, Y):\n",
    "    '''\n",
    "    train perceptron and plot the total loss in each epoch.\n",
    "    \n",
    "    :param X: data samples\n",
    "    :param Y: data labels\n",
    "    :return: weight vector as a numpy array\n",
    "    '''\n",
    "    w = np.zeros(len(X[0]))\n",
    "    eta = 1\n",
    "    n = 30\n",
    "    errors = []\n",
    "\n",
    "    for t in range(n): # Maximum iteration loop\n",
    "        total_error = 0\n",
    "        \n",
    "        for i in range(len(X)): # Smaller vector entries of input vector\n",
    "            for j in range(len(X[i])): # Cycle for each of those smaller vector entries \n",
    "                print(i, \"  \",j)\n",
    "                print(\"x\", X[i][j])\n",
    "#                 print(\"w\", w[j])\n",
    "                print(\"y\", Y[i][j])\n",
    "                if (np.dot(X[i][j], w[j])*Y[i][j]) <= 0:\n",
    "                    total_error += (np.dot(X[i][j], w[j])*Y[i][j])\n",
    "                    w[j] = w[j] + eta*X[i][j]*Y[i][j]\n",
    "        errors.append(total_error*-1)\n",
    "        \n",
    "    plt.plot(errors)\n",
    "    plt.xlabel('Epoch')\n",
    "    plt.ylabel('Total Loss')\n",
    "    \n",
    "    return w"
   ]
  },
  {
   "cell_type": "code",
   "execution_count": 24,
   "id": "ae338044",
   "metadata": {},
   "outputs": [
    {
     "data": {
      "text/plain": [
       "numpy.ndarray"
      ]
     },
     "execution_count": 24,
     "metadata": {},
     "output_type": "execute_result"
    }
   ],
   "source": [
    "type(Es)\n",
    "type(X)"
   ]
  },
  {
   "cell_type": "code",
   "execution_count": 25,
   "id": "30358124",
   "metadata": {},
   "outputs": [
    {
     "ename": "TypeError",
     "evalue": "object of type 'numpy.int64' has no len()",
     "output_type": "error",
     "traceback": [
      "\u001b[0;31m---------------------------------------------------------------------------\u001b[0m",
      "\u001b[0;31mTypeError\u001b[0m                                 Traceback (most recent call last)",
      "\u001b[0;32m<ipython-input-25-c064ac530901>\u001b[0m in \u001b[0;36m<module>\u001b[0;34m\u001b[0m\n\u001b[0;32m----> 1\u001b[0;31m \u001b[0mlen\u001b[0m\u001b[0;34m(\u001b[0m\u001b[0mX\u001b[0m\u001b[0;34m[\u001b[0m\u001b[0;36m0\u001b[0m\u001b[0;34m]\u001b[0m\u001b[0;34m)\u001b[0m\u001b[0;34m\u001b[0m\u001b[0;34m\u001b[0m\u001b[0m\n\u001b[0m",
      "\u001b[0;31mTypeError\u001b[0m: object of type 'numpy.int64' has no len()"
     ]
    }
   ],
   "source": [
    "len(X[0])"
   ]
  },
  {
   "cell_type": "code",
   "execution_count": null,
   "id": "02ec66a8",
   "metadata": {},
   "outputs": [],
   "source": [
    "# EL detalle es que ahora la salida no son solamente -1 y 1, sino que es la misma entrada, tambien un vector."
   ]
  },
  {
   "cell_type": "code",
   "execution_count": null,
   "id": "d8caa1b7",
   "metadata": {},
   "outputs": [],
   "source": [
    "X[1][0]"
   ]
  },
  {
   "cell_type": "code",
   "execution_count": null,
   "id": "c6ff3846",
   "metadata": {},
   "outputs": [],
   "source": [
    "# X = np.array([\n",
    "#     [-2,4,-1],\n",
    "#     [4,1,-1],\n",
    "#     [1, 6, -1],\n",
    "#     [2, 4, -1],\n",
    "#     [6, 2, -1],\n",
    "\n",
    "# ])\n",
    "\n",
    "# y = np.array([-1,-1,1,1,1])\n",
    "\n",
    "X = [Es, Hs, Ts, zeros, Ms] # input matrix\n",
    "y = [Es, Hs, Ts, zeros, Ms] # output matrix\n",
    "\n",
    "w = perceptron_sgd_plot(X,y)\n",
    "print(w)"
   ]
  },
  {
   "cell_type": "code",
   "execution_count": null,
   "id": "cef8e8d0",
   "metadata": {},
   "outputs": [],
   "source": [
    "np.dot([1,2, 4], 2)"
   ]
  },
  {
   "cell_type": "code",
   "execution_count": null,
   "id": "c8bdf89f",
   "metadata": {},
   "outputs": [],
   "source": []
  },
  {
   "cell_type": "code",
   "execution_count": null,
   "id": "208ed62d",
   "metadata": {},
   "outputs": [],
   "source": []
  },
  {
   "cell_type": "code",
   "execution_count": null,
   "id": "2ccdb1b9",
   "metadata": {},
   "outputs": [],
   "source": []
  }
 ],
 "metadata": {
  "kernelspec": {
   "display_name": "Python 3",
   "language": "python",
   "name": "python3"
  },
  "language_info": {
   "codemirror_mode": {
    "name": "ipython",
    "version": 3
   },
   "file_extension": ".py",
   "mimetype": "text/x-python",
   "name": "python",
   "nbconvert_exporter": "python",
   "pygments_lexer": "ipython3",
   "version": "3.8.8"
  }
 },
 "nbformat": 4,
 "nbformat_minor": 5
}
