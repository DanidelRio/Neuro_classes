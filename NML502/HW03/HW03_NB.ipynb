{
 "cells": [
  {
   "cell_type": "code",
   "execution_count": 1,
   "id": "2ac5c1db",
   "metadata": {},
   "outputs": [],
   "source": [
    "import numpy as np\n",
    "import matplotlib.pyplot as plt\n",
    "import re"
   ]
  },
  {
   "cell_type": "code",
   "execution_count": 2,
   "id": "3c4208ea",
   "metadata": {},
   "outputs": [],
   "source": [
    "# With help from: https://python4astronomers.github.io/files/asciifiles.html\n",
    "# a = open('characters.ascii', encoding='ascii', mode='r')\n",
    "# data = a.read()\n",
    "# a.close()"
   ]
  },
  {
   "cell_type": "code",
   "execution_count": 3,
   "id": "10e1336a",
   "metadata": {},
   "outputs": [],
   "source": [
    "# https://realpython.com/read-write-files-python/\n",
    "with open('characters.ascii', 'r') as reader:\n",
    "    # Read & print the entire file\n",
    "    d2 = reader.readlines()"
   ]
  },
  {
   "cell_type": "code",
   "execution_count": 4,
   "id": "4a6757fc",
   "metadata": {
    "scrolled": true
   },
   "outputs": [
    {
     "name": "stdout",
     "output_type": "stream",
     "text": [
      "['  -1', ' 1', ' 1', ' 1', ' 1', '-1', ' 1', '-1', '-1', '-1', '-1', ' 1', ' 1', '-1', '-1', '-1', '-1', ' 1', ' 1', ' 1', ' 1', ' 1', ' 1', ' 1', ' 1', '-1', '-1', '-1', '-1', ' 1', ' 1', '-1', '-1', '-1', '-1', ' 1', ' 1', '-1', '-1', '-1', '-1', ' 1']\n",
      "0\n",
      "['   1', ' 1', ' 1', ' 1', ' 1', '-1', ' 1', '-1', '-1', '-1', '-1', ' 1', ' 1', '-1', '-1', '-1', '-1', ' 1', '  1', ' 1', ' 1', ' 1', ' 1', '-1', ' 1', '-1', '-1', '-1', '-1', ' 1', ' 1', '-1', '-1', '-1', '-1', ' 1', ' 1', ' 1', ' 1', ' 1', ' 1', '-1']\n",
      "1\n",
      "['  -1', ' 1', ' 1', ' 1', ' 1', '-1', ' 1', '-1', '-1', '-1', '-1', ' 1', ' 1', '-1', '-1', '-1', '-1', '-1', ' 1', '-1', '-1', '-1', '-1', '-1', ' 1', '-1', '-1', '-1', '-1', '-1', ' 1', '-1', '-1', '-1', '-1', ' 1', ' -1', ' 1', ' 1', ' 1', ' 1', '-1']\n",
      "2\n",
      "['   1', ' 1', ' 1', ' 1', ' 1', '-1', ' 1', '-1', '-1', '-1', '-1', ' 1', ' 1', '-1', '-1', '-1', '-1', ' 1', ' 1', '-1', '-1', '-1', '-1', ' 1', ' 1', '-1', '-1', '-1', '-1', ' 1', ' 1', '-1', '-1', '-1', '-1', ' 1', ' 1', ' 1', ' 1', ' 1', ' 1', '-1']\n",
      "3\n",
      "['   1', ' 1', ' 1', ' 1', ' 1', '-1', ' 1', '-1', '-1', '-1', '-1', '-1', ' 1', '-1', '-1', '-1', '-1', '-1', '  1', ' 1', ' 1', ' 1', '-1', '-1', ' 1', '-1', '-1', '-1', '-1', '-1', ' 1', '-1', '-1', '-1', '-1', '-1', '   1', ' 1', ' 1', ' 1', ' 1', '-1']\n",
      "4\n",
      "['   1', ' 1', ' 1', ' 1', ' 1', '-1', ' 1', '-1', '-1', '-1', '-1', '-1', ' 1', '-1', '-1', '-1', '-1', '-1', '  1', ' 1', ' 1', ' 1', '-1', '-1', ' 1', '-1', '-1', '-1', '-1', '-1', ' 1', '-1', '-1', '-1', '-1', '-1', ' 1', '-1', '-1', '-1', '-1', '-1']\n",
      "5\n",
      "['  -1', ' 1', ' 1', ' 1', ' 1', '-1', ' 1', '-1', '-1', '-1', '-1', ' 1', ' 1', '-1', '-1', '-1', '-1', '-1', ' 1', '-1', '-1', '-1', '-1', '-1', ' 1', '-1', '-1', '-1', ' 1', ' 1', ' 1', '-1', '-1', '-1', '-1', ' 1', '-1', ' 1', ' 1', ' 1', ' 1', '-1']\n",
      "6\n",
      "['   1', '-1', '-1', '-1', '-1', ' 1', ' 1', '-1', '-1', '-1', '-1', ' 1', ' 1', '-1', '-1', '-1', '-1', ' 1', ' 1', ' 1', ' 1', ' 1', ' 1', ' 1', ' 1', '-1', '-1', '-1', '-1', ' 1', ' 1', '-1', '-1', '-1', '-1', ' 1', '  1', '-1', '-1', '-1', '-1', ' 1']\n",
      "7\n",
      "['  -1', ' 1', ' 1', ' 1', '-1', '-1', '-1', '-1', ' 1', '-1', '-1', '-1', '-1', '-1', ' 1', '-1', '-1', '-1', ' -1', '-1', ' 1', '-1', '-1', '-1', '-1', '-1', ' 1', '-1', '-1', '-1', '-1', '-1', ' 1', '-1', '-1', '-1', '-1', ' 1', ' 1', ' 1', '-1', '-1']\n",
      "8\n",
      "['  -1', ' 1', ' 1', ' 1', ' 1', '-1', '-1', '-1', '-1', ' 1', '-1', '-1', '-1', '-1', '-1', ' 1', '-1', '-1', ' -1', '-1', '-1', ' 1', '-1', '-1', '-1', '-1', '-1', ' 1', '-1', '-1', '-1', ' 1', '-1', ' 1', '-1', '-1', '-1', '-1', ' 1', '-1', '-1', '-1']\n",
      "9\n",
      "['   1', '-1', '-1', '-1', ' 1', '-1', ' 1', '-1', '-1', ' 1', '-1', '-1', ' 1', '-1', ' 1', '-1', '-1', '-1', ' 1', ' 1', '-1', '-1', '-1', '-1', ' 1', '-1', ' 1', '-1', '-1', '-1', ' 1', '-1', '-1', ' 1', '-1', '-1', '  1', '-1', '-1', '-1', ' 1', '-1']\n",
      "10\n",
      "['   1', '-1', '-1', '-1', '-1', '-1', ' 1', '-1', '-1', '-1', '-1', '-1', ' 1', '-1', '-1', '-1', '-1', '-1', ' 1', '-1', '-1', '-1', '-1', '-1', ' 1', '-1', '-1', '-1', '-1', '-1', ' 1', '-1', '-1', '-1', '-1', '-1', ' 1', ' 1', ' 1', ' 1', ' 1', '-1']\n",
      "11\n",
      "['   1', '-1', '-1', '-1', ' 1', '-1', ' 1', ' 1', '-1', ' 1', ' 1', '-1', ' 1', '-1', ' 1', '-1', ' 1', '-1', ' 1', '-1', '-1', '-1', ' 1', '-1', ' 1', '-1', '-1', '-1', ' 1', '-1', ' 1', '-1', '-1', '-1', ' 1', '-1', ' 1', '-1', '-1', '-1', ' 1', '-1']\n",
      "12\n",
      "['   1', '-1', '-1', '-1', '-1', ' 1', ' 1', ' 1', '-1', '-1', '-1', ' 1', ' 1', '-1', ' 1', '-1', '-1', ' 1', ' 1', '-1', '-1', ' 1', '-1', ' 1', ' 1', '-1', '-1', '-1', ' 1', ' 1', ' 1', '-1', '-1', '-1', '-1', ' 1', '  1', '-1', '-1', '-1', '-1', ' 1']\n",
      "13\n",
      "['  -1', ' 1', ' 1', ' 1', ' 1', '-1', ' 1', '-1', '-1', '-1', '-1', ' 1', ' 1', '-1', '-1', '-1', '-1', ' 1', '  1', '-1', '-1', '-1', '-1', ' 1', ' 1', '-1', '-1', '-1', '-1', ' 1', ' 1', '-1', '-1', '-1', '-1', ' 1', ' -1', ' 1', ' 1', ' 1', ' 1', '-1']\n",
      "14\n",
      "['  -1', ' 1', ' 1', ' 1', ' 1', '-1', ' 1', '-1', '-1', '-1', '-1', ' 1', ' 1', '-1', '-1', '-1', '-1', ' 1', '  1', ' 1', ' 1', ' 1', ' 1', '-1', ' 1', '-1', '-1', '-1', '-1', '-1', ' 1', '-1', '-1', '-1', '-1', '-1', ' 1', '-1', '-1', '-1', '-1', '-1']\n",
      "15\n",
      "['  -1', ' 1', ' 1', ' 1', '-1', '-1', ' 1', '-1', '-1', '-1', ' 1', '-1', ' 1', '-1', '-1', '-1', ' 1', '-1', '  1', '-1', '-1', '-1', ' 1', '-1', ' 1', '-1', '-1', '-1', ' 1', '-1', ' 1', '-1', '-1', '-1', ' 1', '-1', ' -1', ' 1', ' 1', ' 1', '-1', ' 1']\n",
      "16\n",
      "['   1', ' 1', ' 1', ' 1', ' 1', '-1', ' 1', '-1', '-1', '-1', '-1', ' 1', ' 1', '-1', '-1', '-1', '-1', ' 1', '  1', ' 1', ' 1', ' 1', ' 1', '-1', ' 1', '-1', '-1', ' 1', '-1', '-1', ' 1', '-1', '-1', '-1', ' 1', '-1', ' 1', '-1', '-1', '-1', '-1', ' 1']\n",
      "17\n",
      "['  -1', ' 1', ' 1', ' 1', ' 1', '-1', ' 1', '-1', '-1', '-1', '-1', ' 1', ' 1', '-1', '-1', '-1', '-1', '-1', '  -1', ' 1', ' 1', ' 1', ' 1', '-1', '-1', '-1', '-1', '-1', '-1', ' 1', '-1', '-1', '-1', '-1', '-1', ' 1', ' -1', ' 1', ' 1', ' 1', ' 1', '-1']\n",
      "18\n",
      "['   1', ' 1', ' 1', ' 1', ' 1', '-1', '-1', '-1', ' 1', '-1', '-1', '-1', '-1', '-1', ' 1', '-1', '-1', '-1', ' -1', '-1', ' 1', '-1', '-1', '-1', '-1', '-1', ' 1', '-1', '-1', '-1', '-1', '-1', ' 1', '-1', '-1', '-1', ' -1', '-1', ' 1', '-1', '-1', '-1', ' ']\n",
      "19\n",
      "['1', '-1', '-1', '-1', ' 1', '-1', ' 1', '-1', '-1', '-1', ' 1', '-1', ' 1', '-1', '-1', '-1', ' 1', '-1', '  1', '-1', '-1', '-1', ' 1', '-1', ' 1', '-1', '-1', '-1', ' 1', '-1', ' 1', '-1', '-1', '-1', ' 1', '-1', '  -1', ' 1', ' 1', ' 1', '-1', '-1']\n",
      "20\n",
      "['   1', '-1', '-1', '-1', ' 1', '-1', ' 1', '-1', '-1', '-1', ' 1', '-1', ' 1', '-1', '-1', '-1', ' 1', '-1', '  1', '-1', '-1', '-1', ' 1', '-1', ' 1', '-1', '-1', '-1', ' 1', '-1', '-1', ' 1', '-1', ' 1', '-1', '-1', '  -1', '-1', ' 1', '-1', '-1', '-1']\n",
      "21\n",
      "['   1', '-1', '-1', '-1', ' 1', '-1', ' 1', '-1', '-1', '-1', ' 1', '-1', ' 1', '-1', '-1', '-1', ' 1', '-1', '  1', '-1', '-1', '-1', ' 1', '-1', ' 1', '-1', '-1', '-1', ' 1', '-1', ' 1', '-1', ' 1', '-1', ' 1', '-1', ' -1', ' 1', '-1', ' 1', '-1', '-1']\n",
      "22\n",
      "['   1', '-1', '-1', '-1', ' 1', '-1', ' 1', '-1', '-1', '-1', ' 1', '-1', '-1', ' 1', '-1', ' 1', '-1', '-1', ' -1', '-1', ' 1', '-1', '-1', '-1', '-1', ' 1', '-1', ' 1', '-1', '-1', ' 1', '-1', '-1', '-1', ' 1', '-1', ' 1', '-1', '-1', '-1', ' 1', '-1']\n",
      "23\n",
      "['  1', '-1', '-1', '-1', ' 1', '-1', ' 1', '-1', '-1', '-1', ' 1', '-1', ' 1', '-1', '-1', '-1', ' 1', '-1', ' -1', ' 1', '-1', ' 1', '-1', '-1', '-1', '-1', ' 1', '-1', '-1', '-1', '-1', '-1', ' 1', '-1', '-1', '-1', ' -1', '-1', ' 1', '-1', '-1', '-1']\n",
      "24\n",
      "['   1', ' 1', ' 1', ' 1', ' 1', '-1', '-1', '-1', '-1', '-1', ' 1', '-1', '-1', '-1', '-1', ' 1', '-1', '-1', '  -1', '-1', ' 1', '-1', '-1', '-1', '-1', ' 1', '-1', '-1', '-1', '-1', ' 1', '-1', '-1', '-1', '-1', '-1', ' 1', ' 1', ' 1', ' 1', ' 1', '-1']\n",
      "25\n",
      "['  -1', ' 1', ' 1', ' 1', '-1', '-1', ' 1', '-1', '-1', '-1', ' 1', '-1', ' 1', '-1', '-1', '-1', ' 1', '-1', ' 1', '-1', '-1', '-1', ' 1', '-1', ' 1', '-1', '-1', '-1', ' 1', '-1', ' 1', '-1', '-1', '-1', ' 1', '-1', ' -1', ' 1', ' 1', ' 1', '-1', '-1']\n",
      "26\n",
      "['  -1', '-1', '-1', ' 1', '-1', '-1', '-1', '-1', ' 1', ' 1', '-1', '-1', '-1', '-1', '-1', ' 1', '-1', '-1', ' -1', '-1', '-1', ' 1', '-1', '-1', '-1', '-1', '-1', ' 1', '-1', '-1', '-1', '-1', '-1', ' 1', '-1', '-1', ' -1', '-1', ' 1', ' 1', ' 1', '-1']\n",
      "27\n",
      "['  -1', '-1', ' 1', ' 1', '-1', '-1', '-1', ' 1', '-1', '-1', ' 1', '-1', '-1', '-1', '-1', '-1', ' 1', '-1', ' -1', '-1', '-1', ' 1', '-1', '-1', '-1', '-1', ' 1', '-1', '-1', '-1', '-1', ' 1', '-1', '-1', '-1', '-1', '  -1', ' 1', ' 1', ' 1', ' 1', '-1']\n",
      "28\n",
      "['  -1', '-1', ' 1', ' 1', '-1', '-1', '-1', ' 1', '-1', '-1', ' 1', '-1', '-1', '-1', '-1', '-1', ' 1', '-1', '  -1', '-1', ' 1', ' 1', '-1', '-1', '-1', '-1', '-1', '-1', ' 1', '-1', '-1', ' 1', '-1', '-1', ' 1', '-1', '  -1', '-1', ' 1', ' 1', '-1', '-1']\n",
      "29\n",
      "['  -1', '-1', '-1', ' 1', '-1', '-1', '-1', '-1', '-1', ' 1', '-1', '-1', '-1', '-1', ' 1', '-1', '-1', '-1', '  -1', ' 1', '-1', '-1', '-1', '-1', ' 1', '-1', '-1', ' 1', '-1', '-1', ' 1', ' 1', ' 1', ' 1', ' 1', '-1', ' -1', '-1', '-1', ' 1', '-1', '-1']\n",
      "30\n",
      "['  -1', ' 1', ' 1', ' 1', ' 1', '-1', '-1', ' 1', '-1', '-1', '-1', '-1', '-1', ' 1', '-1', '-1', '-1', '-1', '  -1', ' 1', ' 1', ' 1', '-1', '-1', '-1', '-1', '-1', '-1', ' 1', '-1', '-1', ' 1', '-1', '-1', ' 1', '-1', '  -1', '-1', ' 1', ' 1', '-1', '-1']\n",
      "31\n",
      "['  -1', '-1', ' 1', ' 1', '-1', '-1', '-1', ' 1', '-1', '-1', ' 1', '-1', '-1', ' 1', '-1', '-1', '-1', '-1', '  -1', ' 1', ' 1', ' 1', '-1', '-1', '-1', ' 1', '-1', '-1', ' 1', '-1', '-1', ' 1', '-1', '-1', ' 1', '-1', '  -1', '-1', ' 1', ' 1', '-1', '-1']\n",
      "32\n",
      "['  -1', ' 1', ' 1', ' 1', ' 1', '-1', '-1', '-1', '-1', '-1', ' 1', '-1', '-1', '-1', '-1', '-1', ' 1', '-1', '  -1', '-1', '-1', ' 1', '-1', '-1', '-1', '-1', ' 1', '-1', '-1', '-1', '-1', ' 1', '-1', '-1', '-1', '-1', '  -1', ' 1', '-1', '-1', '-1', '-1']\n",
      "33\n",
      "['  -1', ' 1', ' 1', ' 1', '-1', '-1', ' 1', '-1', '-1', '-1', ' 1', '-1', ' 1', '-1', '-1', '-1', ' 1', '-1', '  -1', ' 1', ' 1', ' 1', '-1', '-1', ' 1', '-1', '-1', '-1', ' 1', '-1', ' 1', '-1', '-1', '-1', ' 1', '-1', '  -1', ' 1', ' 1', ' 1', '-1', '-1']\n",
      "34\n",
      "['  -1', '-1', ' 1', ' 1', '-1', '-1', '-1', ' 1', '-1', '-1', ' 1', '-1', '-1', ' 1', '-1', '-1', ' 1', '-1', '  -1', '-1', ' 1', ' 1', ' 1', '-1', '-1', '-1', '-1', '-1', ' 1', '-1', '-1', ' 1', '-1', '-1', ' 1', '-1', '  -1', '-1', ' 1', ' 1', '-1', '-1']\n",
      "35\n",
      "['  -1', '-1', ' 1', '-1', '-1', '-1', '-1', '-1', ' 1', '-1', '-1', '-1', '-1', '-1', ' 1', '-1', '-1', '-1', '   1', ' 1', ' 1', ' 1', ' 1', '-1', '-1', '-1', ' 1', '-1', '-1', '-1', '-1', '-1', ' 1', '-1', '-1', '-1', '  -1', '-1', ' 1', '-1', '-1', '-1']\n",
      "36\n",
      "['  -1', '-1', '-1', '-1', '-1', '-1', '-1', '-1', '-1', '-1', '-1', '-1', '-1', '-1', '-1', '-1', '-1', '-1', '   1', ' 1', ' 1', ' 1', ' 1', '-1', '-1', '-1', '-1', '-1', '-1', '-1', '-1', '-1', '-1', '-1', '-1', '-1', '  -1', '-1', '-1', '-1', '-1', '-1']\n",
      "37\n"
     ]
    }
   ],
   "source": [
    "vec = []\n",
    "\n",
    "for i in range(len(d2)):\n",
    "    # Convert string to array: https://www.educba.com/python-string-to-array/\n",
    "    line = d2[i]\n",
    "    line = line.replace(\".\\n\", \"\") #https://stackoverflow.com/questions/3939361/remove-specific-characters-from-a-string-in-python\n",
    "    line = line.replace(\"\\n\", \"\")\n",
    "    splitted_line = line.split(\". \")\n",
    "    print(splitted_line)\n",
    "    print(i)\n",
    "    \n",
    "    if i!= 19:\n",
    "        int_split_line = [int(splitted_line[k]) for k in range(len(splitted_line))]\n",
    "    else: # Detail with line 19 of file\n",
    "        int_split_line = [int(splitted_line[i]) for i in range(len(splitted_line)-1)]\n",
    "        \n",
    "    vec.append(int_split_line)"
   ]
  },
  {
   "cell_type": "code",
   "execution_count": 5,
   "id": "a23cb95e",
   "metadata": {},
   "outputs": [
    {
     "name": "stdout",
     "output_type": "stream",
     "text": [
      "-1\n",
      "38\n",
      "42\n"
     ]
    },
    {
     "data": {
      "text/plain": [
       "1596"
      ]
     },
     "execution_count": 5,
     "metadata": {},
     "output_type": "execute_result"
    }
   ],
   "source": [
    "lengths = [len(vec[i]) for i in range(len(vec))]\n",
    "print(vec[0][0])\n",
    "print(len(vec))\n",
    "print(len(vec[0]))\n",
    "38*42 #images of 1596 pixels I do not think so."
   ]
  },
  {
   "cell_type": "markdown",
   "id": "ec00aa32",
   "metadata": {},
   "source": [
    "Data from ``characters.ascii`` is in ``vec`` in the correct format :)"
   ]
  },
  {
   "cell_type": "code",
   "execution_count": null,
   "id": "250dae5a",
   "metadata": {},
   "outputs": [],
   "source": []
  },
  {
   "cell_type": "code",
   "execution_count": null,
   "id": "62ae8b6f",
   "metadata": {},
   "outputs": [],
   "source": []
  },
  {
   "cell_type": "code",
   "execution_count": 6,
   "id": "bfdfc04a",
   "metadata": {},
   "outputs": [],
   "source": [
    "with open('EHT0M.ascii', 'r') as reader:\n",
    "    # Read & print the entire file\n",
    "    d2 = reader.readlines()"
   ]
  },
  {
   "cell_type": "markdown",
   "id": "c463fd03",
   "metadata": {},
   "source": [
    "# Cuando te ahogas en un vaso con agua vs. cuando solo dejas que las cosas fluyan :)"
   ]
  },
  {
   "cell_type": "code",
   "execution_count": 7,
   "id": "9ff87ae9",
   "metadata": {},
   "outputs": [],
   "source": [
    "asa = []\n",
    "for i in range(len(d2)):\n",
    "    asa.append([int(d2[i][k]) for k in range(len(d2[i])) if d2[i][k] == \"0\" or d2[i][k] == \"1\"])\n",
    "    \n",
    "aux = []\n",
    "for k in range(len(asa)):\n",
    "    if len(asa[k]) == 12:\n",
    "        aux.append(asa[k])\n",
    "\n",
    "Es = np.concatenate(aux[:12])\n",
    "Hs = np.concatenate(aux[12:24])     \n",
    "Ts = np.concatenate(aux[24:36])     \n",
    "zeros = np.concatenate(aux[36:48])        \n",
    "Ms = np.concatenate(aux[48:60])  \n",
    "\n",
    "# E H T zero M"
   ]
  },
  {
   "cell_type": "code",
   "execution_count": 8,
   "id": "cbb8df97",
   "metadata": {},
   "outputs": [
    {
     "data": {
      "text/plain": [
       "array([1, 1, 1, 0, 0, 0, 0, 0, 1, 1, 1, 0, 1, 1, 1, 1, 0, 0, 0, 1, 1, 1,\n",
       "       1, 0, 1, 1, 1, 1, 1, 0, 1, 1, 1, 1, 1, 0, 1, 1, 0, 1, 1, 1, 1, 1,\n",
       "       0, 1, 1, 0, 1, 1, 0, 0, 1, 1, 1, 0, 0, 1, 1, 0, 1, 1, 0, 0, 0, 1,\n",
       "       0, 0, 0, 1, 1, 0, 1, 1, 0, 0, 0, 0, 0, 0, 0, 1, 1, 0, 1, 1, 0, 0,\n",
       "       0, 0, 0, 0, 0, 1, 1, 0, 1, 1, 0, 0, 0, 0, 0, 0, 0, 1, 1, 0, 1, 1,\n",
       "       0, 0, 0, 0, 0, 0, 0, 1, 1, 0, 1, 1, 0, 0, 0, 0, 0, 0, 0, 1, 1, 0,\n",
       "       1, 1, 0, 0, 0, 0, 0, 0, 0, 1, 1, 0])"
      ]
     },
     "execution_count": 8,
     "metadata": {},
     "output_type": "execute_result"
    }
   ],
   "source": [
    "Ms"
   ]
  },
  {
   "cell_type": "code",
   "execution_count": 9,
   "id": "0c804d84",
   "metadata": {},
   "outputs": [],
   "source": [
    "def change_zeros(values):\n",
    "    for i in range(len(values)):\n",
    "        if values[i] == 0:\n",
    "            values[i] = -1\n",
    "    return None"
   ]
  },
  {
   "cell_type": "code",
   "execution_count": 10,
   "id": "adfadaa4",
   "metadata": {},
   "outputs": [
    {
     "name": "stdout",
     "output_type": "stream",
     "text": [
      "[ 1  1  1 -1 -1 -1 -1 -1  1  1  1 -1  1  1  1  1 -1 -1 -1  1  1  1  1 -1\n",
      "  1  1  1  1  1 -1  1  1  1  1  1 -1  1  1 -1  1  1  1  1  1 -1  1  1 -1\n",
      "  1  1 -1 -1  1  1  1 -1 -1  1  1 -1  1  1 -1 -1 -1  1 -1 -1 -1  1  1 -1\n",
      "  1  1 -1 -1 -1 -1 -1 -1 -1  1  1 -1  1  1 -1 -1 -1 -1 -1 -1 -1  1  1 -1\n",
      "  1  1 -1 -1 -1 -1 -1 -1 -1  1  1 -1  1  1 -1 -1 -1 -1 -1 -1 -1  1  1 -1\n",
      "  1  1 -1 -1 -1 -1 -1 -1 -1  1  1 -1  1  1 -1 -1 -1 -1 -1 -1 -1  1  1 -1]\n"
     ]
    }
   ],
   "source": [
    "change_zeros(Es)\n",
    "change_zeros(Hs)\n",
    "change_zeros(Ts)\n",
    "change_zeros(zeros)\n",
    "change_zeros(Ms)\n",
    "print(Ms)"
   ]
  },
  {
   "cell_type": "markdown",
   "id": "bf49ca1a",
   "metadata": {},
   "source": [
    "5 training patterns: Es, Hs, Ts, zeros, Ms.\n",
    "Use them as input and desired output of the network."
   ]
  },
  {
   "cell_type": "code",
   "execution_count": 21,
   "id": "f8b47b20",
   "metadata": {},
   "outputs": [
    {
     "ename": "SyntaxError",
     "evalue": "invalid syntax (1465733497.py, line 1)",
     "output_type": "error",
     "traceback": [
      "\u001b[0;36m  File \u001b[0;32m\"/tmp/ipykernel_12612/1465733497.py\"\u001b[0;36m, line \u001b[0;32m1\u001b[0m\n\u001b[0;31m    matrix = [[np.zeros(2)] np.zeros(3)]\u001b[0m\n\u001b[0m                            ^\u001b[0m\n\u001b[0;31mSyntaxError\u001b[0m\u001b[0;31m:\u001b[0m invalid syntax\n"
     ]
    }
   ],
   "source": [
    "matrix = [[np.zeros(2)] for j in range(3)]\n"
   ]
  },
  {
   "cell_type": "code",
   "execution_count": null,
   "id": "ce35dbe5",
   "metadata": {},
   "outputs": [],
   "source": [
    "def errcorr(X, Y, mu, n, tol):\n",
    "    nx, my = len(X), len(X[0])\n",
    "    ny, my = len(Y), len(Y[0])\n",
    "    # initialize the memory matrix\n",
    "    M = [[np.zeros(ny)] for j in range(nx)]\n",
    "    \n",
    "    for k in range(n): #n is the maximum number of outer loop iterations\n",
    "        # randomize the ordering of the vector in both X & Y\n",
    "        \n",
    "# Change into python\n",
    "        RN=randperm(mx) #returns a row vector containing a random permutation of the integers from 1 to n without repeating elements.\n",
    "        X=X(:,[RN]);\n",
    "        Y=Y(:,[RN]);\n",
    "        for i in range(mx):\n",
    "            M=M+mu*(Y(:,i)-M*X(:,i))*X(:,i)';\n",
    "            \n",
    "        #if norm(Y-M*X)<=tol\n",
    "        if max(max(abs(Y-M*X))) <= tol # changed by EM\n",
    "            print('Gradient Search Terminated ===>>> ||Y-M*X||<=tol')\n",
    "            print('Number of Iterations = ',n*i)\n",
    "            break"
   ]
  },
  {
   "cell_type": "markdown",
   "id": "33fbf4cc",
   "metadata": {},
   "source": [
    "Code for L4-AssociativeMemory\n",
    "The MATLAB function to implement the error-correction algorithm\n",
    "for computing the correlation matrix memory is given below.\n",
    "Credit for code: Ham and Kostanic, Principles of Neurocomputing for Science and Engineering,\n",
    "McGraw Hill, 2001\n",
    "\n",
    "```\n",
    "function M=errcorr(X,Y,mu,n,tol)\n",
    "[nx,mx]=size(X);\n",
    "[ny,my]=size(Y);\n",
    "%initialize the memory matrix\n",
    "M=zeros(ny,nx);\n",
    "for k=1:n %n is the maximum number of outer loop iterations\n",
    "% randomize the ordering of the vector in both X & Y\n",
    "RN=randperm(mx);\n",
    "X=X(:,[RN]);\n",
    "Y=Y(:,[RN]);\n",
    "for i=1:mx\n",
    "M=M+mu*(Y(:,i)-M*X(:,i))*X(:,i)';\n",
    "end\n",
    "%if norm(Y-M*X)<=tol\n",
    "if max(max(abs(Y-M*X))) <= tol\n",
    " % changed by EM\n",
    "disp('Gradient Search Terminated ===>>> ||Y-\n",
    "M*X||<=tol')\n",
    "disp('Number of Iterations = '), disp(n*i)\n",
    "break\n",
    "end\n",
    "end\n",
    "```\n",
    "\n",
    "Notes by EM:\n",
    "- X and Y are, respectively, the input and output data matrices (as on the slide of eq. (4.14)), whose columns are the vectorized character images in HW03.\n",
    "- The number of learning steps, i.e., the number of times we update the weights in the learning process, is n * mx (the number of outer loops times the number of patterns run through the network in each loop).\n",
    "- I changed the error criterion for stopping (||Y-MX|| <=tol) to a more intuitive one (ponder it). Feel free to use either but take care of reporting the one you use in the line ‘Gradient Search Terminated ....’\n",
    "- The number of iterations is obviously incorrectly reported in this code as n*i. Correct it in your copy!\n"
   ]
  },
  {
   "cell_type": "code",
   "execution_count": null,
   "id": "548e4416",
   "metadata": {},
   "outputs": [],
   "source": []
  },
  {
   "cell_type": "code",
   "execution_count": null,
   "id": "80a25aff",
   "metadata": {},
   "outputs": [],
   "source": []
  },
  {
   "cell_type": "code",
   "execution_count": null,
   "id": "2ccdb1b9",
   "metadata": {},
   "outputs": [],
   "source": []
  }
 ],
 "metadata": {
  "kernelspec": {
   "display_name": "Python 3 (ipykernel)",
   "language": "python",
   "name": "python3"
  },
  "language_info": {
   "codemirror_mode": {
    "name": "ipython",
    "version": 3
   },
   "file_extension": ".py",
   "mimetype": "text/x-python",
   "name": "python",
   "nbconvert_exporter": "python",
   "pygments_lexer": "ipython3",
   "version": "3.8.8"
  }
 },
 "nbformat": 4,
 "nbformat_minor": 5
}
