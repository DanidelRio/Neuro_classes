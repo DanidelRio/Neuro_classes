{
 "cells": [
  {
   "cell_type": "code",
   "execution_count": 2,
   "id": "e63a698a",
   "metadata": {},
   "outputs": [],
   "source": [
    "import numpy as np\n",
    "import matplotlib.pyplot as plt\n",
    "from sklearn.decomposition import PCA\n",
    "# import re"
   ]
  },
  {
   "cell_type": "markdown",
   "id": "63ef83cb",
   "metadata": {},
   "source": [
    "# Import the iris-train.txt data\n",
    "Irist Training Set\n",
    "2 lines per data record. Line 1 contains the training input (the feature descriptors,\n",
    "sepal length, sepal width, petal length, and petal width of the plants), \n",
    "line 2 contains the desired output. The output (3 classes of the iris species) \n",
    "are encoded as (1 0 0) for class 1 (Setosa), (0 1 0 ) for class 2 (Versacolor) \n",
    "and (0 0 1) for class 3 (Virginica). The & at the beginning of the second \n",
    "line is a marker (should be skipped when reading in the data). \n",
    " Sep_L  Sep_W  Pet_L  Pet_W Setosa Versacolor Virginica"
   ]
  },
  {
   "cell_type": "markdown",
   "id": "f1f1ae7d",
   "metadata": {},
   "source": [
    "# CHECK: https://stackoverflow.com/questions/13224362/principal-component-analysis-pca-in-python"
   ]
  },
  {
   "cell_type": "code",
   "execution_count": 3,
   "id": "e82c5ccc",
   "metadata": {},
   "outputs": [],
   "source": [
    "with open('iris-train.txt', 'r') as reader:\n",
    "    # Read & print the entire file\n",
    "    d2 = reader.readlines()"
   ]
  },
  {
   "cell_type": "code",
   "execution_count": 97,
   "id": "c1c6ed20",
   "metadata": {
    "scrolled": true
   },
   "outputs": [
    {
     "data": {
      "text/plain": [
       "[[0.224, 0.624, 0.067, 0.043],\n",
       " [0.749, 0.502, 0.627, 0.541],\n",
       " [0.557, 0.541, 0.847, 1.0],\n",
       " [0.11, 0.502, 0.051, 0.043],\n",
       " [0.722, 0.459, 0.663, 0.584],\n",
       " [0.776, 0.416, 0.831, 0.831],\n",
       " [0.196, 0.667, 0.067, 0.043],\n",
       " [0.612, 0.333, 0.612, 0.584],\n",
       " [0.612, 0.416, 0.812, 0.875],\n",
       " [0.055, 0.584, 0.067, 0.082],\n",
       " [0.557, 0.541, 0.627, 0.624],\n",
       " [0.165, 0.208, 0.592, 0.667],\n",
       " [0.027, 0.376, 0.067, 0.043],\n",
       " [0.639, 0.376, 0.612, 0.498],\n",
       " [0.667, 0.208, 0.812, 0.71],\n",
       " [0.306, 0.71, 0.086, 0.043],\n",
       " [0.196, 0.0, 0.424, 0.376],\n",
       " [0.612, 0.502, 0.694, 0.792],\n",
       " [0.137, 0.416, 0.067, 0.0],\n",
       " [0.471, 0.082, 0.51, 0.376],\n",
       " [0.694, 0.416, 0.761, 0.831],\n",
       " [0.416, 0.831, 0.035, 0.043],\n",
       " [0.361, 0.376, 0.439, 0.498],\n",
       " [0.416, 0.333, 0.694, 0.957],\n",
       " [0.306, 0.792, 0.051, 0.125],\n",
       " [0.361, 0.416, 0.592, 0.584],\n",
       " [0.612, 0.416, 0.761, 0.71],\n",
       " [0.388, 0.749, 0.118, 0.082],\n",
       " [0.529, 0.082, 0.592, 0.584],\n",
       " [0.945, 0.251, 1.0, 0.918],\n",
       " [0.306, 0.584, 0.118, 0.043],\n",
       " [0.443, 0.502, 0.643, 0.459],\n",
       " [0.722, 0.502, 0.796, 0.918],\n",
       " [0.082, 0.667, 0.0, 0.043],\n",
       " [0.557, 0.208, 0.663, 0.584],\n",
       " [0.945, 0.333, 0.965, 0.792],\n",
       " [0.137, 0.584, 0.153, 0.043],\n",
       " [0.584, 0.376, 0.561, 0.498],\n",
       " [0.667, 0.541, 0.796, 0.831],\n",
       " [0.196, 0.584, 0.102, 0.125],\n",
       " [0.694, 0.333, 0.643, 0.541],\n",
       " [0.529, 0.333, 0.643, 0.71],\n",
       " [0.251, 0.584, 0.067, 0.043],\n",
       " [0.471, 0.376, 0.592, 0.584],\n",
       " [0.584, 0.333, 0.78, 0.831],\n",
       " [0.137, 0.459, 0.102, 0.043],\n",
       " [0.333, 0.169, 0.475, 0.416],\n",
       " [0.863, 0.333, 0.863, 0.749],\n",
       " [0.251, 0.875, 0.086, 0.0],\n",
       " [0.416, 0.29, 0.49, 0.459],\n",
       " [0.584, 0.333, 0.78, 0.875],\n",
       " [0.165, 0.459, 0.086, 0.043],\n",
       " [0.306, 0.416, 0.592, 0.584],\n",
       " [0.498, 0.251, 0.78, 0.541],\n",
       " [0.333, 0.624, 0.051, 0.043],\n",
       " [0.667, 0.459, 0.627, 0.584],\n",
       " [0.557, 0.584, 0.78, 0.957],\n",
       " [0.027, 0.416, 0.051, 0.043],\n",
       " [0.361, 0.416, 0.525, 0.498],\n",
       " [0.471, 0.416, 0.643, 0.71],\n",
       " [0.196, 0.624, 0.051, 0.082],\n",
       " [0.333, 0.251, 0.576, 0.459],\n",
       " [0.667, 0.459, 0.78, 0.957],\n",
       " [0.027, 0.502, 0.051, 0.043],\n",
       " [0.416, 0.251, 0.51, 0.459],\n",
       " [0.416, 0.29, 0.694, 0.749],\n",
       " [0.224, 0.749, 0.153, 0.125],\n",
       " [0.361, 0.29, 0.541, 0.498],\n",
       " [0.667, 0.541, 0.796, 1.0],\n",
       " [0.224, 0.749, 0.102, 0.043],\n",
       " [0.388, 0.376, 0.541, 0.498],\n",
       " [0.557, 0.208, 0.678, 0.749],\n",
       " [0.278, 0.71, 0.086, 0.043],\n",
       " [0.224, 0.208, 0.337, 0.416],\n",
       " [0.529, 0.584, 0.745, 0.918]]"
      ]
     },
     "execution_count": 97,
     "metadata": {},
     "output_type": "execute_result"
    }
   ],
   "source": [
    "num_list = []\n",
    "input_data = []\n",
    "desired_output = []\n",
    "i = 0\n",
    "\n",
    "with open('iris-train.txt', 'r') as fh:\n",
    "    for line in fh:\n",
    "        if i>7:\n",
    "            element = line.replace('\\n','') # Removes line spaces\n",
    "            with_spaces = element.split('  ') # Splits the data\n",
    "            # Removes blank entries\n",
    "            no_spaces = [float(entry) for entry in with_spaces if entry != '' and entry != \"&\"]\n",
    "                \n",
    "            if i%2 == 0 : # An even line, then it is a train vector\n",
    "                input_data.append(no_spaces)\n",
    "                \n",
    "            else: # An odd line, then it is the corresponding target vector\n",
    "                desired_output.append(no_spaces)\n",
    "                \n",
    "        i += 1\n",
    "        \n",
    "input_data\n",
    "# desired_output"
   ]
  },
  {
   "cell_type": "code",
   "execution_count": 66,
   "id": "77533961",
   "metadata": {},
   "outputs": [
    {
     "name": "stdout",
     "output_type": "stream",
     "text": [
      "-5.440092820663267e-17\n",
      "-8.104628079763643e-17\n",
      "4.884981308350689e-17\n",
      "8.881784197001253e-17\n"
     ]
    }
   ],
   "source": [
    "sepal_length = [input_data[i][0] for i in range(len(input_data))]\n",
    "sepal_width  = [input_data[i][1] for i in range(len(input_data))]\n",
    "petal_length = [input_data[i][2] for i in range(len(input_data))]\n",
    "petal_width  = [input_data[i][3] for i in range(len(input_data))]\n",
    "\n",
    "# Preprocessing for having a zero mean in each column\n",
    "sepal_length = sepal_length - np.mean(sepal_length)\n",
    "sepal_width = sepal_width - np.mean(sepal_width)\n",
    "petal_length = petal_length - np.mean(petal_length)\n",
    "petal_width = petal_width - np.mean(petal_width)\n",
    "\n",
    "# 10^{-17} is an error small enough which can be considered to be zero.\n",
    "print(np.mean(sepal_length))\n",
    "print(np.mean(sepal_width))\n",
    "print(np.mean(petal_length))\n",
    "print(np.mean(petal_width))"
   ]
  },
  {
   "cell_type": "code",
   "execution_count": 99,
   "id": "366f0262",
   "metadata": {},
   "outputs": [
    {
     "data": {
      "text/plain": [
       "[[-0.2034933333333334,\n",
       "  0.18057333333333325,\n",
       "  -0.4032933333333333,\n",
       "  -0.4198799999999999],\n",
       " [0.3215066666666666,\n",
       "  0.058573333333333255,\n",
       "  0.15670666666666672,\n",
       "  0.07812000000000013],\n",
       " [0.12950666666666666, 0.09757333333333329, 0.3767066666666667, 0.53712],\n",
       " [-0.3174933333333334,\n",
       "  0.058573333333333255,\n",
       "  -0.4192933333333333,\n",
       "  -0.4198799999999999],\n",
       " [0.2945066666666666,\n",
       "  0.015573333333333272,\n",
       "  0.19270666666666675,\n",
       "  0.12112000000000006],\n",
       " [0.34850666666666663,\n",
       "  -0.027426666666666766,\n",
       "  0.3607066666666667,\n",
       "  0.36812000000000006],\n",
       " [-0.23149333333333338,\n",
       "  0.2235733333333333,\n",
       "  -0.4032933333333333,\n",
       "  -0.4198799999999999],\n",
       " [0.1845066666666666,\n",
       "  -0.11042666666666673,\n",
       "  0.1417066666666667,\n",
       "  0.12112000000000006],\n",
       " [0.1845066666666666,\n",
       "  -0.027426666666666766,\n",
       "  0.34170666666666677,\n",
       "  0.4121200000000001],\n",
       " [-0.3724933333333334,\n",
       "  0.14057333333333322,\n",
       "  -0.4032933333333333,\n",
       "  -0.3808799999999999],\n",
       " [0.12950666666666666,\n",
       "  0.09757333333333329,\n",
       "  0.15670666666666672,\n",
       "  0.1611200000000001],\n",
       " [-0.26249333333333336,\n",
       "  -0.23542666666666676,\n",
       "  0.12170666666666669,\n",
       "  0.20412000000000013],\n",
       " [-0.40049333333333337,\n",
       "  -0.06742666666666675,\n",
       "  -0.4032933333333333,\n",
       "  -0.4198799999999999],\n",
       " [0.21150666666666662,\n",
       "  -0.06742666666666675,\n",
       "  0.1417066666666667,\n",
       "  0.035120000000000096],\n",
       " [0.23950666666666665,\n",
       "  -0.23542666666666676,\n",
       "  0.34170666666666677,\n",
       "  0.24712000000000006],\n",
       " [-0.1214933333333334,\n",
       "  0.2665733333333332,\n",
       "  -0.38429333333333326,\n",
       "  -0.4198799999999999],\n",
       " [-0.23149333333333338,\n",
       "  -0.44342666666666675,\n",
       "  -0.0462933333333333,\n",
       "  -0.0868799999999999],\n",
       " [0.1845066666666666,\n",
       "  0.058573333333333255,\n",
       "  0.22370666666666666,\n",
       "  0.32912000000000013],\n",
       " [-0.2904933333333334,\n",
       "  -0.027426666666666766,\n",
       "  -0.4032933333333333,\n",
       "  -0.4628799999999999],\n",
       " [0.04350666666666658,\n",
       "  -0.36142666666666673,\n",
       "  0.03970666666666672,\n",
       "  -0.0868799999999999],\n",
       " [0.26650666666666656,\n",
       "  -0.027426666666666766,\n",
       "  0.2907066666666667,\n",
       "  0.36812000000000006],\n",
       " [-0.011493333333333411,\n",
       "  0.3875733333333332,\n",
       "  -0.4352933333333333,\n",
       "  -0.4198799999999999],\n",
       " [-0.0664933333333334,\n",
       "  -0.06742666666666675,\n",
       "  -0.031293333333333284,\n",
       "  0.035120000000000096],\n",
       " [-0.011493333333333411,\n",
       "  -0.11042666666666673,\n",
       "  0.22370666666666666,\n",
       "  0.49412000000000006],\n",
       " [-0.1214933333333334,\n",
       "  0.3485733333333333,\n",
       "  -0.4192933333333333,\n",
       "  -0.3378799999999999],\n",
       " [-0.0664933333333334,\n",
       "  -0.027426666666666766,\n",
       "  0.12170666666666669,\n",
       "  0.12112000000000006],\n",
       " [0.1845066666666666,\n",
       "  -0.027426666666666766,\n",
       "  0.2907066666666667,\n",
       "  0.24712000000000006],\n",
       " [-0.03949333333333338,\n",
       "  0.30557333333333325,\n",
       "  -0.3522933333333333,\n",
       "  -0.3808799999999999],\n",
       " [0.10150666666666663,\n",
       "  -0.36142666666666673,\n",
       "  0.12170666666666669,\n",
       "  0.12112000000000006],\n",
       " [0.5175066666666666,\n",
       "  -0.19242666666666675,\n",
       "  0.5297066666666668,\n",
       "  0.45512000000000014],\n",
       " [-0.1214933333333334,\n",
       "  0.14057333333333322,\n",
       "  -0.3522933333333333,\n",
       "  -0.4198799999999999],\n",
       " [0.015506666666666613,\n",
       "  0.058573333333333255,\n",
       "  0.17270666666666673,\n",
       "  -0.0038799999999998835],\n",
       " [0.2945066666666666,\n",
       "  0.058573333333333255,\n",
       "  0.32570666666666676,\n",
       "  0.45512000000000014],\n",
       " [-0.3454933333333334,\n",
       "  0.2235733333333333,\n",
       "  -0.4702933333333333,\n",
       "  -0.4198799999999999],\n",
       " [0.12950666666666666,\n",
       "  -0.23542666666666676,\n",
       "  0.19270666666666675,\n",
       "  0.12112000000000006],\n",
       " [0.5175066666666666,\n",
       "  -0.11042666666666673,\n",
       "  0.4947066666666667,\n",
       "  0.32912000000000013],\n",
       " [-0.2904933333333334,\n",
       "  0.14057333333333322,\n",
       "  -0.3172933333333333,\n",
       "  -0.4198799999999999],\n",
       " [0.15650666666666657,\n",
       "  -0.06742666666666675,\n",
       "  0.09070666666666677,\n",
       "  0.035120000000000096],\n",
       " [0.23950666666666665,\n",
       "  0.09757333333333329,\n",
       "  0.32570666666666676,\n",
       "  0.36812000000000006],\n",
       " [-0.23149333333333338,\n",
       "  0.14057333333333322,\n",
       "  -0.3682933333333333,\n",
       "  -0.3378799999999999],\n",
       " [0.26650666666666656,\n",
       "  -0.11042666666666673,\n",
       "  0.17270666666666673,\n",
       "  0.07812000000000013],\n",
       " [0.10150666666666663,\n",
       "  -0.11042666666666673,\n",
       "  0.17270666666666673,\n",
       "  0.24712000000000006],\n",
       " [-0.1764933333333334,\n",
       "  0.14057333333333322,\n",
       "  -0.4032933333333333,\n",
       "  -0.4198799999999999],\n",
       " [0.04350666666666658,\n",
       "  -0.06742666666666675,\n",
       "  0.12170666666666669,\n",
       "  0.12112000000000006],\n",
       " [0.15650666666666657,\n",
       "  -0.11042666666666673,\n",
       "  0.30970666666666674,\n",
       "  0.36812000000000006],\n",
       " [-0.2904933333333334,\n",
       "  0.015573333333333272,\n",
       "  -0.3682933333333333,\n",
       "  -0.4198799999999999],\n",
       " [-0.09449333333333337,\n",
       "  -0.2744266666666667,\n",
       "  0.004706666666666692,\n",
       "  -0.04687999999999992],\n",
       " [0.4355066666666666,\n",
       "  -0.11042666666666673,\n",
       "  0.3927066666666667,\n",
       "  0.2861200000000001],\n",
       " [-0.1764933333333334,\n",
       "  0.43157333333333325,\n",
       "  -0.38429333333333326,\n",
       "  -0.4628799999999999],\n",
       " [-0.011493333333333411,\n",
       "  -0.15342666666666677,\n",
       "  0.019706666666666706,\n",
       "  -0.0038799999999998835],\n",
       " [0.15650666666666657,\n",
       "  -0.11042666666666673,\n",
       "  0.30970666666666674,\n",
       "  0.4121200000000001],\n",
       " [-0.26249333333333336,\n",
       "  0.015573333333333272,\n",
       "  -0.38429333333333326,\n",
       "  -0.4198799999999999],\n",
       " [-0.1214933333333334,\n",
       "  -0.027426666666666766,\n",
       "  0.12170666666666669,\n",
       "  0.12112000000000006],\n",
       " [0.0705066666666666,\n",
       "  -0.19242666666666675,\n",
       "  0.30970666666666674,\n",
       "  0.07812000000000013],\n",
       " [-0.09449333333333337,\n",
       "  0.18057333333333325,\n",
       "  -0.4192933333333333,\n",
       "  -0.4198799999999999],\n",
       " [0.23950666666666665,\n",
       "  0.015573333333333272,\n",
       "  0.15670666666666672,\n",
       "  0.12112000000000006],\n",
       " [0.12950666666666666,\n",
       "  0.14057333333333322,\n",
       "  0.30970666666666674,\n",
       "  0.49412000000000006],\n",
       " [-0.40049333333333337,\n",
       "  -0.027426666666666766,\n",
       "  -0.4192933333333333,\n",
       "  -0.4198799999999999],\n",
       " [-0.0664933333333334,\n",
       "  -0.027426666666666766,\n",
       "  0.05470666666666674,\n",
       "  0.035120000000000096],\n",
       " [0.04350666666666658,\n",
       "  -0.027426666666666766,\n",
       "  0.17270666666666673,\n",
       "  0.24712000000000006],\n",
       " [-0.23149333333333338,\n",
       "  0.18057333333333325,\n",
       "  -0.4192933333333333,\n",
       "  -0.3808799999999999],\n",
       " [-0.09449333333333337,\n",
       "  -0.19242666666666675,\n",
       "  0.10570666666666667,\n",
       "  -0.0038799999999998835],\n",
       " [0.23950666666666665,\n",
       "  0.015573333333333272,\n",
       "  0.30970666666666674,\n",
       "  0.49412000000000006],\n",
       " [-0.40049333333333337,\n",
       "  0.058573333333333255,\n",
       "  -0.4192933333333333,\n",
       "  -0.4198799999999999],\n",
       " [-0.011493333333333411,\n",
       "  -0.19242666666666675,\n",
       "  0.03970666666666672,\n",
       "  -0.0038799999999998835],\n",
       " [-0.011493333333333411,\n",
       "  -0.15342666666666677,\n",
       "  0.22370666666666666,\n",
       "  0.2861200000000001],\n",
       " [-0.2034933333333334,\n",
       "  0.30557333333333325,\n",
       "  -0.3172933333333333,\n",
       "  -0.3378799999999999],\n",
       " [-0.0664933333333334,\n",
       "  -0.15342666666666677,\n",
       "  0.07070666666666675,\n",
       "  0.035120000000000096],\n",
       " [0.23950666666666665, 0.09757333333333329, 0.32570666666666676, 0.53712],\n",
       " [-0.2034933333333334,\n",
       "  0.30557333333333325,\n",
       "  -0.3682933333333333,\n",
       "  -0.4198799999999999],\n",
       " [-0.03949333333333338,\n",
       "  -0.06742666666666675,\n",
       "  0.07070666666666675,\n",
       "  0.035120000000000096],\n",
       " [0.12950666666666666,\n",
       "  -0.23542666666666676,\n",
       "  0.20770666666666676,\n",
       "  0.2861200000000001],\n",
       " [-0.14949333333333337,\n",
       "  0.2665733333333332,\n",
       "  -0.38429333333333326,\n",
       "  -0.4198799999999999],\n",
       " [-0.2034933333333334,\n",
       "  -0.23542666666666676,\n",
       "  -0.13329333333333326,\n",
       "  -0.04687999999999992],\n",
       " [0.10150666666666663,\n",
       "  0.14057333333333322,\n",
       "  0.2747066666666667,\n",
       "  0.45512000000000014]]"
      ]
     },
     "execution_count": 99,
     "metadata": {},
     "output_type": "execute_result"
    }
   ],
   "source": [
    "preprocessed_input_data = [[sepal_length[i], sepal_width[i], petal_length[i], petal_width[i]] for i in range(len(input_data))]\n",
    "preprocessed_input_data"
   ]
  },
  {
   "cell_type": "code",
   "execution_count": 125,
   "id": "56be1bc6",
   "metadata": {},
   "outputs": [],
   "source": [
    "c1 = []\n",
    "c2 = []\n",
    "c3 = []\n",
    "\n",
    "for i in range(len(desired_output)):\n",
    "    \n",
    "    if desired_output[i][0] == 1: # Class 1 Setosa\n",
    "        c1.append(preprocessed_input_data[i])\n",
    "    \n",
    "    elif desired_output[i][1] == 1: # Class 2 Versacolor    \n",
    "        c2.append(preprocessed_input_data[i])\n",
    "    \n",
    "    elif desired_output[i][2] == 1: # Class 3 Virginica        \n",
    "        c3.append(preprocessed_input_data[i])\n",
    "    \n",
    "    else:\n",
    "        print(\"There was a mistake, could not find right class\")\n",
    "        \n",
    "c1 = np.asarray(c1)\n",
    "c2 = np.asarray(c2)\n",
    "c3 = np.asarray(c3)"
   ]
  },
  {
   "cell_type": "markdown",
   "id": "0253030c",
   "metadata": {},
   "source": [
    "# BUT WAIT, WE NEEDED TO DIVIDE THIS DATA IN TRAINING AND TEST DATA! And the permutations should be on the classes, not on the whole dataset."
   ]
  },
  {
   "cell_type": "markdown",
   "id": "ce55746e",
   "metadata": {},
   "source": [
    "The train and test data will be divided in half, based on each of the classes size."
   ]
  },
  {
   "cell_type": "code",
   "execution_count": 129,
   "id": "ce85050b",
   "metadata": {},
   "outputs": [],
   "source": [
    "permute_c1 = np.random.permutation(c1)\n",
    "train_c1 = [permute_c1[i] for i in range(round(len(c1)/2))]\n",
    "test_c1 = [permute_c1[i+round(len(c1)/2)] for i in range(len(c1)-len(train_c1))]\n",
    "\n",
    "permute_c2 = np.random.permutation(c2)\n",
    "train_c2 = [permute_c2[i] for i in range(round(len(c2)/2))]\n",
    "test_c2 = [permute_c2[i+round(len(c2)/2)] for i in range(len(c2)-len(train_c2))]\n",
    "\n",
    "permute_c3 = np.random.permutation(c3)\n",
    "train_c3 = [permute_c3[i] for i in range(round(len(c3)/2))]\n",
    "test_c3 = [permute_c3[i+round(len(c3)/2)] for i in range(len(c3)-len(train_c3))]"
   ]
  },
  {
   "cell_type": "code",
   "execution_count": 130,
   "id": "5aacc45c",
   "metadata": {},
   "outputs": [],
   "source": [
    "# Now, we want to combine all the test in the same vector, as well as their corresponging desired outputs.\n",
    "desired_output_test_c1 = [[1, 0, 0] for i in range(len(test_c1))]\n",
    "desired_output_test_c2 = [[0, 1, 0] for i in range(len(test_c2))]\n",
    "desired_output_test_c3 = [[0, 0, 1] for i in range(len(test_c3))]\n",
    "\n",
    "desired_output_train_c1 = [[1, 0, 0] for i in range(len(train_c1))]\n",
    "desired_output_train_c2 = [[0, 1, 0] for i in range(len(train_c2))]\n",
    "desired_output_train_c3 = [[0, 0, 1] for i in range(len(train_c3))]\n",
    "\n",
    "concat_train = np.concatenate([train_c1, train_c2, train_c3])\n",
    "concat_train_desired_outputs = np.concatenate([desired_output_train_c1, desired_output_train_c2, desired_output_train_c3])\n",
    "\n",
    "concat_test = np.concatenate([test_c1, test_c2, test_c3])\n",
    "concat_test_desired_outputs = np.concatenate([desired_output_test_c1, desired_output_test_c2, desired_output_test_c3])\n",
    "\n",
    "# And then permute this and feed it to the ANN\n",
    "indices_train = [i for i in range(len(concat_train))]\n",
    "permute_train_i = np.random.permutation(indices_train)\n",
    "\n",
    "train_input = np.asarray([concat_train[permute_train_i[i]] for i in range(len(permute_train_i))])\n",
    "train_desired_output = [concat_train_desired_outputs[permute_train_i[i]] for i in range(len(permute_train_i))]\n",
    "\n",
    "indices_test = [i for i in range(len(concat_test))]\n",
    "permute_test_i = np.random.permutation(indices_test)\n",
    "\n",
    "test_input = np.asarray([concat_test[permute_test_i[i]] for i in range(len(permute_train_i))])\n",
    "test_desired_output = [concat_train_desired_outputs[permute_train_i[i]] for i in range(len(permute_train_i))]"
   ]
  },
  {
   "cell_type": "code",
   "execution_count": 131,
   "id": "6b0589d6",
   "metadata": {},
   "outputs": [
    {
     "name": "stdout",
     "output_type": "stream",
     "text": [
      "12\n",
      "13\n",
      "25\n"
     ]
    }
   ],
   "source": [
    "print(len(train_c3))\n",
    "print(len(test_c3))\n",
    "print(len(c3))"
   ]
  },
  {
   "cell_type": "code",
   "execution_count": 80,
   "id": "609b56be",
   "metadata": {
    "scrolled": true
   },
   "outputs": [
    {
     "data": {
      "text/plain": [
       "PCA()"
      ]
     },
     "execution_count": 80,
     "metadata": {},
     "output_type": "execute_result"
    }
   ],
   "source": [
    "pca = PCA()\n",
    "pca.fit(preprocessed_input_data.T)"
   ]
  },
  {
   "cell_type": "code",
   "execution_count": 86,
   "id": "e3a6a28a",
   "metadata": {
    "scrolled": true
   },
   "outputs": [
    {
     "name": "stdout",
     "output_type": "stream",
     "text": [
      "The 4 principal eigenvectors\n",
      "[[ 0.39957069 -0.1953196   0.61184299  0.65409607]\n",
      " [-0.43304502 -0.89878279  0.04789885 -0.04865398]\n",
      " [-0.74353538  0.32481948 -0.03451457  0.58348623]\n",
      " [-0.31618098  0.22029993  0.78877284 -0.47888927]]\n"
     ]
    }
   ],
   "source": [
    "eigenvectors = pca.components_\n",
    "print(\"The 4 principal eigenvectors\")\n",
    "print(eigenvectors)"
   ]
  },
  {
   "cell_type": "code",
   "execution_count": 85,
   "id": "294ade2d",
   "metadata": {},
   "outputs": [
    {
     "data": {
      "image/png": "[encoded data removed]",
      "text/plain": [
       "<Figure size 432x288 with 1 Axes>"
      ]
     },
     "metadata": {
      "needs_background": "light"
     },
     "output_type": "display_data"
    }
   ],
   "source": [
    "plt.plot(pca.singular_values_**2, marker=\"o\") # Note: eigenvalues are the singular values squared\n",
    "plt.title(\"Eigenvalue spectrum\")\n",
    "plt.xlabel(\"Eigenvalue index\")\n",
    "plt.ylabel(\"Eigenvalues\")\n",
    "plt.show()"
   ]
  },
  {
   "cell_type": "code",
   "execution_count": 90,
   "id": "9286eaf1",
   "metadata": {},
   "outputs": [
    {
     "data": {
      "text/plain": [
       "array([[ 1.,  0., -0.,  0.],\n",
       "       [ 0.,  1.,  0.,  0.],\n",
       "       [-0.,  0.,  1., -0.],\n",
       "       [ 0.,  0., -0.,  1.]])"
      ]
     },
     "execution_count": 90,
     "metadata": {},
     "output_type": "execute_result"
    }
   ],
   "source": [
    "# Note how the eigenvector matrix times its transpose is the identity.\n",
    "np.round(np.matmul(eigenvectors, eigenvectors.T))"
   ]
  },
  {
   "cell_type": "code",
   "execution_count": null,
   "id": "21e2359f",
   "metadata": {},
   "outputs": [],
   "source": [
    "1. Standarize the data\n",
    "2. Covariance matrix\n",
    "3. Eigenvectors\n",
    "4. Eigenvector matrix"
   ]
  },
  {
   "attachments": {
    "image.png": {
     "image/png": "[encoded data removed]"
    }
   },
   "cell_type": "markdown",
   "id": "6fad3a23",
   "metadata": {},
   "source": [
    "# Exercise 2.2\n",
    "Write a function to implement eq. 10.21 in L10-Unsupervised (pdf 20). The Generalized Hebbian Algorithm which only has elements in the lower diagonal:\n",
    "![image.png](attachment:image.png)"
   ]
  },
  {
   "cell_type": "code",
   "execution_count": null,
   "id": "718c03fa",
   "metadata": {},
   "outputs": [],
   "source": [
    "# Implement the generalized Hebbian algorithm\n",
    "\n",
    "lr = 0.005 # Learning rate, could also try 0.0001\n",
    "# We need 4 input PEs\n",
    "# Also need 1 ouptut PE which will then be 4 PEs\n",
    "# We have a matrix of weights which connect the input PEs to the output PEs\n",
    "# Use only 1 output PE and that output should be the first eigenvector.\n",
    "\n",
    "\n",
    "multiplication = wkj*yk # But this multiplication is only of the lower triangle matrix\n",
    "wij_next = wij + lr*yi*(xj - np.sum(multiplication))"
   ]
  },
  {
   "cell_type": "markdown",
   "id": "7554391d",
   "metadata": {},
   "source": [
    "# Why don't you try little by little. Make 2 for loops, for iterating each matrix element. And applying the corresponding update rule in case the element is on or below the diagonal."
   ]
  },
  {
   "cell_type": "code",
   "execution_count": 119,
   "id": "2fa28331",
   "metadata": {},
   "outputs": [
    {
     "ename": "SyntaxError",
     "evalue": "invalid syntax (1250775022.py, line 4)",
     "output_type": "error",
     "traceback": [
      "\u001b[0;36m  File \u001b[0;32m\"/tmp/ipykernel_20200/1250775022.py\"\u001b[0;36m, line \u001b[0;32m4\u001b[0m\n\u001b[0;31m    trainNetwork <- function(Xnorm,n_components,eta) {\u001b[0m\n\u001b[0m                                                     ^\u001b[0m\n\u001b[0;31mSyntaxError\u001b[0m\u001b[0;31m:\u001b[0m invalid syntax\n"
     ]
    }
   ],
   "source": [
    "# Generalized Hebbian algorithm, modified from Anastasia Makarevich\n",
    "# https://rstudio-pubs-static.s3.amazonaws.com/248389_27c0ad59e4eb4f0a9117e5044c12a86a.html\n",
    "\n",
    "def trainNetwork(Xnorm,n_components,eta):\n",
    "        # initialize\n",
    "        X_columns, n_features = Xnorm.shape[0], Xnorm.shape[1] # nrow, ncol(Xnorm)        \n",
    "        epochs = 10000 # Elevate to the 4th power?\n",
    "        z = epochs*X_columns\n",
    "        # Initializes weight matrix with normalized random values between -1 and 1\n",
    "        W = np.random.rand(n_components, n_features)*2 # row, column # COULD BE WRONG, CHECK!\n",
    "        # SHould the weight matrix be normalized?\n",
    "        \n",
    "        Y = np.zeros(1, n_components)\n",
    "        \n",
    "        # train\n",
    "        for for n in range(z):\n",
    "            ind = n%%(n_obs)+1 # What does this symbol mean?\n",
    "            for j in range(n_components):\n",
    "                Y[ind,j] = W[j,]%*%Xnorm[ind,]\n",
    "                W[j,] = W[j,]+eta*(Y[ind,j]*Xnorm[ind,]-Y[ind,j]*(Y[ind,1:j]%*%W[1:j,]))\n",
    "                    \n",
    "        return Y, W #(data = Y, pc = W)"
   ]
  },
  {
   "cell_type": "code",
   "execution_count": 137,
   "id": "e965b8f2",
   "metadata": {
    "scrolled": true
   },
   "outputs": [
    {
     "data": {
      "text/plain": [
       "36"
      ]
     },
     "execution_count": 137,
     "metadata": {},
     "output_type": "execute_result"
    }
   ],
   "source": [
    "train_input.shape[0]"
   ]
  },
  {
   "cell_type": "code",
   "execution_count": null,
   "id": "1b11c4ef",
   "metadata": {},
   "outputs": [],
   "source": [
    "eta = 0.005 # Learning rate, could also try 0.0001\n",
    "results = trainNetwork(train,4,eta) # use centered data\n",
    "W = results$pc\n",
    "Y = results$data"
   ]
  },
  {
   "cell_type": "code",
   "execution_count": null,
   "id": "4da785f7",
   "metadata": {},
   "outputs": [],
   "source": [
    "# Principal components\n",
    "print(W)"
   ]
  },
  {
   "cell_type": "code",
   "execution_count": null,
   "id": "0e8d34e0",
   "metadata": {},
   "outputs": [],
   "source": [
    "# Compare to PCA"
   ]
  },
  {
   "cell_type": "code",
   "execution_count": null,
   "id": "7415e8b2",
   "metadata": {},
   "outputs": [],
   "source": []
  },
  {
   "cell_type": "code",
   "execution_count": null,
   "id": "200f5f1f",
   "metadata": {},
   "outputs": [],
   "source": []
  }
 ],
 "metadata": {
  "kernelspec": {
   "display_name": "Python 3 (ipykernel)",
   "language": "python",
   "name": "python3"
  },
  "language_info": {
   "codemirror_mode": {
    "name": "ipython",
    "version": 3
   },
   "file_extension": ".py",
   "mimetype": "text/x-python",
   "name": "python",
   "nbconvert_exporter": "python",
   "pygments_lexer": "ipython3",
   "version": "3.8.8"
  }
 },
 "nbformat": 4,
 "nbformat_minor": 5
}
