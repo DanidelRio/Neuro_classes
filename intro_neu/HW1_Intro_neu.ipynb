{
  "nbformat": 4,
  "nbformat_minor": 0,
  "metadata": {
    "kernelspec": {
      "display_name": "Python 3",
      "language": "python",
      "name": "python3"
    },
    "language_info": {
      "codemirror_mode": {
        "name": "ipython",
        "version": 3
      },
      "file_extension": ".py",
      "mimetype": "text/x-python",
      "name": "python",
      "nbconvert_exporter": "python",
      "pygments_lexer": "ipython3",
      "version": "3.7.3"
    },
    "colab": {
      "name": "HW1_Intro_neu.ipynb",
      "provenance": [],
      "collapsed_sections": []
    }
  },
  "cells": [
    {
      "cell_type": "markdown",
      "metadata": {
        "id": "l3BDFmjtuz-b"
      },
      "source": [
        "# Introduction to neuroengineering\n",
        "# Homework 1\n",
        "\n",
        "### Ana Daniela del Rio Pulido"
      ]
    },
    {
      "cell_type": "code",
      "metadata": {
        "id": "YvgR2U-Ouz-i"
      },
      "source": [
        "import numpy as np\n",
        "import matplotlib.pyplot as plt"
      ],
      "execution_count": 1,
      "outputs": []
    },
    {
      "cell_type": "code",
      "metadata": {
        "id": "CQH_QbaVvEfK"
      },
      "source": [
        "def voltage(sign, concentration_in, concentration_out):\n",
        "  return sign*26.7*np.log(concentration_out/concentration_in)\n",
        "\n",
        "def ohmic_model(V_K, V_Na=70.84, V_Cl=-98.49, g_K=10**(-2), g_Na=10**(-3), g_Cl=10**(-3)):\n",
        "  return (g_K*V_K + g_Na*V_Na + g_Cl*V_Cl)/(g_K + g_Na + g_Cl)\n",
        "\n",
        "\n",
        "def GHK_model(K_out=5, Na_out=142, Cl_out=200, K_in=148, Na_in=10, Cl_in=5,\n",
        "              P_K=1, P_Na=0.03, P_Cl=0.1, R=8.314, T=310.15, F=96485.34):\n",
        "  \n",
        "  numerator   = P_K*K_out + P_Na*Na_out + P_Cl*Cl_in\n",
        "  denominator = P_K*K_in  + P_Na*Na_in  + P_Cl*Cl_out\n",
        "\n",
        "  return (R*T/F)*np.log(numerator/denominator)*1000 # For obtaining mV units"
      ],
      "execution_count": 2,
      "outputs": []
    },
    {
      "cell_type": "code",
      "metadata": {
        "id": "TwSrRXuxxfB5"
      },
      "source": [
        "K_sign = 1\n",
        "K_concentration_in = 148\n",
        "K_concentration_out = 5\n",
        "\n",
        "concentrations  =  [0.1*i+0.1 for i in range(1650)]\n",
        "v_ohmic         =  np.zeros(len(concentrations))\n",
        "v_GHK           =  np.zeros(len(concentrations))\n",
        "\n",
        "for i in range(len(concentrations)):\n",
        "  V_K         =  voltage(K_sign, K_concentration_in, concentrations[i])\n",
        "  v_ohmic[i]  =  ohmic_model(V_K)\n",
        "  v_GHK[i]    =  GHK_model(concentrations[i])"
      ],
      "execution_count": 3,
      "outputs": []
    },
    {
      "cell_type": "code",
      "metadata": {
        "colab": {
          "base_uri": "https://localhost:8080/",
          "height": 299
        },
        "id": "KxnES5XC0uMR",
        "outputId": "2313ee70-2d47-4eba-d2a2-13b30c2bdabc"
      },
      "source": [
        "plt.plot(concentrations, v_ohmic, label =\"Ohmic\", color = \"black\")\n",
        "plt.plot(concentrations, v_GHK, label =\"GHK\", color = \"blue\")\n",
        "plt.xlabel(\"$[K]_{out}$ [mM]\")\n",
        "plt.ylabel(\"Membrane potential [mV]\")\n",
        "plt.title(\"Membrane potential predictions\")\n",
        "plt.legend()\n",
        "plt.show()"
      ],
      "execution_count": 4,
      "outputs": [
        {
          "output_type": "display_data",
          "data": {
            "image/png": "[encoded data removed]",
            "text/plain": [
              "<Figure size 432x288 with 1 Axes>"
            ]
          },
          "metadata": {
            "needs_background": "light"
          }
        }
      ]
    },
    {
      "cell_type": "code",
      "metadata": {
        "id": "c4PXk0r5V2Kr"
      },
      "source": [
        "percent_difference = [100*np.abs(v_ohmic[i]-v_GHK[i])/v_GHK[i] for i in range(len(v_ohmic))]"
      ],
      "execution_count": 5,
      "outputs": []
    },
    {
      "cell_type": "code",
      "metadata": {
        "colab": {
          "base_uri": "https://localhost:8080/",
          "height": 299
        },
        "id": "7qdhMDL0VzAf",
        "outputId": "df050f1e-72a3-496f-d24e-d86faa37442a"
      },
      "source": [
        "plt.plot(concentrations, percent_difference, color = \"black\")\n",
        "plt.xlabel(\"$[K]_{out}$ [mM]\")\n",
        "plt.ylabel(\"% difference\")\n",
        "plt.title(\"Percent difference\")\n",
        "plt.show()"
      ],
      "execution_count": 6,
      "outputs": [
        {
          "output_type": "display_data",
          "data": {
            "image/png": "[encoded data removed]",
            "text/plain": [
              "<Figure size 432x288 with 1 Axes>"
            ]
          },
          "metadata": {
            "needs_background": "light"
          }
        }
      ]
    },
    {
      "cell_type": "code",
      "metadata": {
        "colab": {
          "base_uri": "https://localhost:8080/"
        },
        "id": "PlzDd9ViWS2X",
        "outputId": "d6d4abf4-08b2-42b9-89bb-c2a520d5f45f"
      },
      "source": [
        "print(min(percent_difference))\n",
        "print(np.where(percent_difference == min(percent_difference)))\n",
        "print(concentrations[1634])"
      ],
      "execution_count": 7,
      "outputs": [
        {
          "output_type": "stream",
          "name": "stdout",
          "text": [
            "-1286.0693554560855\n",
            "(array([1634]),)\n",
            "163.5\n"
          ]
        }
      ]
    }
  ]
}